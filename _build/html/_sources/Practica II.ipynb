{
 "cells": [
  {
   "cell_type": "markdown",
   "id": "7b8b959a-c099-40df-9f98-89db639b488f",
   "metadata": {},
   "source": [
    "# Práctica II"
   ]
  },
  {
   "cell_type": "markdown",
   "id": "e171072d-6d31-4814-a2c0-a3fc7bb9319d",
   "metadata": {},
   "source": [
    "## Resuelve los siguientes ejercicios."
   ]
  },
  {
   "cell_type": "markdown",
   "id": "25a63797-76f4-4f0f-ac1c-abfc7beb6337",
   "metadata": {},
   "source": [
    "- Con un ciclo for imprimir por pantalla las cuatro estaciones del año."
   ]
  },
  {
   "cell_type": "markdown",
   "id": "a2528e3a-4d12-432f-8271-91bbc53b58a6",
   "metadata": {},
   "source": [
    "-  <div align=\"justify\">Escribir un programa que pregunte el nombre completo del usuario en la consola y después muestre por pantalla el nombre completo del usuario tres veces, una con todas las letras minúsculas, otra con todas las letras mayúsculas y otra solo con la primera letra del nombre y de los apellidos en mayúscula.El usuario puede introducir su nombre combinando mayúsculas y minúsculas como quiera.</div>"
   ]
  },
  {
   "cell_type": "markdown",
   "id": "0cd6b990-2059-4206-a2d7-019df4942ac8",
   "metadata": {},
   "source": [
    "- Crea una variable para almacenar tu edad y otra para la edad de un amigo. Luego, compara las edades utilizando operadores relacionales y muestra el resultado."
   ]
  },
  {
   "cell_type": "markdown",
   "id": "42db404c-a41e-48ca-b67f-80f5ffcf4466",
   "metadata": {},
   "source": [
    "- Escribir un programa que pregunte el nombre y luego lo escriba en minuscula, mayuscula y como título."
   ]
  },
  {
   "cell_type": "markdown",
   "id": "aa77e7d9-aa65-49d9-bb5a-5fcc65d88903",
   "metadata": {},
   "source": [
    "-  Crea una función que reciba una lista de números y devuelva el máximo y el mínimo de la lista."
   ]
  },
  {
   "cell_type": "markdown",
   "id": "17f578ef-50f2-44e1-86f5-9896cbabc346",
   "metadata": {},
   "source": [
    "- Sumar los números de la siguiente lista a través de un ciclo for:[1,2,3,4,5,6,7,8,9,10]"
   ]
  },
  {
   "cell_type": "markdown",
   "id": "b937200e-8b5d-4c6c-bd63-58d6f2e488bd",
   "metadata": {},
   "source": [
    "## Solucionario"
   ]
  },
  {
   "cell_type": "markdown",
   "id": "0d214929-b5bd-486d-a31c-dabfbc99ce1c",
   "metadata": {},
   "source": [
    "```{warning}\n",
    "Recuerda que los algoritmos que se ofrecen en este solucionario no son respuestas únicas y son solo guías para orientar el aprendizaje.\n",
    "```"
   ]
  },
  {
   "cell_type": "markdown",
   "id": "5e83898e-c5ad-4f1f-9a63-f6fb17f9acb0",
   "metadata": {},
   "source": [
    "- Con un ciclo for imprimir por pantalla las cuatro estaciones del año."
   ]
  },
  {
   "cell_type": "code",
   "execution_count": 42,
   "id": "0e53b8ce-5329-48d8-8981-e49637b0094d",
   "metadata": {
    "tags": []
   },
   "outputs": [
    {
     "name": "stdout",
     "output_type": "stream",
     "text": [
      "primavera\n",
      "verano\n",
      "otoño\n",
      "invierno\n"
     ]
    }
   ],
   "source": [
    "for i in [\"primavera\", \"verano\", \"otoño\", \"invierno\"]:\n",
    "    print (i)"
   ]
  },
  {
   "cell_type": "markdown",
   "id": "77e18086-ecb8-4285-9efa-77c01734316a",
   "metadata": {},
   "source": [
    "-  <div align=\"justify\">Escribir un programa que pregunte el nombre completo del usuario en la consola y después muestre por pantalla el nombre completo del usuario tres veces, una con todas las letras minúsculas, otra con todas las letras mayúsculas y otra solo con la primera letra del nombre y de los apellidos en mayúscula.El usuario puede introducir su nombre combinando mayúsculas y minúsculas como quiera.</div>"
   ]
  },
  {
   "cell_type": "code",
   "execution_count": 43,
   "id": "c533a65a-9a85-4d29-b23b-b2afe4601aca",
   "metadata": {
    "tags": []
   },
   "outputs": [
    {
     "name": "stdin",
     "output_type": "stream",
     "text": [
      "¿Cómo te llamas?  Claudio\n"
     ]
    },
    {
     "name": "stdout",
     "output_type": "stream",
     "text": [
      "claudio\n",
      "CLAUDIO\n",
      "Claudio\n"
     ]
    }
   ],
   "source": [
    "nombre = input(\"¿Cómo te llamas? \")\n",
    "print(nombre.lower())\n",
    "print(nombre.upper())\n",
    "print(nombre.title())"
   ]
  },
  {
   "cell_type": "markdown",
   "id": "05372997-3090-4920-b5f0-946b6830b9f2",
   "metadata": {},
   "source": [
    "- Crea una variable para almacenar tu edad y otra para la edad de un amigo. Luego, compara las edades utilizando operadores relacionales y muestra el resultado."
   ]
  },
  {
   "cell_type": "code",
   "execution_count": 40,
   "id": "50f28570-5c08-4284-aa87-41e110df6d16",
   "metadata": {
    "tags": []
   },
   "outputs": [
    {
     "name": "stdout",
     "output_type": "stream",
     "text": [
      "¿Mi edad es mayor que la de mi amigo? True\n"
     ]
    }
   ],
   "source": [
    "mi_edad = 30\n",
    "edad_amigo = 25\n",
    "\n",
    "resultado = mi_edad > edad_amigo\n",
    "print(\"¿Mi edad es mayor que la de mi amigo?\", resultado)"
   ]
  },
  {
   "cell_type": "markdown",
   "id": "497861d7-7fe5-41b1-9930-dbcc3272f952",
   "metadata": {},
   "source": [
    "- Escribir un programa que pregunte el nombre y luego lo escriba en minuscula, mayuscula y como título."
   ]
  },
  {
   "cell_type": "code",
   "execution_count": 18,
   "id": "bd2e7d43-5692-4c7e-9fb1-60eade2eb907",
   "metadata": {
    "tags": []
   },
   "outputs": [
    {
     "name": "stdin",
     "output_type": "stream",
     "text": [
      "¿Cómo te llamas?  Claudio\n"
     ]
    },
    {
     "name": "stdout",
     "output_type": "stream",
     "text": [
      "CLAUDIO tiene 7 letras\n"
     ]
    }
   ],
   "source": [
    "nombre = input(\"¿Cómo te llamas? \")\n",
    "print(nombre.upper() + \" tiene \" + str(len(nombre)) + \" letras\")"
   ]
  },
  {
   "cell_type": "markdown",
   "id": "aa56e3c3-218f-4d55-a280-4c904c84fcbf",
   "metadata": {},
   "source": [
    "-  Crea una función que reciba una lista de números y devuelva el máximo y el mínimo de la lista."
   ]
  },
  {
   "cell_type": "code",
   "execution_count": 41,
   "id": "a895c93b-4c81-43e0-82f2-654db944b4be",
   "metadata": {
    "tags": []
   },
   "outputs": [
    {
     "name": "stdout",
     "output_type": "stream",
     "text": [
      "Máximo: 20\n",
      "Mínimo: 5\n"
     ]
    }
   ],
   "source": [
    "def maximo_minimo(lista):\n",
    "    maximo = max(lista)\n",
    "    minimo = min(lista)\n",
    "    return maximo, minimo\n",
    "\n",
    "numeros = [10, 5, 20, 15]\n",
    "maximo, minimo = maximo_minimo(numeros)\n",
    "print(\"Máximo:\", maximo)\n",
    "print(\"Mínimo:\", minimo)"
   ]
  },
  {
   "cell_type": "markdown",
   "id": "813f77d5-bf1d-4c18-89b9-a14af65d49e6",
   "metadata": {},
   "source": [
    "- Sumar los números de la siguiente lista a través de un ciclo for:[1,2,3,4,5,6,7,8,9,10]"
   ]
  },
  {
   "cell_type": "code",
   "execution_count": 2,
   "id": "a8358d3c-de0e-45d4-9ae8-1a1453616869",
   "metadata": {},
   "outputs": [
    {
     "name": "stdout",
     "output_type": "stream",
     "text": [
      "La suma de los números en la lista es: 55\n"
     ]
    }
   ],
   "source": [
    "# Ejercicio 2: Sumar los números de una lista\n",
    "numeros = [1, 2, 3, 4, 5, 6, 7, 8, 9, 10]\n",
    "suma = 0\n",
    "\n",
    "for numero in numeros:\n",
    "    suma += numero\n",
    "\n",
    "print(\"La suma de los números en la lista es:\", suma)\n"
   ]
  },
  {
   "cell_type": "code",
   "execution_count": null,
   "id": "803874bb-76a6-4416-8c12-60ef1f077f92",
   "metadata": {},
   "outputs": [],
   "source": []
  }
 ],
 "metadata": {
  "kernelspec": {
   "display_name": "Python 3",
   "language": "python",
   "name": "python3"
  },
  "language_info": {
   "codemirror_mode": {
    "name": "ipython",
    "version": 3
   },
   "file_extension": ".py",
   "mimetype": "text/x-python",
   "name": "python",
   "nbconvert_exporter": "python",
   "pygments_lexer": "ipython3",
   "version": "3.8.18"
  },
  "toc-autonumbering": false
 },
 "nbformat": 4,
 "nbformat_minor": 5
}

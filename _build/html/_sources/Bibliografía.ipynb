{
 "cells": [
  {
   "cell_type": "markdown",
   "id": "ce46306d-2a7f-4c50-9faf-00c8b8d82200",
   "metadata": {
    "tags": []
   },
   "source": [
    "# Bibliografía\n",
    "\n",
    "- Colaboradores de los proyectos Wikimedia. “Guido van Rossum - Wikipedia, la enciclopedia libre”. Wikipedia, la enciclopedia libre. Accedido el 18 de mayo de 2024. [En línea]. Disponible: https://es.wikipedia.org/wiki/Guido_van_Rossum\n",
    "\n",
    "- Datos abiertos del Gobierno de España – Datos.gob.es. Accedido el 19 de mayo de 2024. [En línea]. Disponible: https://datos.gob.es/es/blog/como-elegir-el-grafico-correcto-para-visualizar-datos-abiertos\n",
    "\n",
    "- Desafío Latam. Accedido el 21 de junio de 2024. [En línea]. Disponible: https://blog.desafiolatam.com/que-es-un-dataframe/\n",
    "\n",
    "- Diego Coder (Medium). Accedido el 22 de junio de 2024. [En línea]. Disponible: https://medium.com/@diego.coder/variables-y-tipos-de-datos-en-python-str-int-bool-etc-45ac17e6acc7\n",
    "\n",
    "- “JupyterLab Documentation — JupyterLab 4.2.0 documentation”. JupyterLab Documentation — JupyterLab 4.2.0 documentation. Accedido el 18 de mayo de 2024. [En línea]. Disponible: https://jupyterlab.readthedocs.io/en/latest/\n",
    "\n",
    "- “3.12.3 Documentation”. 3.12.3 Documentation. Accedido el 18 de mayo de 2024. [En línea]. Disponible: https://docs.python.org/3/\n",
    "\n",
    "- “Matplotlib — Visualization with Python”. Matplotlib — Visualization with Python. Accedido el 19 de mayo de 2024. [En línea]. Disponible: https://matplotlib.org\n",
    "\n",
    "- “NumPy -”. NumPy -. Accedido el 19 de mayo de 2024. [En línea]. Disponible: https://numpy.org\n",
    "\n",
    "- “Pandas - Python Data Analysis Library”. pandas - Python Data Analysis Library. Accedido el 19 de mayo de 2024. [En línea]. Disponible: https://pandas.pydata.org\n",
    "\n",
    "- “Pandoc - Installing pandoc”. Pandoc - index. Accedido el 19 de mayo de 2024. [En línea]. Disponible: https://pandoc.org/installing.html\n",
    "\n",
    "- “Seaborn: statistical data visualization — seaborn 0.13.2 documentation”. seaborn: statistical data visualization — seaborn 0.13.2 documentation. Accedido el 19 de mayo de 2024. [En línea]. Disponible: https://seaborn.pydata.org\n",
    "\n"
   ]
  },
  {
   "cell_type": "code",
   "execution_count": null,
   "id": "06135869-58b1-4ea1-a8e1-1f6ad757854c",
   "metadata": {},
   "outputs": [],
   "source": []
  }
 ],
 "metadata": {
  "kernelspec": {
   "display_name": "Python 3",
   "language": "python",
   "name": "python3"
  },
  "language_info": {
   "codemirror_mode": {
    "name": "ipython",
    "version": 3
   },
   "file_extension": ".py",
   "mimetype": "text/x-python",
   "name": "python",
   "nbconvert_exporter": "python",
   "pygments_lexer": "ipython3",
   "version": "3.8.18"
  }
 },
 "nbformat": 4,
 "nbformat_minor": 5
}

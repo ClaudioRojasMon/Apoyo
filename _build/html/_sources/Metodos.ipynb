{
 "cells": [
  {
   "cell_type": "markdown",
   "id": "d14b6a6f-9eac-4b0c-995a-a1154a56dd36",
   "metadata": {},
   "source": [
    "# Métodos "
   ]
  },
  {
   "cell_type": "markdown",
   "id": "d31cf330-8463-4466-a669-809cdd0566f2",
   "metadata": {},
   "source": [
    "```{admonition} ¿Qué son los Métodos?\n",
    "<div align=\"justify\">Python también es un lenguaje de programación orientado a objetos que utiliza clases y objetos. Los <strong>Métodos</strong> de Python son funciones que están asociadas con un objeto o una clase en la programación de Python. Se utilizan para realizar tareas u operaciones específicas sobre los datos almacenados dentro de objetos o clases.</div>\n",
    "```"
   ]
  },
  {
   "cell_type": "markdown",
   "id": "a1c2b94a-8bc2-49f8-92cc-367cd527378e",
   "metadata": {},
   "source": [
    "## Métodos para Listas Diccionarios o Tuplas"
   ]
  },
  {
   "cell_type": "markdown",
   "id": "92e7e979-1669-4249-915c-4235f78dab7f",
   "metadata": {},
   "source": [
    "- append(): agrega un elemento al final de una lista."
   ]
  },
  {
   "cell_type": "code",
   "execution_count": 1,
   "id": "16c7f1f5-5015-4d9e-80ae-a424a59c91c7",
   "metadata": {},
   "outputs": [
    {
     "data": {
      "text/plain": [
       "[2, 3, 5, 7, 9, 11, 13]"
      ]
     },
     "execution_count": 1,
     "metadata": {},
     "output_type": "execute_result"
    }
   ],
   "source": [
    "numeros_primos= [2, 3, 5, 7, 9, 11] \n",
    "numeros_primos.append(13) \n",
    "numeros_primos"
   ]
  },
  {
   "cell_type": "markdown",
   "id": "72c18fb6-cb8b-400a-8243-2fc793d43b18",
   "metadata": {},
   "source": [
    "- <strong>insert()</strong>: inserta un elemento a la lista en un indice especifico."
   ]
  },
  {
   "cell_type": "code",
   "execution_count": 2,
   "id": "907afb76-88a7-4530-a64b-92b9e9a5f51e",
   "metadata": {},
   "outputs": [
    {
     "data": {
      "text/plain": [
       "[2, 3, 5, 7, 13, 9, 11]"
      ]
     },
     "execution_count": 2,
     "metadata": {},
     "output_type": "execute_result"
    }
   ],
   "source": [
    "numeros_primos= [2, 3, 5, 7, 9, 11]\n",
    "numeros_primos.insert(4,13)\n",
    "numeros_primos"
   ]
  },
  {
   "cell_type": "markdown",
   "id": "f4343000-b16e-4c12-a275-33d1b3bdd62a",
   "metadata": {},
   "source": [
    "- <strong>remove()</strong>: remueve el primer elemento coincidente (que se pasa como argumento) de la lista."
   ]
  },
  {
   "cell_type": "code",
   "execution_count": 3,
   "id": "33517195-658c-4cb8-8c82-1531507711dd",
   "metadata": {},
   "outputs": [
    {
     "data": {
      "text/plain": [
       "[2, 3, 5, 7, 11]"
      ]
     },
     "execution_count": 3,
     "metadata": {},
     "output_type": "execute_result"
    }
   ],
   "source": [
    "numeros_primos= [2, 3, 5, 7, 9, 11]\n",
    "numeros_primos.remove(9)\n",
    "numeros_primos"
   ]
  },
  {
   "cell_type": "markdown",
   "id": "005f0638-b926-44b4-acb4-7da75d052b97",
   "metadata": {},
   "source": [
    "- <strong>reverse()</strong>: invierte los elementos de la lista."
   ]
  },
  {
   "cell_type": "code",
   "execution_count": 4,
   "id": "b63a0656-3574-419d-9926-aa6cbb6dad3a",
   "metadata": {},
   "outputs": [
    {
     "data": {
      "text/plain": [
       "[11, 9, 7, 5, 3, 2]"
      ]
     },
     "execution_count": 4,
     "metadata": {},
     "output_type": "execute_result"
    }
   ],
   "source": [
    "numeros_primos= [2, 3, 5, 7, 9, 11]\n",
    "numeros_primos.reverse()\n",
    "numeros_primos"
   ]
  },
  {
   "cell_type": "markdown",
   "id": "5b90abcf-2137-4b51-aaac-2a754f43c08d",
   "metadata": {},
   "source": [
    "- <strong>sort()</strong>:Este ordena los elementos de una lista en orden ascendente o descendente."
   ]
  },
  {
   "cell_type": "code",
   "execution_count": 5,
   "id": "671535db-33b4-429f-90fe-87466a3adcfc",
   "metadata": {},
   "outputs": [
    {
     "data": {
      "text/plain": [
       "[2, 3, 5, 7, 9, 11]"
      ]
     },
     "execution_count": 5,
     "metadata": {},
     "output_type": "execute_result"
    }
   ],
   "source": [
    "numeros_primos= [2, 3, 11, 9, 7,5]\n",
    "numeros_primos.sort()\n",
    "numeros_primos"
   ]
  },
  {
   "cell_type": "markdown",
   "id": "2a189767-cd18-4e6f-bfbc-7f642a58bf2f",
   "metadata": {},
   "source": [
    "- <strong>copy()</strong>.: devuelve una copia superficial de la lista."
   ]
  },
  {
   "cell_type": "code",
   "execution_count": 6,
   "id": "5b110247-4c52-4658-98c9-f518e2e05562",
   "metadata": {},
   "outputs": [
    {
     "data": {
      "text/plain": [
       "[2, 3, 5, 7, 9, 11]"
      ]
     },
     "execution_count": 6,
     "metadata": {},
     "output_type": "execute_result"
    }
   ],
   "source": [
    "numeros_primos= [2, 3, 5, 7, 9, 11]\n",
    "numeros_primos.copy()\n",
    "numeros_primos"
   ]
  },
  {
   "cell_type": "markdown",
   "id": "14cdf759-0216-4915-9596-c2381b8af3e8",
   "metadata": {},
   "source": [
    "- <strong>clear()</strong>: Este elimina todos los elementos de la lista."
   ]
  },
  {
   "cell_type": "code",
   "execution_count": 7,
   "id": "383537fd-7986-463a-9a59-033ad4eb3c6b",
   "metadata": {},
   "outputs": [
    {
     "data": {
      "text/plain": [
       "[]"
      ]
     },
     "execution_count": 7,
     "metadata": {},
     "output_type": "execute_result"
    }
   ],
   "source": [
    "numeros_primos= [2, 3, 5, 7, 9, 11]\n",
    "numeros_primos.clear()\n",
    "numeros_primos"
   ]
  },
  {
   "cell_type": "markdown",
   "id": "5c9eb734-4618-4709-ace3-cddc85525eb2",
   "metadata": {},
   "source": [
    "- <strong>len()</strong>: Permite obtener la longitud de cualquier objeto de Python, ya sea una lista, una cadena, una tupla o un diccionario."
   ]
  },
  {
   "cell_type": "code",
   "execution_count": 8,
   "id": "b6196b64-579b-4550-9351-f087e81cb2b7",
   "metadata": {},
   "outputs": [
    {
     "data": {
      "text/plain": [
       "5"
      ]
     },
     "execution_count": 8,
     "metadata": {},
     "output_type": "execute_result"
    }
   ],
   "source": [
    "frutas = [\"sandia\",\"mango\",\"cereza\",\"arándano\",\"manzana\"]\n",
    "len(frutas)"
   ]
  },
  {
   "cell_type": "code",
   "execution_count": 9,
   "id": "8f838b98-0628-4a05-abd6-2242332cb1d5",
   "metadata": {},
   "outputs": [
    {
     "name": "stdout",
     "output_type": "stream",
     "text": [
      "6\n"
     ]
    }
   ],
   "source": [
    "print(len(\"Python\"))"
   ]
  },
  {
   "cell_type": "code",
   "execution_count": 10,
   "id": "eacbc3fc-b54f-41a4-8244-0542c14c9a7a",
   "metadata": {},
   "outputs": [
    {
     "name": "stdout",
     "output_type": "stream",
     "text": [
      "2\n"
     ]
    }
   ],
   "source": [
    "# Cuenta los elementos de un diccionario. \n",
    "d = dict([(\"uno\", 1), (\"dos\", 2)]) \n",
    "print(len(d))"
   ]
  },
  {
   "cell_type": "markdown",
   "id": "5c23e6ad-41cf-4d8a-a1ae-3f975a52954e",
   "metadata": {},
   "source": [
    "- <strong>pop()</strong>: Este borra y retorna el último elemento de una lista.\n",
    "<div align=\"justify\">Existe un parámetro opcional que es el índice del elemento que se eliminará de la lista. Si no se especifica ningún índice, pop() elimina y devuelve el último elemento de la lista. Si el índice pasado al método pop() no está en el rango, se lanza la excepción IndexError: índice pop fuera del rango.</div>"
   ]
  },
  {
   "cell_type": "code",
   "execution_count": 11,
   "id": "ea722abd-29bb-46f9-b59b-ef735fd79866",
   "metadata": {},
   "outputs": [
    {
     "data": {
      "text/plain": [
       "'Asunción'"
      ]
     },
     "execution_count": 11,
     "metadata": {},
     "output_type": "execute_result"
    }
   ],
   "source": [
    "capitales = ['Santiago', 'La Paz', 'Lima', 'Brazilia', 'Asunción'];\n",
    "\n",
    "capitales.pop()"
   ]
  },
  {
   "cell_type": "code",
   "execution_count": 12,
   "id": "44c2e531-1a50-4ac2-ae51-4f5fad6a4564",
   "metadata": {},
   "outputs": [
    {
     "name": "stdout",
     "output_type": "stream",
     "text": [
      "Ciudad al índice 2 es  :  Lima\n"
     ]
    }
   ],
   "source": [
    "print (\"Ciudad al índice 2 es  : \", capitales.pop(2))"
   ]
  },
  {
   "cell_type": "code",
   "execution_count": 13,
   "id": "36cc7149-f512-450d-b4ee-eb1426c4e494",
   "metadata": {},
   "outputs": [
    {
     "name": "stdout",
     "output_type": "stream",
     "text": [
      "Ciudad al índice 0 es  :  Santiago\n"
     ]
    }
   ],
   "source": [
    "print (\"Ciudad al índice 0 es  : \", capitales.pop(0))"
   ]
  },
  {
   "cell_type": "code",
   "execution_count": 14,
   "id": "c41de311-99bf-4ac9-af66-00dd10033ce1",
   "metadata": {},
   "outputs": [
    {
     "data": {
      "text/plain": [
       "['La Paz', 'Brazilia']"
      ]
     },
     "execution_count": 14,
     "metadata": {},
     "output_type": "execute_result"
    }
   ],
   "source": [
    "capitales"
   ]
  },
  {
   "cell_type": "markdown",
   "id": "ef16ab75-c1c9-4d80-a76e-e5a719f4204d",
   "metadata": {},
   "source": [
    "- <strong>round()</strong>: esta función redondea el valor de entrada a un número específico de lugares o al número entero más cercano."
   ]
  },
  {
   "cell_type": "code",
   "execution_count": 15,
   "id": "d065592b-e877-403b-8eff-fb56a279320b",
   "metadata": {},
   "outputs": [
    {
     "name": "stdout",
     "output_type": "stream",
     "text": [
      "3.141592653589793\n"
     ]
    },
    {
     "data": {
      "text/plain": [
       "3"
      ]
     },
     "execution_count": 15,
     "metadata": {},
     "output_type": "execute_result"
    }
   ],
   "source": [
    "import math\n",
    "p = math.pi\n",
    "print(p) \n",
    "round(p)"
   ]
  },
  {
   "cell_type": "code",
   "execution_count": 16,
   "id": "b1e9e504-0c1e-45f0-9990-c521bbfc3e8c",
   "metadata": {},
   "outputs": [
    {
     "name": "stdout",
     "output_type": "stream",
     "text": [
      "6\n"
     ]
    }
   ],
   "source": [
    "print(round(5.6231)) "
   ]
  },
  {
   "cell_type": "code",
   "execution_count": 17,
   "id": "f3705191-fc49-49aa-a3e2-b9c37115bd66",
   "metadata": {},
   "outputs": [
    {
     "name": "stdout",
     "output_type": "stream",
     "text": [
      "4.559\n"
     ]
    }
   ],
   "source": [
    "print(round(4.55892, 3))"
   ]
  },
  {
   "cell_type": "markdown",
   "id": "d32aa0ba-50c0-4d26-86c5-d6eb9f7e8c9b",
   "metadata": {},
   "source": [
    "- <strong>extend()</strong>: agrega todos los elementos de un iterable (lista, tupla, cadena, etc.) al final de la lista. Fusiona dos listas."
   ]
  },
  {
   "cell_type": "code",
   "execution_count": 18,
   "id": "86a9919c-9d08-4f32-bbb0-d78fc1d5c016",
   "metadata": {},
   "outputs": [
    {
     "data": {
      "text/plain": [
       "['sandia', 'mango', 'cereza', 'arándano', 'manzana', 2, 3, 5, 7, 9, 11]"
      ]
     },
     "execution_count": 18,
     "metadata": {},
     "output_type": "execute_result"
    }
   ],
   "source": [
    "frutas = [\"sandia\",\"mango\",\"cereza\",\"arándano\",\"manzana\"]\n",
    "numeros_primos= [2, 3, 5, 7, 9, 11]\n",
    "frutas.extend(numeros_primos)\n",
    "frutas"
   ]
  },
  {
   "cell_type": "markdown",
   "id": "8f44802a-83b3-44be-92af-50592d5878c4",
   "metadata": {},
   "source": [
    "- <strong> count( )</strong>: El método devuelve el número de veces que el elemento especificado aparece en la lista."
   ]
  },
  {
   "cell_type": "code",
   "execution_count": 19,
   "id": "28fed78b-09dd-422f-9a54-639380499ed9",
   "metadata": {},
   "outputs": [
    {
     "data": {
      "text/plain": [
       "2"
      ]
     },
     "execution_count": 19,
     "metadata": {},
     "output_type": "execute_result"
    }
   ],
   "source": [
    "numeros_primos= [2, 3, 5, 7, 9, 11,11]\n",
    "numeros_primos.count(11)"
   ]
  },
  {
   "cell_type": "code",
   "execution_count": 20,
   "id": "ce4e7018-70e2-4dfb-81f4-961bd44b42ca",
   "metadata": {},
   "outputs": [
    {
     "data": {
      "text/plain": [
       "3"
      ]
     },
     "execution_count": 20,
     "metadata": {},
     "output_type": "execute_result"
    }
   ],
   "source": [
    "numeros_primos= [\"dos\", \"tres\", \"dos\", \"dos\"]\n",
    "numeros_primos.count(\"dos\")"
   ]
  },
  {
   "cell_type": "markdown",
   "id": "1797cfc4-aa1c-406d-8b79-02eaa672b957",
   "metadata": {},
   "source": [
    "- <div align=\"justify\"><strong> Indexing</strong>: acceder a elementos y secuencias individuales de objetos dentro de una lista o a caracteres indviduales dentro de una cadena. Reverse indexing es usado comúnmente para selecccionar caracteres desde el final de una secuencia.</div>"
   ]
  },
  {
   "cell_type": "code",
   "execution_count": 62,
   "id": "2341339b-7791-42af-a899-11f51f982586",
   "metadata": {
    "tags": []
   },
   "outputs": [
    {
     "data": {
      "text/plain": [
       "'c'"
      ]
     },
     "execution_count": 62,
     "metadata": {},
     "output_type": "execute_result"
    }
   ],
   "source": [
    "concepto = \"categoría\"\n",
    "concepto[0]\n"
   ]
  },
  {
   "cell_type": "code",
   "execution_count": 63,
   "id": "a12ec660-a297-4810-b267-8f517090d821",
   "metadata": {
    "tags": []
   },
   "outputs": [
    {
     "data": {
      "text/plain": [
       "'ca'"
      ]
     },
     "execution_count": 63,
     "metadata": {},
     "output_type": "execute_result"
    }
   ],
   "source": [
    "concepto[0:2]\n"
   ]
  },
  {
   "cell_type": "code",
   "execution_count": 64,
   "id": "070d863a-f754-423b-8aff-45bc7d68670c",
   "metadata": {
    "tags": []
   },
   "outputs": [
    {
     "data": {
      "text/plain": [
       "'e'"
      ]
     },
     "execution_count": 64,
     "metadata": {},
     "output_type": "execute_result"
    }
   ],
   "source": [
    "concepto[3]\n"
   ]
  },
  {
   "cell_type": "code",
   "execution_count": 65,
   "id": "930b4a8b-5e9f-4fce-9868-22e4717ed15d",
   "metadata": {
    "tags": []
   },
   "outputs": [
    {
     "data": {
      "text/plain": [
       "'a'"
      ]
     },
     "execution_count": 65,
     "metadata": {},
     "output_type": "execute_result"
    }
   ],
   "source": [
    "concepto[-1]"
   ]
  },
  {
   "cell_type": "markdown",
   "id": "953e30f0-87a6-4d2d-9a5d-18d3cf36b138",
   "metadata": {},
   "source": [
    "- <div align=\"justify\"><strong>Slicing.</strong></div>\n",
    "<div align=\"justify\"><strong>Inicio(star)</strong>: Opcional. Un número entero que especifica en qué posición comenzar el corte. El valor predeterminado es 0. <strong> Parada o fin(end)</strong>: Un número entero que especifica en qué posición terminar el corte.<strong> Paso(step)</strong>: Opcional. Un número entero que especifica el paso del corte. El valor predeterminado es 1.</div> "
   ]
  },
  {
   "cell_type": "code",
   "execution_count": 66,
   "id": "2707941c-7c61-4f7b-aa94-25fd247ca96a",
   "metadata": {
    "tags": []
   },
   "outputs": [
    {
     "name": "stdout",
     "output_type": "stream",
     "text": [
      "('d', 'e')\n"
     ]
    }
   ],
   "source": [
    "a = (\"a\", \"b\", \"c\", \"d\", \"e\", \"f\", \"g\", \"h\")\n",
    "x = slice(3, 5)\n",
    "print(a[x])"
   ]
  },
  {
   "cell_type": "code",
   "execution_count": 67,
   "id": "6972f7e7-b116-4a89-9894-201360af89dc",
   "metadata": {
    "tags": []
   },
   "outputs": [
    {
     "name": "stdout",
     "output_type": "stream",
     "text": [
      "('a', 'b', 'c', 'd', 'e', 'f', 'g', 'h')\n"
     ]
    }
   ],
   "source": [
    "a = (\"a\", \"b\", \"c\", \"d\", \"e\", \"f\", \"g\", \"h\")\n",
    "x = slice(0, 8, 1)\n",
    "print(a[x])"
   ]
  },
  {
   "cell_type": "code",
   "execution_count": 68,
   "id": "dd917b66-bbea-461a-892c-5ace342cda3b",
   "metadata": {
    "tags": []
   },
   "outputs": [
    {
     "data": {
      "text/plain": [
       "'categori'"
      ]
     },
     "execution_count": 68,
     "metadata": {},
     "output_type": "execute_result"
    }
   ],
   "source": [
    "cadena = \"categoria\"\n",
    "cadena[0:8]"
   ]
  },
  {
   "cell_type": "code",
   "execution_count": 69,
   "id": "93db06c3-6ce4-432d-a7e2-50dbc6275a94",
   "metadata": {
    "tags": []
   },
   "outputs": [
    {
     "data": {
      "text/plain": [
       "'cate'"
      ]
     },
     "execution_count": 69,
     "metadata": {},
     "output_type": "execute_result"
    }
   ],
   "source": [
    "cadena[0:4]"
   ]
  },
  {
   "cell_type": "code",
   "execution_count": 70,
   "id": "c0906ac5-2c16-4c45-bdf7-050bbd2fb937",
   "metadata": {
    "tags": []
   },
   "outputs": [
    {
     "data": {
      "text/plain": [
       "'tegoria'"
      ]
     },
     "execution_count": 70,
     "metadata": {},
     "output_type": "execute_result"
    }
   ],
   "source": [
    "cadena[2:]"
   ]
  },
  {
   "cell_type": "code",
   "execution_count": 71,
   "id": "8df826e2-12ee-4b84-9c02-33e253da5c5f",
   "metadata": {
    "tags": []
   },
   "outputs": [
    {
     "data": {
      "text/plain": [
       "'ca'"
      ]
     },
     "execution_count": 71,
     "metadata": {},
     "output_type": "execute_result"
    }
   ],
   "source": [
    "cadena[:2]"
   ]
  },
  {
   "cell_type": "code",
   "execution_count": 72,
   "id": "a863ff99-d060-4cab-8fa8-f387926fa412",
   "metadata": {
    "tags": []
   },
   "outputs": [
    {
     "data": {
      "text/plain": [
       "'ctgr'"
      ]
     },
     "execution_count": 72,
     "metadata": {},
     "output_type": "execute_result"
    }
   ],
   "source": [
    "cadena[0:8:2]"
   ]
  },
  {
   "cell_type": "code",
   "execution_count": null,
   "id": "e5549b82-1560-4a04-95a3-5571ce5332f7",
   "metadata": {
    "jupyter": {
     "source_hidden": true
    },
    "tags": []
   },
   "outputs": [],
   "source": []
  },
  {
   "cell_type": "markdown",
   "id": "c2878e9a-6380-47b8-afe6-307ac1f54aff",
   "metadata": {
    "tags": []
   },
   "source": [
    "- <div align=\"justify\"><strong> max()</strong>: Devuelve el elemento más grande en un iterable (todos los elementos deben ser del mismo tipo) o el más grande de dos o más argumentos.</div> "
   ]
  },
  {
   "cell_type": "code",
   "execution_count": 73,
   "id": "d8c3509c-d0b6-4c60-a394-a6a70a5c15c0",
   "metadata": {},
   "outputs": [
    {
     "data": {
      "text/plain": [
       "20"
      ]
     },
     "execution_count": 73,
     "metadata": {},
     "output_type": "execute_result"
    }
   ],
   "source": [
    "max(2, 3, 5,11, 20)"
   ]
  },
  {
   "cell_type": "code",
   "execution_count": 74,
   "id": "fa87cc4d-48f3-46a3-bba5-da320eb0376b",
   "metadata": {},
   "outputs": [
    {
     "data": {
      "text/plain": [
       "13"
      ]
     },
     "execution_count": 74,
     "metadata": {},
     "output_type": "execute_result"
    }
   ],
   "source": [
    "max([1, 2, 3, 6,9, 13])"
   ]
  },
  {
   "cell_type": "code",
   "execution_count": 75,
   "id": "44a80682-ec66-4abb-b6f7-8aec4a31372f",
   "metadata": {},
   "outputs": [
    {
     "data": {
      "text/plain": [
       "'c'"
      ]
     },
     "execution_count": 75,
     "metadata": {},
     "output_type": "execute_result"
    }
   ],
   "source": [
    "max('a', 'b', 'c')"
   ]
  },
  {
   "cell_type": "markdown",
   "id": "3e43db58-c549-4e20-b95f-63c32f380f98",
   "metadata": {},
   "source": [
    "- <div align=\"justify\"><strong> min()</strong>: Devuelve el elemento más pequeño en un iterable o el más pequeño de dos o más argumentos.</div> "
   ]
  },
  {
   "cell_type": "code",
   "execution_count": 76,
   "id": "67958967-8239-48d4-8ea1-dff65f3b8a1a",
   "metadata": {},
   "outputs": [
    {
     "data": {
      "text/plain": [
       "2"
      ]
     },
     "execution_count": 76,
     "metadata": {},
     "output_type": "execute_result"
    }
   ],
   "source": [
    "min(2, 3, 5,11, 20)"
   ]
  },
  {
   "cell_type": "code",
   "execution_count": 77,
   "id": "b893f985-b7b3-4602-9478-e89445bb89b3",
   "metadata": {},
   "outputs": [
    {
     "data": {
      "text/plain": [
       "1"
      ]
     },
     "execution_count": 77,
     "metadata": {},
     "output_type": "execute_result"
    }
   ],
   "source": [
    "min([1, 2, 3, 6,9, 13])"
   ]
  },
  {
   "cell_type": "code",
   "execution_count": 78,
   "id": "0f20c9de-7256-4302-beb4-1ff9918b2fea",
   "metadata": {},
   "outputs": [
    {
     "data": {
      "text/plain": [
       "'a'"
      ]
     },
     "execution_count": 78,
     "metadata": {},
     "output_type": "execute_result"
    }
   ],
   "source": [
    "min('a', 'b', 'c')"
   ]
  },
  {
   "cell_type": "code",
   "execution_count": 21,
   "id": "0b66193e-1bff-499d-a769-780b01d17c5e",
   "metadata": {},
   "outputs": [
    {
     "name": "stdout",
     "output_type": "stream",
     "text": [
      "0.5\n"
     ]
    }
   ],
   "source": [
    "a = max([10,5,8])\n",
    "b = min([10,5,8])\n",
    "h = (a - b)/10\n",
    "print(h)"
   ]
  },
  {
   "cell_type": "markdown",
   "id": "667b404b-47ba-4060-afca-fc5192b8cd14",
   "metadata": {},
   "source": [
    "## Métodos  para String"
   ]
  },
  {
   "cell_type": "markdown",
   "id": "3d846515-6a9b-46ee-b190-1167aa1d9104",
   "metadata": {},
   "source": [
    "- <strong> upper()</strong> : Convertir todos los caracteres de un string en mayúscula."
   ]
  },
  {
   "cell_type": "code",
   "execution_count": 80,
   "id": "dc70fa1b-e522-4bed-a656-c1787eda015b",
   "metadata": {},
   "outputs": [
    {
     "name": "stdout",
     "output_type": "stream",
     "text": [
      "BUENOS DÍAS ESTUDIANTES\n"
     ]
    }
   ],
   "source": [
    "s = \"buenos días estudiantes\"\n",
    "print(s.upper())"
   ]
  },
  {
   "cell_type": "markdown",
   "id": "f919bf0d-a519-40bf-8001-2aa564669a97",
   "metadata": {},
   "source": [
    "- <strong> lower()</strong>: Convertir todos los caracteres de un string en minúscula."
   ]
  },
  {
   "cell_type": "code",
   "execution_count": 81,
   "id": "86c19c60-c8c0-44bd-b848-6dac4f2351d6",
   "metadata": {},
   "outputs": [
    {
     "name": "stdout",
     "output_type": "stream",
     "text": [
      "¿cómo les va?\n"
     ]
    }
   ],
   "source": [
    "s = \"¿CÓMO LES VA?\"\n",
    "print(s.lower())"
   ]
  },
  {
   "cell_type": "markdown",
   "id": "57193275-668e-4f83-8e1f-da700f684dd8",
   "metadata": {},
   "source": [
    "- <div align=\"justify\"><strong> split()</strong>: Divide una cadena en una lista de subcadenas en función de una delimitador. Si no se especifica ningún delimitador, se utiliza un espacio en blanco como delimitador predeterminado.</div> "
   ]
  },
  {
   "cell_type": "code",
   "execution_count": 82,
   "id": "88423927-a7a8-478c-acec-18ffdb9c000c",
   "metadata": {},
   "outputs": [
    {
     "name": "stdout",
     "output_type": "stream",
     "text": [
      "['buenos días', ' estudiantes']\n"
     ]
    }
   ],
   "source": [
    "s = \"buenos días, estudiantes\"\n",
    "print(s.split(\",\"))"
   ]
  },
  {
   "cell_type": "code",
   "execution_count": 83,
   "id": "e4555b04-ac38-4fdf-b198-df722665b77a",
   "metadata": {},
   "outputs": [
    {
     "name": "stdout",
     "output_type": "stream",
     "text": [
      "['buenos', ' días', ' estudiantes']\n"
     ]
    }
   ],
   "source": [
    "s = \"buenos, días, estudiantes\"\n",
    "print(s.split(\",\"))"
   ]
  },
  {
   "cell_type": "code",
   "execution_count": 84,
   "id": "c7259be1-2972-49f7-9ba0-04754b491241",
   "metadata": {},
   "outputs": [
    {
     "name": "stdout",
     "output_type": "stream",
     "text": [
      "['buenos', 'días', 'estudiantes']\n"
     ]
    }
   ],
   "source": [
    "s = \"buenos días estudiantes\"\n",
    "print(s.split(\" \"))"
   ]
  },
  {
   "cell_type": "code",
   "execution_count": 85,
   "id": "428ac03e-7884-4635-a0b0-da14ef326a36",
   "metadata": {},
   "outputs": [
    {
     "name": "stdout",
     "output_type": "stream",
     "text": [
      "['buenos días', ' Estudiantes']\n"
     ]
    }
   ],
   "source": [
    "s = \"buenos días. Estudiantes\"\n",
    "print(s.split(\".\"))"
   ]
  },
  {
   "cell_type": "markdown",
   "id": "52354f40-40d1-4aa6-9a8a-d690a947af79",
   "metadata": {},
   "source": [
    "- <strong> strip()</strong>: Elimina cualquier espacio  blanco al inicio o al final de una cadena."
   ]
  },
  {
   "cell_type": "code",
   "execution_count": 86,
   "id": "1eba7164-cbef-4cab-bfe4-9db81529ae3d",
   "metadata": {},
   "outputs": [
    {
     "name": "stdout",
     "output_type": "stream",
     "text": [
      "Buenos Días\n"
     ]
    }
   ],
   "source": [
    "s = \"   Buenos Días    \"\n",
    "print(s.strip())"
   ]
  },
  {
   "cell_type": "markdown",
   "id": "6c2a1473-f1c3-4bac-8f18-fac7d4608ed3",
   "metadata": {},
   "source": [
    "- <strong> replace()</strong>: Reemplaza una palabra o letra(s)   de una subcadena con otra subcadena."
   ]
  },
  {
   "cell_type": "code",
   "execution_count": 87,
   "id": "59a8d5cf-a5d5-4e81-b1bb-52a83e98c778",
   "metadata": {},
   "outputs": [
    {
     "name": "stdout",
     "output_type": "stream",
     "text": [
      "Nuevo día\n"
     ]
    }
   ],
   "source": [
    "s = \"Buen día\"\n",
    "print(s.replace(\"Buen\",\n",
    " \"Nuevo\"))"
   ]
  },
  {
   "cell_type": "code",
   "execution_count": 88,
   "id": "bb334df2-2d5b-4932-b974-f1fa72842b40",
   "metadata": {},
   "outputs": [
    {
     "name": "stdout",
     "output_type": "stream",
     "text": [
      "buen día\n"
     ]
    }
   ],
   "source": [
    "s = \"Buen día\"\n",
    "print(s.replace(\"B\",\"b\"))"
   ]
  },
  {
   "cell_type": "code",
   "execution_count": 89,
   "id": "2f45f794-faef-49a4-94eb-f6ed0ffd14a6",
   "metadata": {},
   "outputs": [
    {
     "name": "stdout",
     "output_type": "stream",
     "text": [
      "Nuevo Amanecer\n"
     ]
    }
   ],
   "source": [
    "s = \"Buen día\"\n",
    "print(s.replace('Buen', 'Nuevo').replace('día', 'Amanecer'))"
   ]
  },
  {
   "cell_type": "code",
   "execution_count": 90,
   "id": "5f75cd16-08a5-4ca1-a4ad-c6b77ecd6345",
   "metadata": {},
   "outputs": [
    {
     "name": "stdout",
     "output_type": "stream",
     "text": [
      "nuevo día, nuevo estudiante\n"
     ]
    }
   ],
   "source": [
    "s = \"buen día, buen estudiante\"\n",
    "print(s.replace(\"buen\",\"nuevo\",2))"
   ]
  },
  {
   "cell_type": "code",
   "execution_count": 91,
   "id": "e511cfe0-e4fb-425d-a050-b0aadd2188bd",
   "metadata": {},
   "outputs": [
    {
     "name": "stdout",
     "output_type": "stream",
     "text": [
      "nuevo día, buen estudiante\n"
     ]
    }
   ],
   "source": [
    "s = \"buen día, buen estudiante\"\n",
    "print(s.replace(\"buen\",\"nuevo\",1))"
   ]
  },
  {
   "cell_type": "markdown",
   "id": "9006b697-da2f-4995-87d9-1f4f727031cf",
   "metadata": {},
   "source": [
    "- <div align=\"justify\"><strong> find()</strong>: Devuelve el índice de la primera aparición de una subcadena en una cadena. Devuelve -1 si no se encuentra la subcadena.</div>"
   ]
  },
  {
   "cell_type": "code",
   "execution_count": 92,
   "id": "90bc404e-0d08-44e5-8068-8e48a88f9090",
   "metadata": {},
   "outputs": [
    {
     "name": "stdout",
     "output_type": "stream",
     "text": [
      "5\n"
     ]
    }
   ],
   "source": [
    "s = \"Buen día\"\n",
    "print(s.find(\"día\"))"
   ]
  },
  {
   "cell_type": "markdown",
   "id": "8dafff42-529d-4fc9-a329-ff49281b2929",
   "metadata": {},
   "source": [
    "- <div align=\"justify\"><strong> startswith()</strong>:  Devuelve True si una cadena comienza con una subcadena especificada. De lo contrario, devuelve False.</div> "
   ]
  },
  {
   "cell_type": "code",
   "execution_count": 93,
   "id": "90f04a78-0db3-495f-a9ff-264a5abb3f4b",
   "metadata": {},
   "outputs": [
    {
     "name": "stdout",
     "output_type": "stream",
     "text": [
      "True\n"
     ]
    }
   ],
   "source": [
    " s = \"Buen día\"\n",
    " print(s.startswith(\"Buen\"))"
   ]
  },
  {
   "cell_type": "code",
   "execution_count": 94,
   "id": "c97d0121-42b5-430e-af9f-2a69632f95f9",
   "metadata": {},
   "outputs": [
    {
     "name": "stdout",
     "output_type": "stream",
     "text": [
      "False\n"
     ]
    }
   ],
   "source": [
    " s = \"Buen día\"\n",
    " print(s.startswith(\"día\"))"
   ]
  },
  {
   "cell_type": "code",
   "execution_count": 95,
   "id": "404b44f8-5fde-4155-a610-876e7321e8b2",
   "metadata": {},
   "outputs": [
    {
     "name": "stdout",
     "output_type": "stream",
     "text": [
      "False\n"
     ]
    }
   ],
   "source": [
    " s = \"Buen día\"\n",
    " print(s.startswith(\"buen\"))"
   ]
  },
  {
   "cell_type": "markdown",
   "id": "f0a7fb9d-7904-49ea-9a42-96752d9556fb",
   "metadata": {},
   "source": [
    "- <div align=\"justify\"><strong> endswith()</strong>:  Devuelve True si una cadena finaliza con una subcadena especificada. De lo contrario, devuelve False.</div> "
   ]
  },
  {
   "cell_type": "code",
   "execution_count": 6,
   "id": "46250667-888c-4b51-8b2a-7d7c35d26835",
   "metadata": {},
   "outputs": [
    {
     "name": "stdout",
     "output_type": "stream",
     "text": [
      "True\n"
     ]
    }
   ],
   "source": [
    " s = \"Buen día\"\n",
    " print(s.endswith(\"día\"))"
   ]
  },
  {
   "cell_type": "code",
   "execution_count": 97,
   "id": "562e0b5c-3a0f-4281-8013-4d948a321122",
   "metadata": {},
   "outputs": [
    {
     "name": "stdout",
     "output_type": "stream",
     "text": [
      "False\n"
     ]
    }
   ],
   "source": [
    " s = \"Buen día\"\n",
    " print(s.endswith(\"Buen\"))"
   ]
  },
  {
   "cell_type": "markdown",
   "id": "823fb7e9-c62d-4b01-80e1-b9a12133c0ba",
   "metadata": {},
   "source": [
    "```{table} Otros Métodos \n",
    ":name: my-table-ref\n",
    "\n",
    "|  Entrada(input)  |  Método | Salida (Output  | \n",
    "|:-----:|:-----:|:-----:|\n",
    "| \"hello WORLD| .capitalize() | HELLO world|\n",
    "| 13/05/2024 | .replace(\"/\", \"-\")|13-05-2024|\n",
    "| \"abc123\"| .isalnum()| True|\n",
    "| 12345|.isnumeric() |True|\n",
    "| \"hello world\"|.islower() |True|\n",
    "| \"HELLO WORLD\"|.isupper() |True|\n",
    "\n",
    "```\n"
   ]
  },
  {
   "cell_type": "markdown",
   "id": "f14ef35b-01f1-4715-b357-cc073485db48",
   "metadata": {},
   "source": [
    "## Funciones\n",
    "\n"
   ]
  },
  {
   "cell_type": "markdown",
   "id": "9b149ca4-9755-48eb-ae9b-fb46c3864bdc",
   "metadata": {},
   "source": [
    "```{admonition} ¿Qué son las Funciones?\n",
    "<div align=\"justify\"> Las <strong>Funciones</strong> son bloques de código independientes que se pueden llamar desde cualquier lugar, mientras que los métodos están vinculados a objetos o clases y necesitan una instancia de objeto o clase para ser invocados. Las funciones promueven la reutilización del código, mientras que los métodos ofrecen un comportamiento específico para los objetos. Las funciones se llaman por su nombre, mientras que se accede a los métodos mediante notación de puntos. Comprender estas distinciones es crucial para escribir código modular organizado en Python y aprovechar todo el poder de los métodos y funciones en diversos escenarios de programación.</div>\n",
    "```"
   ]
  },
  {
   "cell_type": "markdown",
   "id": "7aabd1e3-f922-4b09-9b43-bbcda19afe9e",
   "metadata": {},
   "source": [
    "- <div align=\"justify\"><strong>Definición de la función</strong>: En Python, comenzamos definiendo una función con la palabra clave <strong>def</strong>, seguida del nombre de la función y paréntesis que pueden contener los parámetros de entrada de la función. En este caso, nuestra función no tendrá parámetros:</div>  \n",
    "\n",
    "def calcular_cuadrado():"
   ]
  },
  {
   "cell_type": "markdown",
   "id": "93bf8a8d-ce1a-4615-91df-40e8486cd29d",
   "metadata": {},
   "source": [
    "- <div align=\"justify\"><strong>Cuerpo de la Función</strong>: Después de definir la función, escribimos el bloque de código que queremos que la función ejecute. En este caso, queremos calcular el cuadrado de un número ingresado por el usuario.</div>"
   ]
  },
  {
   "cell_type": "code",
   "execution_count": 1,
   "id": "471a0f0c-79b8-4619-b73a-d8325cb16729",
   "metadata": {
    "tags": []
   },
   "outputs": [],
   "source": [
    "def calcular_cuadrado():\n",
    "    num = float(input(\"Ingrese un número: \"))\n",
    "    cuadrado = num ** 2\n",
    "    print(\"El cuadrado de\", num, \"es:\", cuadrado)"
   ]
  },
  {
   "cell_type": "markdown",
   "id": "14f4b2d5-84bd-4c43-b92b-88e3495917a0",
   "metadata": {},
   "source": [
    "- <div align=\"justify\"><strong>Llamando a la función</strong>: Una vez que hemos definido la función, podemos llamarla en cualquier lugar de nuestro programa para ejecutar el código dentro de ella. Para llamar a la función, simplemente escribimos su nombre seguido de paréntesis.</div>"
   ]
  },
  {
   "cell_type": "code",
   "execution_count": 2,
   "id": "d49e1d00-54c9-4875-8604-f2eb43732a1a",
   "metadata": {
    "tags": []
   },
   "outputs": [
    {
     "name": "stdin",
     "output_type": "stream",
     "text": [
      "Ingrese un número:  67\n"
     ]
    },
    {
     "name": "stdout",
     "output_type": "stream",
     "text": [
      "El cuadrado de 67.0 es: 4489.0\n"
     ]
    }
   ],
   "source": [
    "calcular_cuadrado()\n"
   ]
  },
  {
   "cell_type": "markdown",
   "id": "327b616e-e794-49c7-8def-fe76b845cca3",
   "metadata": {},
   "source": [
    "## Ciclo For"
   ]
  },
  {
   "cell_type": "markdown",
   "id": "631d9cab-c459-47ac-9481-0f6c90d6e77a",
   "metadata": {},
   "source": [
    "```{admonition} Ciclo For\n",
    "<div align=\"justify\"> El <strong>Ciclo For</strong> es una herramienta muy útil en Python que permite iterar sobre objetos iterables y realizar operaciones repetitivas de manera sencilla y eficiente. Entre sus principales ventajas se encuentra su facilidad de uso y su capacidad para recorrer cualquier objeto iterable (listas, cadenas, objetos range). Algunos usos son: procesamiento de datos y manipulación de listas y diccionarios, hasta la realización de tareas repetitivas.</div>\n",
    "```"
   ]
  },
  {
   "cell_type": "code",
   "execution_count": 1,
   "id": "f4f32b38-451e-47e5-a318-5de832eb1fb5",
   "metadata": {},
   "outputs": [
    {
     "name": "stdout",
     "output_type": "stream",
     "text": [
      "casa\n",
      "auto\n",
      "avión\n",
      "lancha\n",
      "1\n",
      "2\n",
      "3\n",
      "4\n"
     ]
    }
   ],
   "source": [
    "mi_lista = ['casa', 'auto', 'avión', 'lancha', 1, 2, 3, 4] \n",
    "for i in mi_lista:\n",
    "    print(i)"
   ]
  },
  {
   "cell_type": "code",
   "execution_count": 2,
   "id": "e7193d2d-46fd-4dbc-8023-9c0b303a4103",
   "metadata": {},
   "outputs": [
    {
     "name": "stdout",
     "output_type": "stream",
     "text": [
      "0\n",
      "1\n",
      "2\n",
      "3\n",
      "4\n"
     ]
    }
   ],
   "source": [
    "for i in range(5): \n",
    "    print(i)"
   ]
  },
  {
   "cell_type": "code",
   "execution_count": 127,
   "id": "7fd1790e-f12f-4f1c-bb24-bdd0c067504e",
   "metadata": {},
   "outputs": [
    {
     "name": "stdout",
     "output_type": "stream",
     "text": [
      "100\n",
      "120\n",
      "140\n",
      "160\n",
      "180\n"
     ]
    }
   ],
   "source": [
    "for i in range(100,200,20): \n",
    "    print(i)"
   ]
  },
  {
   "cell_type": "code",
   "execution_count": 13,
   "id": "02744ae9-3fe4-4ad7-ae5e-17153d0f49f9",
   "metadata": {},
   "outputs": [],
   "source": [
    "mis_series = [['Simpson', 'Friends', 'Big Band Theory'],\n",
    "    ['Game of Thrones', 'Los anillos de Poder', 'Fauda']]"
   ]
  },
  {
   "cell_type": "code",
   "execution_count": 14,
   "id": "4c32fc63-c2fe-4df0-85e7-3025c9f4b52a",
   "metadata": {},
   "outputs": [
    {
     "name": "stdout",
     "output_type": "stream",
     "text": [
      "El titulo de la serie Simpson tiene 7 caracteres de largo.\n",
      "El titulo de la serie Friends tiene 7 caracteres de largo.\n",
      "El titulo de la serie Big Band Theory tiene 15 caracteres de largo.\n",
      "El titulo de la serie Game of Thrones tiene 15 caracteres de largo.\n",
      "El titulo de la serie Los anillos de Poder tiene 20 caracteres de largo.\n",
      "El titulo de la serie Fauda tiene 5 caracteres de largo.\n"
     ]
    }
   ],
   "source": [
    "for sublista in mis_series :\n",
    "    for serie in sublista:\n",
    "        caract_largo = len(serie)\n",
    "        print(\"El titulo de la serie \" + serie + \" tiene \" + str(caract_largo) + \n",
    "              \" caracteres de largo.\")\n"
   ]
  },
  {
   "cell_type": "code",
   "execution_count": 130,
   "id": "84f7ea5a-9770-48fa-bba6-4d1485e45231",
   "metadata": {},
   "outputs": [],
   "source": [
    "mis_series = [['Simpson', 'Friends', 'Big Band Theory'],\n",
    "    ['Game of Thrones', 'Los anillos de Poder', 'Fauda']]"
   ]
  },
  {
   "cell_type": "code",
   "execution_count": 15,
   "id": "e904e3c9-0662-4b09-8b6c-a1c961b8a645",
   "metadata": {},
   "outputs": [
    {
     "name": "stdout",
     "output_type": "stream",
     "text": [
      "El titulo de la serie Big Band Theory tiene 15 caracteres de largo.\n",
      "El titulo de la serie Fauda tiene 5 caracteres de largo.\n"
     ]
    }
   ],
   "source": [
    "for sublista in mis_series:\n",
    "    for serie in sublista:\n",
    "        caract_largo = len(serie)\n",
    "    print (\"El titulo de la serie \" + serie + \" tiene \" + str (caract_largo) +\n",
    "           \" caracteres de largo.\")"
   ]
  },
  {
   "cell_type": "code",
   "execution_count": 16,
   "id": "9c64bd0b-d285-4a36-b86f-126ac67a218e",
   "metadata": {
    "tags": []
   },
   "outputs": [
    {
     "name": "stdout",
     "output_type": "stream",
     "text": [
      "El titulo de la serie Fauda tiene 5 caracteres de largo.\n"
     ]
    }
   ],
   "source": [
    "for sublista in mis_series:\n",
    "    for serie in sublista:\n",
    "        caract_largo = len(serie)\n",
    "print (\"El titulo de la serie \" + serie + \" tiene \" + str (caract_largo) + \n",
    "       \" caracteres de largo.\")"
   ]
  }
 ],
 "metadata": {
  "kernelspec": {
   "display_name": "Python 3",
   "language": "python",
   "name": "python3"
  },
  "language_info": {
   "codemirror_mode": {
    "name": "ipython",
    "version": 3
   },
   "file_extension": ".py",
   "mimetype": "text/x-python",
   "name": "python",
   "nbconvert_exporter": "python",
   "pygments_lexer": "ipython3",
   "version": "3.8.18"
  },
  "toc-autonumbering": false
 },
 "nbformat": 4,
 "nbformat_minor": 5
}

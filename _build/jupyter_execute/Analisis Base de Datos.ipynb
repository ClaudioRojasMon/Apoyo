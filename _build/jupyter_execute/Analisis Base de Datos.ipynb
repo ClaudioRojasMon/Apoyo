{
 "cells": [
  {
   "cell_type": "markdown",
   "id": "495c6fb6-f988-4cf9-b348-edb87caa683f",
   "metadata": {},
   "source": [
    "# Análisis de Base de Datos"
   ]
  },
  {
   "cell_type": "markdown",
   "id": "e4a843a9-b89b-4d9c-9f27-e6f000a1a5f5",
   "metadata": {},
   "source": [
    "## Pandas"
   ]
  },
  {
   "cell_type": "markdown",
   "id": "7662a47e-e3c6-41a1-913f-677208ac12ab",
   "metadata": {},
   "source": [
    "```{admonition} ¿Qué es Pandas?\n",
    "<div align=\"justify\"><strong>Pandas</strong> es una muy popular librería de código abierto dentro de los desarrolladores de Python, y sobre todo dentro del ámbito de Data Science y Machine Learning, ya que ofrece unas estructuras muy poderosas y flexibles que facilitan la manipulación y tratamiento de datos. Las dos estructuras de datos principales dentro del paquete Pandas son:</div>\n",
    "\n",
    "-  <div align=\"justify\"><strong>Series</strong>: array unidimensional etiquetado capaz de almacenar cualquier tipo de dato.</div> \n",
    "\n",
    "-  <div align=\"justify\"><strong>DataFrame</strong>: estructura bidimensional con columnas que pueden ser también de cualquier tipo. Estas columnas son a su vez Series.</div>\n",
    "```"
   ]
  },
  {
   "cell_type": "markdown",
   "id": "b66b1486-d07a-4a51-81ab-06e9d162ebbd",
   "metadata": {},
   "source": [
    "```{dropdown} Revisa para profundizar\n",
    "\n",
    "[Documentación de Pandas](https://pandas.pydata.org/docs/user_guide/index.html)\n",
    "\n",
    "[Atributos, operaciones y funciones en Series](https://pandas.pydata.org/pandas-docs/stable/reference/series.html)\n",
    "```"
   ]
  },
  {
   "cell_type": "code",
   "execution_count": 1,
   "id": "165dfb19-58a2-4df2-984d-ffa8e1d1c19a",
   "metadata": {},
   "outputs": [],
   "source": [
    " # en caso de que no estar instalada: pip install pandas"
   ]
  },
  {
   "cell_type": "code",
   "execution_count": 2,
   "id": "3a2fd423-bfe4-48d8-b2bd-27d17d7a755a",
   "metadata": {
    "tags": []
   },
   "outputs": [],
   "source": [
    "# importamos las librerías, le damos un seudónimo a las librerias para mejorar \n",
    "# legibilidad en el código.\n",
    "import pandas as pd"
   ]
  },
  {
   "cell_type": "markdown",
   "id": "ab2cb959-389b-46cd-acfc-9cc543a5d08f",
   "metadata": {},
   "source": [
    "<div align=\"justify\"><strong>Crear un DataFrame.</strong>: Crea un DataFrame simple a partir de un diccionario </div> "
   ]
  },
  {
   "cell_type": "code",
   "execution_count": 3,
   "id": "713ded33-71e0-4aa1-ba08-cd93566e7282",
   "metadata": {
    "tags": []
   },
   "outputs": [
    {
     "name": "stdout",
     "output_type": "stream",
     "text": [
      "   Nombre  Edad        Ciudad\n",
      "0    Juan    25        México\n",
      "1   María    30        Madrid\n",
      "2  Carlos    35  Buenos Aires\n",
      "3    Luis    40          Lima\n"
     ]
    }
   ],
   "source": [
    "data = {'Nombre': ['Juan', 'María', 'Carlos', 'Luis'],\n",
    "        'Edad': [25, 30, 35, 40],\n",
    "        'Ciudad': ['México', 'Madrid', 'Buenos Aires', 'Lima']}\n",
    "df = pd.DataFrame(data)\n",
    "print(df)"
   ]
  },
  {
   "cell_type": "markdown",
   "id": "80852aa9-9536-44bd-ae1c-639aa13778ac",
   "metadata": {},
   "source": [
    "<div align=\"justify\"><strong>Seleccionar columnas</strong> : Selecciona una columna específica del DataFrame.</div>  "
   ]
  },
  {
   "cell_type": "code",
   "execution_count": 4,
   "id": "86812efe-d193-4f03-9eb1-0979912100a0",
   "metadata": {
    "tags": []
   },
   "outputs": [
    {
     "name": "stdout",
     "output_type": "stream",
     "text": [
      "0      Juan\n",
      "1     María\n",
      "2    Carlos\n",
      "3      Luis\n",
      "Name: Nombre, dtype: object\n"
     ]
    }
   ],
   "source": [
    "print(df['Nombre'])"
   ]
  },
  {
   "cell_type": "markdown",
   "id": "214b1773-22d0-4b24-9d38-c5b342db5ab2",
   "metadata": {},
   "source": [
    "<div align=\"justify\"><strong>Filtrar filas</strong>: Filtra filas basadas en una condición.</div> "
   ]
  },
  {
   "cell_type": "code",
   "execution_count": 5,
   "id": "d23395a7-b718-4198-8bbd-f5d4b4038177",
   "metadata": {
    "tags": []
   },
   "outputs": [
    {
     "name": "stdout",
     "output_type": "stream",
     "text": [
      "   Nombre  Edad        Ciudad\n",
      "2  Carlos    35  Buenos Aires\n",
      "3    Luis    40          Lima\n"
     ]
    }
   ],
   "source": [
    "filtro = df['Edad'] > 30\n",
    "print(df[filtro])"
   ]
  },
  {
   "cell_type": "markdown",
   "id": "828efbfb-73e3-4a77-861d-690c565e1d58",
   "metadata": {},
   "source": [
    "<div align=\"justify\"><strong>Agregar una nueva columna</strong>: Agrega una nueva columna al DataFrame.</div>"
   ]
  },
  {
   "cell_type": "code",
   "execution_count": 6,
   "id": "bfa33707-a62a-4aaa-89d8-d348ef277c33",
   "metadata": {
    "tags": []
   },
   "outputs": [
    {
     "name": "stdout",
     "output_type": "stream",
     "text": [
      "   Nombre  Edad        Ciudad  Género\n",
      "0    Juan    25        México  Hombre\n",
      "1   María    30        Madrid   Mujer\n",
      "2  Carlos    35  Buenos Aires  Hombre\n",
      "3    Luis    40          Lima  Hombre\n"
     ]
    }
   ],
   "source": [
    "df['Género'] = ['Hombre', 'Mujer', 'Hombre', 'Hombre']\n",
    "print(df)"
   ]
  },
  {
   "cell_type": "markdown",
   "id": "689e16fa-d3b2-47d8-a58c-284bf92d839b",
   "metadata": {},
   "source": [
    "<div align=\"justify\"><strong> Eliminar columnas</strong> : Elimina una columna del DataFrame.</div> "
   ]
  },
  {
   "cell_type": "code",
   "execution_count": 7,
   "id": "1f7d3ce8-acf8-44a8-a175-a5599f324bab",
   "metadata": {
    "tags": []
   },
   "outputs": [
    {
     "name": "stdout",
     "output_type": "stream",
     "text": [
      "   Nombre  Edad  Género\n",
      "0    Juan    25  Hombre\n",
      "1   María    30   Mujer\n",
      "2  Carlos    35  Hombre\n",
      "3    Luis    40  Hombre\n"
     ]
    }
   ],
   "source": [
    "df = df.drop('Ciudad', axis=1)\n",
    "print(df)"
   ]
  },
  {
   "cell_type": "markdown",
   "id": "1405ce2e-313b-44da-af12-2eddd205f929",
   "metadata": {},
   "source": [
    "<div align=\"justify\"><strong> Agregar una fila</strong>: Agrega una nueva fila al DataFrame.</div> "
   ]
  },
  {
   "cell_type": "code",
   "execution_count": 8,
   "id": "e8b5ceba-0782-45a3-a36d-e9f1ed138e6e",
   "metadata": {
    "tags": []
   },
   "outputs": [
    {
     "name": "stdout",
     "output_type": "stream",
     "text": [
      "   Nombre  Edad  Género     Ciudad\n",
      "0    Juan    25  Hombre        NaN\n",
      "1   María    30   Mujer        NaN\n",
      "2  Carlos    35  Hombre        NaN\n",
      "3    Luis    40  Hombre        NaN\n",
      "4   Laura    28   Mujer  Barcelona\n"
     ]
    }
   ],
   "source": [
    "nueva_fila = pd.DataFrame({'Nombre': ['Laura'], 'Edad': [28], 'Ciudad': ['Barcelona'],\n",
    "                           'Género': ['Mujer']})\n",
    "df = pd.concat([df, nueva_fila], ignore_index=True)\n",
    "print(df)"
   ]
  },
  {
   "cell_type": "markdown",
   "id": "e7325b18-aab4-490e-887e-1329f061d381",
   "metadata": {},
   "source": [
    "<div align=\"justify\"><strong> Eliminar filas</strong>: Elimina filas del DataFrame.</div>  "
   ]
  },
  {
   "cell_type": "code",
   "execution_count": 9,
   "id": "70c5c92c-fa96-4bca-ba53-f78933638088",
   "metadata": {
    "tags": []
   },
   "outputs": [
    {
     "name": "stdout",
     "output_type": "stream",
     "text": [
      "   Nombre  Edad  Género     Ciudad\n",
      "1   María    30   Mujer        NaN\n",
      "2  Carlos    35  Hombre        NaN\n",
      "3    Luis    40  Hombre        NaN\n",
      "4   Laura    28   Mujer  Barcelona\n"
     ]
    }
   ],
   "source": [
    "df = df.drop(0)\n",
    "print(df)"
   ]
  },
  {
   "cell_type": "markdown",
   "id": "dbaaa11d-ad86-443a-af35-897a3d2f8f9c",
   "metadata": {},
   "source": [
    "<div align=\"justify\"><strong>Exportar a CSV</strong> : Exporta el DataFrame a un archivo CSV.</div>"
   ]
  },
  {
   "cell_type": "code",
   "execution_count": 10,
   "id": "744fd297-3906-4f01-8836-a74e08f773ef",
   "metadata": {
    "tags": []
   },
   "outputs": [],
   "source": [
    "df.to_csv('nuevo_archivo.csv', index=False)"
   ]
  },
  {
   "cell_type": "markdown",
   "id": "a2096b00-bc7d-4936-bddd-de3a62652722",
   "metadata": {},
   "source": [
    "## Numpy"
   ]
  },
  {
   "cell_type": "markdown",
   "id": "8a056a8d-2a4f-48ba-b33c-fd4bfc4ce5b7",
   "metadata": {},
   "source": [
    "<div align=\"justify\"><strong>Numpy</strong> es una librería de Python especializada en el cálculo numérico y el análisis de datos, especialmente para un gran volumen de datos.Incorpora una nueva clase de objetos llamados arrays que permite representar colecciones de datos de un mismo tipo en varias dimensiones, y funciones muy eficientes para su manipulación.</div> \n",
    "\n",
    "<div align=\"justify\">Para crear un array se utiliza la siguiente función de NumPy</div>\n",
    "\n",
    "\n",
    "- <div align=\"justify\"><strong>np.array(lista):</strong> Crea un array a partir de la lista o tupla lista y devuelve una referencia a él. El número de dimensiones del array dependerá de las listas o tuplas anidadas en lista:</div>  \n",
    "- <div align=\"justify\">Para una lista de valores se crea un array de una dimensión, también conocido como vector.</div> \n",
    "- <div align=\"justify\">Para una lista de listas de valores se crea un array de dos dimensiones, también conocido como matriz.</div>\n",
    "- <div align=\"justify\">Para una lista de listas de listas de valores se crea un array de tres dimensiones, también conocido como cubo.</div>\n",
    "- <div align=\"justify\">Y así sucesivamente. No hay límite en el número de dimensiones del array más allá de la memoria disponible en el sistema.</div> \n",
    "\n"
   ]
  },
  {
   "cell_type": "markdown",
   "id": "5d4e6292-5d29-40e0-8258-4180a3b550ac",
   "metadata": {},
   "source": [
    "```{dropdown} Revisa información para profundizar\n",
    "[Profundiza  en su documentación](https://numpy.org)\n",
    "```"
   ]
  },
  {
   "cell_type": "code",
   "execution_count": 11,
   "id": "81c123d0-f80a-49f3-9c0a-d86abe6664eb",
   "metadata": {
    "tags": []
   },
   "outputs": [
    {
     "name": "stdout",
     "output_type": "stream",
     "text": [
      "Array unidimensional:\n",
      "[1 2 3 4 5]\n",
      "\n",
      "Array bidimensional:\n",
      "[[1 2 3]\n",
      " [4 5 6]\n",
      " [7 8 9]]\n"
     ]
    }
   ],
   "source": [
    "import numpy as np\n",
    "\n",
    "# Crear un array NumPy unidimensional\n",
    "array_unidimensional = np.array([1, 2, 3, 4, 5])\n",
    "print(\"Array unidimensional:\")\n",
    "print(array_unidimensional)\n",
    "\n",
    "# Crear un array NumPy bidimensional (matriz)\n",
    "array_bidimensional = np.array([[1, 2, 3], [4, 5, 6], [7, 8, 9]])\n",
    "print(\"\\nArray bidimensional:\")\n",
    "print(array_bidimensional)\n"
   ]
  },
  {
   "cell_type": "code",
   "execution_count": 12,
   "id": "a1241c9c-be1a-48c1-b00a-1712c333966e",
   "metadata": {
    "tags": []
   },
   "outputs": [
    {
     "name": "stdout",
     "output_type": "stream",
     "text": [
      "Suma de arrays:\n",
      "[5 7 9]\n",
      "\n",
      "Producto de arrays:\n",
      "[ 4 10 18]\n",
      "\n",
      "Cuadrado de array1:\n",
      "[1 4 9]\n"
     ]
    }
   ],
   "source": [
    "import numpy as np\n",
    "\n",
    "# Crear dos arrays NumPy\n",
    "array1 = np.array([1, 2, 3])\n",
    "array2 = np.array([4, 5, 6])\n",
    "\n",
    "# Suma de arrays\n",
    "suma = array1 + array2\n",
    "print(\"Suma de arrays:\")\n",
    "print(suma)\n",
    "\n",
    "# Producto de arrays\n",
    "producto = array1 * array2\n",
    "print(\"\\nProducto de arrays:\")\n",
    "print(producto)\n",
    "\n",
    "# Operaciones matemáticas\n",
    "cuadrado = np.square(array1)\n",
    "print(\"\\nCuadrado de array1:\")\n",
    "print(cuadrado)\n"
   ]
  },
  {
   "cell_type": "code",
   "execution_count": 13,
   "id": "833fa248-22b7-408e-b66d-0bb0a0a5d78b",
   "metadata": {
    "tags": []
   },
   "outputs": [
    {
     "name": "stdout",
     "output_type": "stream",
     "text": [
      "Datos aleatorios:\n",
      "[0.50577152 0.81882292 0.95580129 0.69493095 0.55027507]\n",
      "\n",
      "Matriz aleatoria:\n",
      "[[8 5 8]\n",
      " [1 7 6]\n",
      " [4 7 3]]\n"
     ]
    }
   ],
   "source": [
    "import numpy as np\n",
    "\n",
    "# Generar datos aleatorios\n",
    "datos_aleatorios = np.random.rand(5)  # Array unidimensional de 5 números aleatorios entre 0 y 1\n",
    "print(\"Datos aleatorios:\")\n",
    "print(datos_aleatorios)\n",
    "\n",
    "# Generar matriz de números aleatorios\n",
    "matriz_aleatoria = np.random.randint(1, 10, size=(3, 3))  # Matriz 3x3 de números aleatorios entre 1 y 9\n",
    "print(\"\\nMatriz aleatoria:\")\n",
    "print(matriz_aleatoria)\n"
   ]
  },
  {
   "cell_type": "code",
   "execution_count": 14,
   "id": "213b4c40-ab65-4aa5-80e4-dc4fa038200e",
   "metadata": {
    "tags": []
   },
   "outputs": [
    {
     "name": "stdout",
     "output_type": "stream",
     "text": [
      "Primer elemento: 1\n",
      "Primeros tres elementos: [1 2 3]\n",
      "Array modificado: [ 1  2 10  4  5]\n"
     ]
    }
   ],
   "source": [
    "import numpy as np\n",
    "\n",
    "# Crear un array NumPy\n",
    "mi_array = np.array([1, 2, 3, 4, 5])\n",
    "\n",
    "# Acceder a un elemento específico\n",
    "print(\"Primer elemento:\", mi_array[0])\n",
    "\n",
    "# Acceder a un rango de elementos\n",
    "print(\"Primeros tres elementos:\", mi_array[:3])\n",
    "\n",
    "# Modificar un elemento\n",
    "mi_array[2] = 10\n",
    "print(\"Array modificado:\", mi_array)\n"
   ]
  }
 ],
 "metadata": {
  "kernelspec": {
   "display_name": "Python 3 (ipykernel)",
   "language": "python",
   "name": "python3"
  },
  "language_info": {
   "codemirror_mode": {
    "name": "ipython",
    "version": 3
   },
   "file_extension": ".py",
   "mimetype": "text/x-python",
   "name": "python",
   "nbconvert_exporter": "python",
   "pygments_lexer": "ipython3",
   "version": "3.11.5"
  },
  "toc-autonumbering": false
 },
 "nbformat": 4,
 "nbformat_minor": 5
}
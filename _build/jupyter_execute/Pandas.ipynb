{
 "cells": [
  {
   "cell_type": "markdown",
   "id": "ee364a9b-9878-4b05-944a-f7ea2a4b63e4",
   "metadata": {},
   "source": [
    "### Pandas\n",
    "\n",
    "<div align=\"justify\"><strong>Pandas</strong> es una muy popular librería de código abierto dentro de los desarrolladores de Python, y sobre todo dentro del ámbito de Data Science y Machine Learning, ya que ofrece unas estructuras muy poderosas y flexibles que facilitan la manipulación y tratamiento de datos. Las dos estructuras de datos principales dentro del paquete Pandas son:</div>\n",
    "\n",
    "-  <div align=\"justify\"><strong>Series</strong>: array unidimensional etiquetado capaz de almacenar cualquier tipo de dato.</div> \n",
    "\n",
    "-  <div align=\"justify\"><strong>DataFrame</strong>: estructura bidimensional con columnas que pueden ser también de cualquier tipo. Estas columnas son a su vez Series.</div>\n",
    "\n",
    "<div align=\"justify\">Para crear una serie ocupamos <strong>pd.Series(data=datos, index=indices, dtype=tipo)</strong></div>\n",
    "\n",
    "- <strong>data</strong> es el conjunto de datos (puede ser una lista, un numpy array o un diccionario)\n",
    "- <strong>index</strong> es una lista con los indices. Si se omite, toma por defecto los valores desde 0 hasta len(datos)-1\n",
    "- <strong>dtype</strong> es el tipo de dato. (Especifica como se van a interpretar los datos de la Serie)"
   ]
  },
  {
   "cell_type": "markdown",
   "id": "b66b1486-d07a-4a51-81ab-06e9d162ebbd",
   "metadata": {},
   "source": [
    "```{dropdown} Revisa para profundizar\n",
    "\n",
    "[Documentación de Pandas](https://pandas.pydata.org/docs/user_guide/index.html)\n",
    "\n",
    "[Atributos, operaciones y funciones en Series](https://pandas.pydata.org/pandas-docs/stable/reference/series.html)\n",
    "```"
   ]
  },
  {
   "cell_type": "code",
   "execution_count": 1,
   "id": "165dfb19-58a2-4df2-984d-ffa8e1d1c19a",
   "metadata": {},
   "outputs": [
    {
     "name": "stdout",
     "output_type": "stream",
     "text": [
      "Requirement already satisfied: pandas in /Users/claudiorojas/anaconda3/lib/python3.11/site-packages (2.0.3)\r\n",
      "Requirement already satisfied: python-dateutil>=2.8.2 in /Users/claudiorojas/anaconda3/lib/python3.11/site-packages (from pandas) (2.8.2)\r\n"
     ]
    },
    {
     "name": "stdout",
     "output_type": "stream",
     "text": [
      "Requirement already satisfied: pytz>=2020.1 in /Users/claudiorojas/anaconda3/lib/python3.11/site-packages (from pandas) (2023.3.post1)\r\n",
      "Requirement already satisfied: tzdata>=2022.1 in /Users/claudiorojas/anaconda3/lib/python3.11/site-packages (from pandas) (2023.3)\r\n",
      "Requirement already satisfied: numpy>=1.21.0 in /Users/claudiorojas/anaconda3/lib/python3.11/site-packages (from pandas) (1.24.3)\r\n",
      "Requirement already satisfied: six>=1.5 in /Users/claudiorojas/anaconda3/lib/python3.11/site-packages (from python-dateutil>=2.8.2->pandas) (1.16.0)\r\n"
     ]
    },
    {
     "name": "stdout",
     "output_type": "stream",
     "text": [
      "Note: you may need to restart the kernel to use updated packages.\n"
     ]
    }
   ],
   "source": [
    "pip install pandas # en caso de que no est instalada."
   ]
  },
  {
   "cell_type": "code",
   "execution_count": 2,
   "id": "3a2fd423-bfe4-48d8-b2bd-27d17d7a755a",
   "metadata": {
    "tags": []
   },
   "outputs": [],
   "source": [
    "# importamos las librerías, le damos un seudónimo a las librerias para mejorar \n",
    "# legibilidad en el código.\n",
    "import pandas as pd"
   ]
  },
  {
   "cell_type": "markdown",
   "id": "ab2cb959-389b-46cd-acfc-9cc543a5d08f",
   "metadata": {},
   "source": [
    "<div align=\"justify\"><strong>Crear un DataFrame.</strong>: Crea un DataFrame simple a partir de un diccionario </div> "
   ]
  },
  {
   "cell_type": "code",
   "execution_count": 3,
   "id": "713ded33-71e0-4aa1-ba08-cd93566e7282",
   "metadata": {
    "tags": []
   },
   "outputs": [
    {
     "name": "stdout",
     "output_type": "stream",
     "text": [
      "   Nombre  Edad        Ciudad\n",
      "0    Juan    25        México\n",
      "1   María    30        Madrid\n",
      "2  Carlos    35  Buenos Aires\n",
      "3    Luis    40          Lima\n"
     ]
    }
   ],
   "source": [
    "data = {'Nombre': ['Juan', 'María', 'Carlos', 'Luis'],\n",
    "        'Edad': [25, 30, 35, 40],\n",
    "        'Ciudad': ['México', 'Madrid', 'Buenos Aires', 'Lima']}\n",
    "df = pd.DataFrame(data)\n",
    "print(df)"
   ]
  },
  {
   "cell_type": "markdown",
   "id": "80852aa9-9536-44bd-ae1c-639aa13778ac",
   "metadata": {},
   "source": [
    "<div align=\"justify\"><strong>Seleccionar columnas</strong> : Selecciona una columna específica del DataFrame.</div>  "
   ]
  },
  {
   "cell_type": "code",
   "execution_count": 4,
   "id": "86812efe-d193-4f03-9eb1-0979912100a0",
   "metadata": {
    "tags": []
   },
   "outputs": [
    {
     "name": "stdout",
     "output_type": "stream",
     "text": [
      "0      Juan\n",
      "1     María\n",
      "2    Carlos\n",
      "3      Luis\n",
      "Name: Nombre, dtype: object\n"
     ]
    }
   ],
   "source": [
    "print(df['Nombre'])"
   ]
  },
  {
   "cell_type": "markdown",
   "id": "214b1773-22d0-4b24-9d38-c5b342db5ab2",
   "metadata": {},
   "source": [
    "<div align=\"justify\"><strong>Filtrar filas</strong>: Filtra filas basadas en una condición.</div> "
   ]
  },
  {
   "cell_type": "code",
   "execution_count": 5,
   "id": "d23395a7-b718-4198-8bbd-f5d4b4038177",
   "metadata": {
    "tags": []
   },
   "outputs": [
    {
     "name": "stdout",
     "output_type": "stream",
     "text": [
      "   Nombre  Edad        Ciudad\n",
      "2  Carlos    35  Buenos Aires\n",
      "3    Luis    40          Lima\n"
     ]
    }
   ],
   "source": [
    "filtro = df['Edad'] > 30\n",
    "print(df[filtro])"
   ]
  },
  {
   "cell_type": "markdown",
   "id": "828efbfb-73e3-4a77-861d-690c565e1d58",
   "metadata": {},
   "source": [
    "<div align=\"justify\"><strong>Agregar una nueva columna</strong>: Agrega una nueva columna al DataFrame.</div>"
   ]
  },
  {
   "cell_type": "code",
   "execution_count": 6,
   "id": "bfa33707-a62a-4aaa-89d8-d348ef277c33",
   "metadata": {
    "tags": []
   },
   "outputs": [
    {
     "name": "stdout",
     "output_type": "stream",
     "text": [
      "   Nombre  Edad        Ciudad  Género\n",
      "0    Juan    25        México  Hombre\n",
      "1   María    30        Madrid   Mujer\n",
      "2  Carlos    35  Buenos Aires  Hombre\n",
      "3    Luis    40          Lima  Hombre\n"
     ]
    }
   ],
   "source": [
    "df['Género'] = ['Hombre', 'Mujer', 'Hombre', 'Hombre']\n",
    "print(df)"
   ]
  },
  {
   "cell_type": "markdown",
   "id": "689e16fa-d3b2-47d8-a58c-284bf92d839b",
   "metadata": {},
   "source": [
    "<div align=\"justify\"><strong> Eliminar columnas</strong> : Elimina una columna del DataFrame.</div> "
   ]
  },
  {
   "cell_type": "code",
   "execution_count": 7,
   "id": "1f7d3ce8-acf8-44a8-a175-a5599f324bab",
   "metadata": {
    "tags": []
   },
   "outputs": [
    {
     "name": "stdout",
     "output_type": "stream",
     "text": [
      "   Nombre  Edad  Género\n",
      "0    Juan    25  Hombre\n",
      "1   María    30   Mujer\n",
      "2  Carlos    35  Hombre\n",
      "3    Luis    40  Hombre\n"
     ]
    }
   ],
   "source": [
    "df = df.drop('Ciudad', axis=1)\n",
    "print(df)"
   ]
  },
  {
   "cell_type": "markdown",
   "id": "1405ce2e-313b-44da-af12-2eddd205f929",
   "metadata": {},
   "source": [
    "<div align=\"justify\"><strong> Agregar una fila</strong>: Agrega una nueva fila al DataFrame.</div> "
   ]
  },
  {
   "cell_type": "code",
   "execution_count": 8,
   "id": "e8b5ceba-0782-45a3-a36d-e9f1ed138e6e",
   "metadata": {
    "tags": []
   },
   "outputs": [
    {
     "name": "stdout",
     "output_type": "stream",
     "text": [
      "   Nombre  Edad  Género     Ciudad\n",
      "0    Juan    25  Hombre        NaN\n",
      "1   María    30   Mujer        NaN\n",
      "2  Carlos    35  Hombre        NaN\n",
      "3    Luis    40  Hombre        NaN\n",
      "4   Laura    28   Mujer  Barcelona\n"
     ]
    }
   ],
   "source": [
    "nueva_fila = pd.DataFrame({'Nombre': ['Laura'], 'Edad': [28], 'Ciudad': ['Barcelona'],\n",
    "                           'Género': ['Mujer']})\n",
    "df = pd.concat([df, nueva_fila], ignore_index=True)\n",
    "print(df)"
   ]
  },
  {
   "cell_type": "markdown",
   "id": "e7325b18-aab4-490e-887e-1329f061d381",
   "metadata": {},
   "source": [
    "<div align=\"justify\"><strong> Eliminar filas</strong>: Elimina filas del DataFrame.</div>  "
   ]
  },
  {
   "cell_type": "code",
   "execution_count": 9,
   "id": "70c5c92c-fa96-4bca-ba53-f78933638088",
   "metadata": {
    "tags": []
   },
   "outputs": [
    {
     "name": "stdout",
     "output_type": "stream",
     "text": [
      "   Nombre  Edad  Género     Ciudad\n",
      "1   María    30   Mujer        NaN\n",
      "2  Carlos    35  Hombre        NaN\n",
      "3    Luis    40  Hombre        NaN\n",
      "4   Laura    28   Mujer  Barcelona\n"
     ]
    }
   ],
   "source": [
    "df = df.drop(0)\n",
    "print(df)"
   ]
  },
  {
   "cell_type": "markdown",
   "id": "dbaaa11d-ad86-443a-af35-897a3d2f8f9c",
   "metadata": {},
   "source": [
    "<div align=\"justify\"><strong>Exportar a CSV</strong> : Exporta el DataFrame a un archivo CSV.</div>"
   ]
  },
  {
   "cell_type": "code",
   "execution_count": 10,
   "id": "744fd297-3906-4f01-8836-a74e08f773ef",
   "metadata": {
    "tags": []
   },
   "outputs": [],
   "source": [
    "df.to_csv('nuevo_archivo.csv', index=False)"
   ]
  }
 ],
 "metadata": {
  "kernelspec": {
   "display_name": "Python 3",
   "language": "python",
   "name": "python3"
  },
  "language_info": {
   "codemirror_mode": {
    "name": "ipython",
    "version": 3
   },
   "file_extension": ".py",
   "mimetype": "text/x-python",
   "name": "python",
   "nbconvert_exporter": "python",
   "pygments_lexer": "ipython3",
   "version": "3.11.5"
  },
  "toc-autonumbering": false
 },
 "nbformat": 4,
 "nbformat_minor": 5
}
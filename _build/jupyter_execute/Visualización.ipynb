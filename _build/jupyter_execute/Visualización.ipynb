{
 "cells": [
  {
   "cell_type": "markdown",
   "id": "d7550e2d-f81e-4246-b2b2-6195d291bde4",
   "metadata": {},
   "source": [
    "# ¿Qué es el Análisis y la Visualización de Datos?"
   ]
  },
  {
   "cell_type": "markdown",
   "id": "b6163692-088d-4945-aca9-5cf3c72bffa4",
   "metadata": {},
   "source": [
    "## Análisis de Datos"
   ]
  },
  {
   "cell_type": "markdown",
   "id": "5ce1ee3c-e109-4852-b898-77d65af13c99",
   "metadata": {},
   "source": [
    ":::{figure-md} markdown-fig\n",
    "<img src=\"analitica.jpg\" alt=\"datos\" width=\"600px\">\n",
    "\n",
    "Análisis de Datos\n",
    ":::"
   ]
  },
  {
   "cell_type": "markdown",
   "id": "7cbee6c6-fbb7-4f66-bf4e-8e7c6c10be44",
   "metadata": {},
   "source": [
    "<div align=\"justify\"> La analítica de datos es una disciplina fundamental en la actualidad, impulsando la toma de decisiones informadas y estratégicas en una variedad de campos. Algunas razones por las cuales la analítica de datos es tan importante:</div><br>\n",
    "\n",
    "<strong>Toma de Decisiones Basada en Datos</strong>\n",
    "\n",
    "- <div align=\"justify\"><strong>Objetividad y Precisión</strong>: Permite tomar decisiones basadas en hechos y cifras en lugar de intuiciones o suposiciones, lo que aumenta la precisión y efectividad de las decisiones.</div>\n",
    "\n",
    "- <div align=\"justify\"><strong>Identificación de Tendencias y Patrones</strong>: Analizar grandes conjuntos de datos puede revelar tendencias y patrones que no son evidentes a simple vista, proporcionando <strong>insights</strong> valiosos para la planificación estratégica.</div>\n",
    "\n",
    "<strong>Ventaja Competitiva</strong>\n",
    "\n",
    "- <div align=\"justify\"><strong>Optimización de Procesos</strong>: Las empresas pueden optimizar sus procesos operativos mediante la identificación de ineficiencias y la implementación de mejoras basadas en datos.</div>\n",
    "\n",
    "- <div align=\"justify\"><strong>Innovación</strong>: al identificar necesidades y preferencias del mercado puede conducir a la innovación en productos y servicios.</div>\n",
    "\n",
    "<strong>Mejora de la Experiencia del Cliente</strong>\n",
    "- <div align=\"justify\"><strong>Personalización y Satisfacción</strong>: Permite ofrecer experiencias personalizadas y generar más satisfacción a los clientes mediante el análisis de sus comportamientos y preferencias.</div>\n",
    "\n",
    "<strong>Reducción de Costos</strong><br>\n",
    "- <div align=\"justify\"><strong>Eficiencia Operativa</strong>: Identificar áreas donde se puede reducir el desperdicio y optimizar el uso de recursos.</div>\n",
    "\n",
    "- <div align=\"justify\"><strong>Prevención de Fraude</strong>: Implementar sistemas de detección de fraude basados en patrones anómalos en los datos transaccionales.</div>\n",
    "\n",
    "<strong>Predicción y Planificación</strong><br>\n",
    "- <div align=\"justify\"><strong>Predicción de Demandas</strong>: Ayuda a predecir demandas futuras, permitiendo a las empresas gestionar mejor sus inventarios y recursos.</div>\n",
    "\n",
    "- <div align=\"justify\"><strong>Planificación Estratégica</strong>: Proveer insights para la planificación a largo plazo, ayudando a las empresas a anticiparse a las tendencias del mercado y preparar estrategias efectivas.</div>\n",
    "\n",
    "<strong>Cumplimiento Normativo y Gestión de Riesgos</strong>\n",
    "\n",
    "- <div align=\"justify\"><strong>Cumplimiento Normativo</strong>: Asegura que las organizaciones cumplan con las normativas y regulaciones al monitorear y analizar continuamente los datos relevantes.</div>\n",
    "\n",
    "- <div align=\"justify\"><strong>Gestión de Riesgos</strong>: Identificar y mitigar riesgos potenciales mediante el análisis de datos históricos y la modelización de escenarios.</div>"
   ]
  },
  {
   "cell_type": "markdown",
   "id": "c7f417e0-66b0-4be5-a784-7d17403a2f18",
   "metadata": {},
   "source": [
    "```{admonition} Ejemplos de uso en Educación\n",
    "- <div align=\"justify\"><strong>Análisis de rendimiento académico</strong>: Analizar el rendimiento de los estudiantes para identificar brechas, problemas y adaptar decisiones para la mejora, por ejemplo, diseñar métodos de enseñanza más efectivos.</div>\n",
    "\n",
    "- <div align=\"justify\"><strong>Predicción del Desempeño</strong>: Identificar estudiantes en riesgo y tomar medidas proactivas para mejorar su rendimiento académico y evitar situaciones de repitencia.</div>\n",
    "```"
   ]
  },
  {
   "cell_type": "markdown",
   "id": "f7cb022a-b7f3-427d-b385-4a5710109131",
   "metadata": {
    "tags": []
   },
   "source": [
    "## Visualización"
   ]
  },
  {
   "cell_type": "markdown",
   "id": "7ca32b70-5308-4868-addc-decf3419a24a",
   "metadata": {},
   "source": [
    "```{admonition} ¿Por qué es importante la visualización?\n",
    "<div align=\"justify\"> Un aspecto importante al trabajar con Datos es no solo el análisis sino su visualización. Por lo mismo, es muy importante saber elegir el o los gráficos adecuados para dar cuenta del análisis realizado y de la información que se desea dar a conocer</div>\n",
    "\n",
    "<div align=\"justify\">Elegir el mejor gráfico para visualizar datos depende de varios factores, entre ellos los tipos de datos que uno posees, el mensaje que deseotransmitir y la audiencia a la que me dirigo. Aquí hay algunas consideraciones para tomar la mejor decisión:</div>\n",
    "```"
   ]
  },
  {
   "cell_type": "markdown",
   "id": "d3836d60-e61a-4cd8-a9cb-9bd127bd5940",
   "metadata": {
    "tags": []
   },
   "source": [
    ":::{figure-md} markdown-fig\n",
    "<img src=\"chart_type.jpeg\" alt=\"grafico\" width=\"500px\">\n",
    "\n",
    "Tipos de Gráficos [Fuente](https://infogram.com/blog/choose-the-right-chart/)\n",
    ":::"
   ]
  },
  {
   "cell_type": "markdown",
   "id": "13780700-eca9-4902-ab09-83a9ca990d31",
   "metadata": {},
   "source": [
    "### Tipos de Datos"
   ]
  },
  {
   "cell_type": "markdown",
   "id": "8a928cc0-abac-48f9-a4ba-d6ec7b451adc",
   "metadata": {},
   "source": [
    "<strong>Datos Categóricos</strong>\n",
    "\n",
    "- <strong>Gráfico de Barras</strong>: Ideal para comparar cantidades entre diferentes categorías.\n",
    "- <strong>Gráfico de Pastel</strong>: Útil para mostrar proporciones dentro de un todo, aunque puede ser menos efectivo que los gráficos de barras si hay muchas categorías.\n",
    "- <strong>Gráfico de Columnas</strong>: Similar al gráfico de barras pero con orientación vertical, adecuado para mostrar cambios a lo largo del tiempo si hay muchas categorías."
   ]
  },
  {
   "cell_type": "markdown",
   "id": "4a456897-60eb-45eb-8f62-2a3e0578e51b",
   "metadata": {},
   "source": [
    "<strong>Datos Numéricos</strong>\n",
    "\n",
    "- <strong>Histograma</strong>: Adecuado para mostrar la distribución de un conjunto de datos numéricos.\n",
    "- <strong>Gráfico de Líneas</strong>: Ideal para mostrar tendencias a lo largo del tiempo.\n",
    "- <strong>Diagrama de Dispersión</strong>: Bueno para mostrar la relación entre dos variables numéricas."
   ]
  },
  {
   "cell_type": "markdown",
   "id": "5cfcc22d-1c83-4398-b235-25f9c0a14e96",
   "metadata": {},
   "source": [
    "<strong>Datos Temporales</strong>\n",
    "\n",
    "- <strong>Gráfico de Líneas</strong>: Perfecto para mostrar cómo cambian los datos a lo largo del tiempo.\n",
    "- <strong>Gráfico de Áreas</strong>: Útil para mostrar cambios acumulativos a lo largo del tiempo."
   ]
  },
  {
   "cell_type": "markdown",
   "id": "66a024cc-91cb-4f87-b917-05bb73606c5d",
   "metadata": {},
   "source": [
    "<strong>Datos de Relación</strong>\n",
    "\n",
    "- <strong>Diagrama de Dispersión</strong>: Útil para mostrar la relación entre dos variables.\n",
    "- <strong>Gráfico de Burbuja</strong>: Extiende el diagrama de dispersión añadiendo una tercera variable a través del tamaño de la burbuja."
   ]
  },
  {
   "cell_type": "markdown",
   "id": "f57a5021-1367-4e30-931d-dddc343c33e4",
   "metadata": {},
   "source": [
    "### Propósito del Análisis"
   ]
  },
  {
   "cell_type": "markdown",
   "id": "c8791640-2a9a-40ff-911f-82b459cde98a",
   "metadata": {},
   "source": [
    "<strong>Comparación</strong>\n",
    "\n",
    "- <strong>Gráfico de Barras</strong>: Excelente para comparar diferentes categorías.\n",
    "- <strong>Gráfico de Líneas</strong>: Bueno para comparar tendencias a lo largo del tiempo.\n"
   ]
  },
  {
   "cell_type": "markdown",
   "id": "1cbd29ba-b415-4642-968d-dfef41ab2c19",
   "metadata": {},
   "source": [
    "<strong>Distribución</strong>\n",
    "\n",
    "- <strong>Histograma</strong>: Ideal para mostrar la distribución de un conjunto de datos.\n",
    "- <strong>Gráfico de Violín</strong>: Combina aspectos de un box plot y un kernel density plot para mostrar la distribución y probabilidad.\n"
   ]
  },
  {
   "cell_type": "markdown",
   "id": "e4e0092a-739b-40f7-8e2c-c9707edcc58b",
   "metadata": {},
   "source": [
    "<strong>Relación</strong>\n",
    "\n",
    "- <strong>Diagrama de Dispersión</strong>: Bueno para ver la relación entre dos variables.\n",
    "- <strong>Mapa de Calor</strong>: Útil para mostrar la intensidad de las relaciones entre variables."
   ]
  },
  {
   "cell_type": "markdown",
   "id": "5b52fda5-347a-400d-9273-c2dc4858099b",
   "metadata": {},
   "source": [
    "<strong>Composición</strong>\n",
    "\n",
    "- <strong>Gráfico de Pastel</strong>: Bueno para mostrar la composición de un todo.\n",
    "- <strong>Gráfico de Áreas Apiladas</strong>: Muestra cómo las partes de un todo cambian con el tiempo.\n"
   ]
  },
  {
   "cell_type": "markdown",
   "id": "5f633e71-55ca-43b8-b8f0-861212c16d40",
   "metadata": {},
   "source": [
    "`````{admonition} Revisa estos link para visualizar gráficos\n",
    ":class: tip\n",
    "[¿Cómo elegir el gráfico correcto para visualizar datos abiertos?](https://datos.gob.es/es/blog/como-elegir-el-grafico-correcto-para-visualizar-datos-abiertos)\n",
    "\n",
    "[Documentación de Plotly](https://plotly.com/python/)\n",
    "\n",
    "[The Python Graph Gallery](https://python-graph-gallery.com) \n",
    "\n",
    "[Phyton Charts](https://python-charts.com)\n",
    "\n",
    "[How to choose the right chart for your data](https://infogram.com/blog/choose-the-right-chart/)\n",
    "\n",
    "[Librería Bokeh](https://bokeh.org)\n",
    "`````"
   ]
  },
  {
   "cell_type": "markdown",
   "id": "9bbddc80-f6c1-4364-853c-6c34691540d4",
   "metadata": {},
   "source": [
    "## Librerías"
   ]
  },
  {
   "cell_type": "markdown",
   "id": "c66c3eed-5041-41ad-84fc-55bea4185e6c",
   "metadata": {},
   "source": [
    "```{admonition} ¿Qué es una librería en Python?\n",
    "<div align=\"justify\">Una librería en Python es un conjunto de funciones y herramientas predefinidas que se pueden utilizar para realizar tareas específicas sin necesidad de escribir el código desde cero. Estas librerías están diseñadas para ser reutilizables y facilitar el desarrollo de aplicaciones al proporcionar funciones y métodos que abordan problemas comunes.</div>\n",
    "```"
   ]
  },
  {
   "cell_type": "markdown",
   "id": "e514692a-8ee4-4b8e-9f19-fef01061a27d",
   "metadata": {},
   "source": [
    "```{table} Algunas Librerías de Python\n",
    ":name: my-table-ref\n",
    "\n",
    "|  Nombre |  Categoría| Descripción | \n",
    "|:-----:|:-----:|:-----:|\n",
    "| math| Matemáticas|Provee funciones matemáticas, incluyendo trigonometría y logaritmos|\n",
    "| datatime|fecha y hora|Tiene funciones que permiten manipular fechas y horas|\n",
    "| os| Sistema operativo| Proporciona una forma portátil de utilizar funciones dependientes del sistema operativo, como leer o escribir archivos.|\n",
    "| sys|Sistema específico|Permite que los programas Python manipulen partes del entorno de ejecución, como los argumentos de la línea de comandos o el estado de salida.|\n",
    "| Random|Valor Aleatorio|Genera números pseudoaleatorios, permite la selección aleatoria de elementos, permutaciones aleatorias y más.|\n",
    "| re|Expresiones Regulares|Proporciona funciones para trabajar con expresiones regulares para potentes técnicas de manipulación de cadenas.|\n",
    "| urlib|Módulos de manejos de URL|Obtiene URL y proporciona funcionalidad para analizar URL y cambiar entre rutas absolutas y relativas.|\n",
    "| Bokeh|Visualización|visualización interactiva para Python que permite crear gráficos y widgets en línea.|\n",
    "| Plotly|Visualización|Crear visualizaciones de datos de tipo interactivo y en 3D, en línea.|\n",
    "\n",
    "```\n"
   ]
  },
  {
   "cell_type": "code",
   "execution_count": null,
   "id": "b62af198-be89-4220-9950-33cdd53782cc",
   "metadata": {},
   "outputs": [],
   "source": []
  }
 ],
 "metadata": {
  "kernelspec": {
   "display_name": "Python 3",
   "language": "python",
   "name": "python3"
  },
  "language_info": {
   "codemirror_mode": {
    "name": "ipython",
    "version": 3
   },
   "file_extension": ".py",
   "mimetype": "text/x-python",
   "name": "python",
   "nbconvert_exporter": "python",
   "pygments_lexer": "ipython3",
   "version": "3.11.5"
  },
  "toc-autonumbering": false
 },
 "nbformat": 4,
 "nbformat_minor": 5
}
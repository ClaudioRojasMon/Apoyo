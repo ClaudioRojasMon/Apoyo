{
 "cells": [
  {
   "cell_type": "markdown",
   "id": "8a5807ed",
   "metadata": {},
   "source": [
    "# Práctica I"
   ]
  },
  {
   "cell_type": "markdown",
   "id": "fd27525a-d206-4865-a01f-6f4d5a44fd01",
   "metadata": {},
   "source": [
    "## Resuelve la siguiente lista de ejercicios"
   ]
  },
  {
   "cell_type": "markdown",
   "id": "4a7053e5",
   "metadata": {},
   "source": [
    "- ¿Cuántos segundos tiene 24 minutos y 36 segundos?"
   ]
  },
  {
   "cell_type": "markdown",
   "id": "dbc10345-42dc-422b-bc24-9253ce5720c0",
   "metadata": {},
   "source": [
    "- ¿Cuánto es 2 elevado a 14?"
   ]
  },
  {
   "cell_type": "markdown",
   "id": "97f9aaaa-d7a7-4afd-89b6-a1c256b8d48b",
   "metadata": {},
   "source": [
    "- Imprime la siguiente frase: Yo quiero aprender Python :)"
   ]
  },
  {
   "cell_type": "markdown",
   "id": "8198ab68",
   "metadata": {},
   "source": [
    "- ¿Cuál es la diferencia entre 15 y \"15\" en cuanto tipo de valor?"
   ]
  },
  {
   "cell_type": "markdown",
   "id": "105b6c5b-d770-4d05-90b1-30e237591c2b",
   "metadata": {},
   "source": [
    "- Escribe un programa que contenga las siguientes variables:\n",
    "1. nombre: tipo string y valor \"Michael Jordan\"\n",
    "2. edad: tipo integer y valor 50\n",
    "3. media_puntos: tipo float y valor 28.5\n",
    "4. activo: False\n",
    "5. El programa deberá mostrar en pantalla todos los valores."
   ]
  },
  {
   "cell_type": "markdown",
   "id": "762ed378-e631-4ceb-ad8a-8ac3fb369ca1",
   "metadata": {},
   "source": [
    "- Escribe un programa que solicite el nombre, rut y edad y los muestre por pantalla los valores introducidos."
   ]
  },
  {
   "cell_type": "markdown",
   "id": "0511a4ec-311f-4617-8f53-45d2f269f9fa",
   "metadata": {},
   "source": [
    "- Crea un programa que solicite al usuario el radio de un círculo y calcule el área. Nota: Utiliza 3.14159 como número PI para el cálculo del área."
   ]
  },
  {
   "cell_type": "markdown",
   "id": "e9d5e119-35bc-4594-aee3-caf5162549b1",
   "metadata": {},
   "source": [
    "- Crea un programa que solicite un número al usuario y devuelva el siguiente mensaje:\n",
    "1. Si es mayor que 0: \"Es un número positivo.\"\n",
    "2. Si es igual a 0: \"Es igual a cero.\n",
    "3. Si es menor que 0: \"Es un número negativo.\""
   ]
  },
  {
   "cell_type": "markdown",
   "id": "cc05b3c5-36b0-4d45-bf75-adb0c96a6f84",
   "metadata": {},
   "source": [
    "- Dada la siguiente lista [1, 2, 5, 9, 11, 13] realiza las siguientes operaciones y vete mostrando la lista resultante por pantalla:\n",
    "1. Elimina el último número y añádelo al principio.\n",
    "2. Mueve el segundo elemento a la última posición.\n",
    "3. Añade el número 14 al comienzo de la lista.\n",
    "4. Suma todos los números de la lista y añade el resultado al final de la lista.\n",
    "5. Fusiona la lista actual con la siguiente: [4, 10, 3]\n",
    "6. Elimina todos los números impares de la lista.\n",
    "7. Ordena los números de la lista de forma ascendente.\n",
    "8. Vacía la lista."
   ]
  },
  {
   "cell_type": "markdown",
   "id": "a26c3da6-5e28-4031-994e-b0cbbbce3874",
   "metadata": {},
   "source": [
    "## Solucionario"
   ]
  },
  {
   "cell_type": "markdown",
   "id": "6eac7949-6ff5-4e54-855a-1c76c2d2f265",
   "metadata": {},
   "source": [
    "```{warning}\n",
    "Recuerda que los algoritmos  que se ofrecen en este solucionario no son respuestas únicas y son solo guías para orientar el aprendizaje.\n",
    "```"
   ]
  },
  {
   "cell_type": "markdown",
   "id": "fdf6e609-e5a6-4329-b4cf-f3d202f2d5bd",
   "metadata": {},
   "source": [
    "- ¿Cuántos segundos tiene 24 minutos y 36 segundos?"
   ]
  },
  {
   "cell_type": "code",
   "execution_count": 1,
   "id": "8cccc4c1-b01b-400c-875f-793993a99b00",
   "metadata": {},
   "outputs": [
    {
     "data": {
      "text/plain": [
       "1476"
      ]
     },
     "execution_count": 1,
     "metadata": {},
     "output_type": "execute_result"
    }
   ],
   "source": [
    "24*60+36"
   ]
  },
  {
   "cell_type": "markdown",
   "id": "cf6b8f94-a3b1-4eae-bd20-ef61599f7462",
   "metadata": {},
   "source": [
    "- ¿Cuánto es 2 elevado a 14?"
   ]
  },
  {
   "cell_type": "code",
   "execution_count": 2,
   "id": "505b544c-551d-4f53-ae0c-8763cb64e6e8",
   "metadata": {},
   "outputs": [
    {
     "data": {
      "text/plain": [
       "16384"
      ]
     },
     "execution_count": 2,
     "metadata": {},
     "output_type": "execute_result"
    }
   ],
   "source": [
    "2**14"
   ]
  },
  {
   "cell_type": "markdown",
   "id": "b45b718a-1f7f-4edb-a452-c7471bf516b9",
   "metadata": {},
   "source": [
    "- Imprime la siguiente frase: Yo quiero aprender Python :)"
   ]
  },
  {
   "cell_type": "code",
   "execution_count": 3,
   "id": "90a3279b-d413-4423-aa2d-f60fce941b98",
   "metadata": {},
   "outputs": [
    {
     "name": "stdout",
     "output_type": "stream",
     "text": [
      "Yo quiero aprender Python :)\n"
     ]
    }
   ],
   "source": [
    "print(\"Yo quiero aprender Python :)\")"
   ]
  },
  {
   "cell_type": "markdown",
   "id": "d11747aa-ccda-4f64-93aa-08202d1070d0",
   "metadata": {},
   "source": [
    "- ¿Cuál es la diferencia entre 15 y \"15\" en cuanto tipo de valor?"
   ]
  },
  {
   "cell_type": "code",
   "execution_count": 4,
   "id": "8cc5569f-3088-420b-8db0-5b52c3291e87",
   "metadata": {},
   "outputs": [
    {
     "data": {
      "text/plain": [
       "int"
      ]
     },
     "execution_count": 4,
     "metadata": {},
     "output_type": "execute_result"
    }
   ],
   "source": [
    "type(15)"
   ]
  },
  {
   "cell_type": "code",
   "execution_count": 5,
   "id": "441de988-bbc6-4d0e-aeff-c87317cdc43d",
   "metadata": {},
   "outputs": [
    {
     "data": {
      "text/plain": [
       "str"
      ]
     },
     "execution_count": 5,
     "metadata": {},
     "output_type": "execute_result"
    }
   ],
   "source": [
    "type(\"15\")"
   ]
  },
  {
   "cell_type": "markdown",
   "id": "771816bb-32a2-4ce4-ae8b-6750d7312c17",
   "metadata": {},
   "source": [
    "- Escribe un programa que contenga las siguientes variables:\n",
    "1. nombre: tipo string y valor \"Michael Jordan\"\n",
    "2. edad: tipo integer y valor 50\n",
    "3. media_puntos: tipo float y valor 28.5\n",
    "4. activo: False\n",
    "5. El programa deberá mostrar en pantalla todos los valores."
   ]
  },
  {
   "cell_type": "code",
   "execution_count": 6,
   "id": "4c9b819e-0f1e-47fa-b18e-ca68711a8a96",
   "metadata": {},
   "outputs": [
    {
     "name": "stdout",
     "output_type": "stream",
     "text": [
      "Nombre: Michael Jordan\n",
      "Edad: 50\n",
      "Media de puntos: 28.5\n",
      "Activo: False\n"
     ]
    }
   ],
   "source": [
    "nombre = \"Michael Jordan\" \n",
    "edad = 50\n",
    "media_puntos = 28.5 \n",
    "activo = False\n",
    "print(\"Nombre:\", nombre)\n",
    "print(\"Edad:\", edad)\n",
    "print(\"Media de puntos:\", media_puntos)\n",
    "print(\"Activo:\", activo)"
   ]
  },
  {
   "cell_type": "markdown",
   "id": "41cb99b3-89cd-4eae-a7e1-37e1076725b5",
   "metadata": {},
   "source": [
    "- Escribe un programa que solicite el nombre, rut y edad y los muestre por pantalla los valores introducidos."
   ]
  },
  {
   "cell_type": "code",
   "execution_count": 7,
   "id": "63cb2238-d245-49ff-9f94-9f4b8a99f578",
   "metadata": {},
   "outputs": [
    {
     "ename": "StdinNotImplementedError",
     "evalue": "raw_input was called, but this frontend does not support input requests.",
     "output_type": "error",
     "traceback": [
      "\u001b[0;31m---------------------------------------------------------------------------\u001b[0m",
      "\u001b[0;31mStdinNotImplementedError\u001b[0m                  Traceback (most recent call last)",
      "Cell \u001b[0;32mIn[7], line 1\u001b[0m\n\u001b[0;32m----> 1\u001b[0m nombre \u001b[38;5;241m=\u001b[39m \u001b[38;5;28minput\u001b[39m(\u001b[38;5;124m\"\u001b[39m\u001b[38;5;124mIntroduce tu nombre: \u001b[39m\u001b[38;5;124m\"\u001b[39m) \n\u001b[1;32m      2\u001b[0m rut \u001b[38;5;241m=\u001b[39m \u001b[38;5;28minput\u001b[39m(\u001b[38;5;124m\"\u001b[39m\u001b[38;5;124mIntroduce tu RUT: \u001b[39m\u001b[38;5;124m\"\u001b[39m)\n\u001b[1;32m      3\u001b[0m edad \u001b[38;5;241m=\u001b[39m \u001b[38;5;28mint\u001b[39m(\u001b[38;5;28minput\u001b[39m(\u001b[38;5;124m\"\u001b[39m\u001b[38;5;124mIntroduce tu edad: \u001b[39m\u001b[38;5;124m\"\u001b[39m))\n",
      "File \u001b[0;32m~/anaconda3/lib/python3.11/site-packages/ipykernel/kernelbase.py:1201\u001b[0m, in \u001b[0;36mKernel.raw_input\u001b[0;34m(self, prompt)\u001b[0m\n\u001b[1;32m   1199\u001b[0m \u001b[38;5;28;01mif\u001b[39;00m \u001b[38;5;129;01mnot\u001b[39;00m \u001b[38;5;28mself\u001b[39m\u001b[38;5;241m.\u001b[39m_allow_stdin:\n\u001b[1;32m   1200\u001b[0m     msg \u001b[38;5;241m=\u001b[39m \u001b[38;5;124m\"\u001b[39m\u001b[38;5;124mraw_input was called, but this frontend does not support input requests.\u001b[39m\u001b[38;5;124m\"\u001b[39m\n\u001b[0;32m-> 1201\u001b[0m     \u001b[38;5;28;01mraise\u001b[39;00m StdinNotImplementedError(msg)\n\u001b[1;32m   1202\u001b[0m \u001b[38;5;28;01mreturn\u001b[39;00m \u001b[38;5;28mself\u001b[39m\u001b[38;5;241m.\u001b[39m_input_request(\n\u001b[1;32m   1203\u001b[0m     \u001b[38;5;28mstr\u001b[39m(prompt),\n\u001b[1;32m   1204\u001b[0m     \u001b[38;5;28mself\u001b[39m\u001b[38;5;241m.\u001b[39m_parent_ident[\u001b[38;5;124m\"\u001b[39m\u001b[38;5;124mshell\u001b[39m\u001b[38;5;124m\"\u001b[39m],\n\u001b[1;32m   1205\u001b[0m     \u001b[38;5;28mself\u001b[39m\u001b[38;5;241m.\u001b[39mget_parent(\u001b[38;5;124m\"\u001b[39m\u001b[38;5;124mshell\u001b[39m\u001b[38;5;124m\"\u001b[39m),\n\u001b[1;32m   1206\u001b[0m     password\u001b[38;5;241m=\u001b[39m\u001b[38;5;28;01mFalse\u001b[39;00m,\n\u001b[1;32m   1207\u001b[0m )\n",
      "\u001b[0;31mStdinNotImplementedError\u001b[0m: raw_input was called, but this frontend does not support input requests."
     ]
    }
   ],
   "source": [
    "nombre = input(\"Introduce tu nombre: \") \n",
    "rut = input(\"Introduce tu RUT: \")\n",
    "edad = int(input(\"Introduce tu edad: \"))\n",
    "# Mostrar los valores introducidos por el usuario\n",
    "print(\"\\nLos valores introducidos son:\")\n",
    "print(\"Nombre:\", nombre)\n",
    "print(\"RUT:\", rut)\n",
    "print(\"Edad:\", edad)"
   ]
  },
  {
   "cell_type": "markdown",
   "id": "a4e5228b-e971-459c-b24c-12215cc82f81",
   "metadata": {},
   "source": [
    "- Crea un programa que solicite al usuario el radio de un círculo y calcule el área. Nota: Utiliza 3.14159 como número PI para el cálculo del área."
   ]
  },
  {
   "cell_type": "code",
   "execution_count": 5,
   "id": "722bc81e-4aa0-47f9-a79d-651b714d8817",
   "metadata": {},
   "outputs": [
    {
     "name": "stdin",
     "output_type": "stream",
     "text": [
      "Introduce el radio de una circunferencia :  786\n"
     ]
    },
    {
     "name": "stdout",
     "output_type": "stream",
     "text": [
      "El área de la ciruncferencia es: 1940861.7356399999\n"
     ]
    }
   ],
   "source": [
    "numero=int(input (\"Introduce el radio de una circunferencia : \")) \n",
    "resultado= (numero**2*3.14159)\n",
    "print(f\"El área de la ciruncferencia es: {resultado}\")"
   ]
  },
  {
   "cell_type": "markdown",
   "id": "396ec163-a783-4422-bff7-82e60460a66c",
   "metadata": {},
   "source": [
    "- Crea un programa que solicite un número al usuario y devuelva el siguiente mensaje:\n",
    "1. Si es mayor que 0: \"Es un número positivo.\"\n",
    "2. Si es igual a 0: \"Es igual a cero.\n",
    "3. Si es menor que 0: \"Es un número negativo.\""
   ]
  },
  {
   "cell_type": "code",
   "execution_count": 9,
   "id": "481e16f7-0caa-40d4-9826-44dcb7bcdf68",
   "metadata": {},
   "outputs": [
    {
     "name": "stdin",
     "output_type": "stream",
     "text": [
      "Introduce un número:  897\n"
     ]
    },
    {
     "name": "stdout",
     "output_type": "stream",
     "text": [
      "Es un número positivo.\n"
     ]
    }
   ],
   "source": [
    "# Solicitar un número al usuario\n",
    "numero = float(input(\"Introduce un número: \"))\n",
    "# Comprobar si es positivo, cero o negativo y mostrar el mensaje correspondi\n",
    "if numero > 0:\n",
    "    print(\"Es un número positivo.\")\n",
    "elif numero == 0:\n",
    "    print(\"Es igual a cero.\")\n",
    "else:\n",
    "    print(\"Es un número negativo.\")"
   ]
  },
  {
   "cell_type": "markdown",
   "id": "0241e524-9408-4080-9b12-f0e2adafd872",
   "metadata": {},
   "source": [
    "- Dada la siguiente lista [1, 2, 5, 9, 11, 13] realiza las siguientes operaciones y vete mostrando la lista resultante por pantalla:\n",
    "1. Elimina el último número y añádelo al principio.\n",
    "2. Mueve el segundo elemento a la última posición.\n",
    "3. Añade el número 14 al comienzo de la lista.\n",
    "4. Suma todos los números de la lista y añade el resultado al final de la lista.\n",
    "5. Fusiona la lista actual con la siguiente: [4, 10, 3]\n",
    "6. Elimina todos los números impares de la lista.\n",
    "7. Ordena los números de la lista de forma ascendente.\n",
    "8. Vacía la lista."
   ]
  },
  {
   "cell_type": "code",
   "execution_count": 14,
   "id": "ad881a32-0fe6-4da9-aadd-c66144c0f7dd",
   "metadata": {},
   "outputs": [
    {
     "name": "stdout",
     "output_type": "stream",
     "text": [
      "Lista original: [1, 2, 5, 9, 11, 13]\n",
      "Lista después de mover el último elemento al principio: [13, 1, 2, 5, 9, 11]\n",
      "Lista después de mover el segundo elemento a la última posición: [13, 2, 5, 9, 11, 1]\n",
      "Lista después de añadir el número 14 al comienzo: [14, 13, 2, 5, 9, 11, 1]\n",
      "Lista después de añadir la suma de todos sus elementos al final: [14, 13, 2, 5, 9, 11, 1, 55]\n",
      "Lista después de fusionarla con la lista [4, 10, 3]: [14, 13, 2, 5, 9, 11, 1, 55, 4, 10, 3]\n",
      "Lista después de eliminar todos los números impares: [14, 2, 4, 10]\n",
      "Lista después de ordenarla de forma ascendente: [2, 4, 10, 14]\n",
      "Lista vacía: []\n"
     ]
    }
   ],
   "source": [
    "# Definir la lista\n",
    "lista = [1, 2, 5, 9, 11, 13]\n",
    "print(\"Lista original:\", lista)\n",
    "\n",
    "# Eliminar el último número y añadirlo al principio\n",
    "ultimo = lista.pop()\n",
    "lista.insert(0, ultimo)\n",
    "print(\"Lista después de mover el último elemento al principio:\", lista)\n",
    "\n",
    "# Mover el segundo elemento a la última posición\n",
    "segundo = lista.pop(1)\n",
    "lista.append(segundo)\n",
    "print(\"Lista después de mover el segundo elemento a la última posición:\", lista)\n",
    "\n",
    "# Añadir el número 14 al comienzo de la lista\n",
    "lista.insert(0, 14)\n",
    "print(\"Lista después de añadir el número 14 al comienzo:\", lista)\n",
    "\n",
    "# Sumar todos los números de la lista y añadir el resultado al final\n",
    "suma = sum(lista)\n",
    "lista.append(suma)\n",
    "print(\"Lista después de añadir la suma de todos sus elementos al final:\", lista)\n",
    "\n",
    "# Fusionar la lista actual con la lista [4, 10, 3]\n",
    "lista.extend([4, 10, 3])\n",
    "print(\"Lista después de fusionarla con la lista [4, 10, 3]:\", lista)\n",
    "\n",
    "# Eliminar todos los números impares de la lista\n",
    "lista = [x for x in lista if x % 2 == 0]\n",
    "print(\"Lista después de eliminar todos los números impares:\", lista)\n",
    "\n",
    "# Ordenar los números de la lista de forma ascendente\n",
    "lista.sort()\n",
    "print(\"Lista después de ordenarla de forma ascendente:\", lista)\n",
    "\n",
    "# Vaciar la lista\n",
    "lista.clear()\n",
    "print(\"Lista vacía:\", lista)"
   ]
  },
  {
   "cell_type": "code",
   "execution_count": null,
   "id": "9c36e139-107e-4561-b1d1-5bd3b287601f",
   "metadata": {},
   "outputs": [],
   "source": []
  }
 ],
 "metadata": {
  "kernelspec": {
   "display_name": "Python 3",
   "language": "python",
   "name": "python3"
  },
  "language_info": {
   "codemirror_mode": {
    "name": "ipython",
    "version": 3
   },
   "file_extension": ".py",
   "mimetype": "text/x-python",
   "name": "python",
   "nbconvert_exporter": "python",
   "pygments_lexer": "ipython3",
   "version": "3.11.5"
  },
  "toc-autonumbering": false
 },
 "nbformat": 4,
 "nbformat_minor": 5
}
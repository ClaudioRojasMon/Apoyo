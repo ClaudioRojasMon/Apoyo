{
 "cells": [
  {
   "cell_type": "markdown",
   "id": "5373127c-3186-4455-b9cc-66669f6b5ee4",
   "metadata": {
    "tags": []
   },
   "source": [
    "# Operadores"
   ]
  },
  {
   "cell_type": "markdown",
   "id": "16358f39-ce76-4b15-97f7-c94645198197",
   "metadata": {},
   "source": [
    "```{admonition} ¿Qué son los Operadores?\n",
    "<div align=\"justify\"> Los <strong>operadores</strong> son símbolos o palabras que se utilizan para realizar operaciones con determinados valores o variables. Permiten hacer cálculos, comparaciones y obtener resultados booleanos, y son útiles para realizar “atajos” y ahorrarse varias líneas de código.</div>\n",
    "```"
   ]
  },
  {
   "cell_type": "markdown",
   "id": "abe9d8f8-50bc-418f-bea3-7a5fd203cbe2",
   "metadata": {},
   "source": [
    "## Operadores Relacionales o de Comparación"
   ]
  },
  {
   "cell_type": "markdown",
   "id": "8b837443-1830-4096-9225-6c2723bb37a1",
   "metadata": {},
   "source": [
    "```{table} **Lista de Operadores Relacionales**\n",
    ":name: my-table-ref\n",
    "\n",
    "|   Símbolo   | Tarea ejecutada |\n",
    "|:-----:|:-----:|\n",
    "| == | igual |\n",
    "| !=  | no igual |\n",
    "| < | menor que |\n",
    "| > | mayor que |\n",
    "| <=  | menor o igual queo |\n",
    "| >=  | mayor o igual que |\n",
    "```"
   ]
  },
  {
   "cell_type": "code",
   "execution_count": 1,
   "id": "09726e63-a089-47f4-bdfa-e1db7a6070a3",
   "metadata": {},
   "outputs": [
    {
     "name": "stdout",
     "output_type": "stream",
     "text": [
      "1\n"
     ]
    }
   ],
   "source": [
    "z = 1\n",
    "print(z)"
   ]
  },
  {
   "cell_type": "code",
   "execution_count": 2,
   "id": "e002b2c5-8790-44b9-8e84-607e567db174",
   "metadata": {},
   "outputs": [
    {
     "data": {
      "text/plain": [
       "False"
      ]
     },
     "execution_count": 2,
     "metadata": {},
     "output_type": "execute_result"
    }
   ],
   "source": [
    "z == 2"
   ]
  },
  {
   "cell_type": "code",
   "execution_count": 3,
   "id": "88889970-6150-4ac4-8cb8-a3b57d1cfbd9",
   "metadata": {},
   "outputs": [
    {
     "data": {
      "text/plain": [
       "True"
      ]
     },
     "execution_count": 3,
     "metadata": {},
     "output_type": "execute_result"
    }
   ],
   "source": [
    "z >= 1"
   ]
  },
  {
   "cell_type": "code",
   "execution_count": 4,
   "id": "5e67b979-d24d-4230-9ef6-fa4b0ec17110",
   "metadata": {},
   "outputs": [
    {
     "data": {
      "text/plain": [
       "True"
      ]
     },
     "execution_count": 4,
     "metadata": {},
     "output_type": "execute_result"
    }
   ],
   "source": [
    "z == 1.0"
   ]
  },
  {
   "cell_type": "code",
   "execution_count": 5,
   "id": "d32ef74e-0fc8-446b-ac25-1a8d1551aa87",
   "metadata": {},
   "outputs": [
    {
     "data": {
      "text/plain": [
       "False"
      ]
     },
     "execution_count": 5,
     "metadata": {},
     "output_type": "execute_result"
    }
   ],
   "source": [
    "id(z) == id(1.0)"
   ]
  },
  {
   "cell_type": "code",
   "execution_count": 6,
   "id": "1e25b70e-13c5-4b3f-99f9-d93eb67a31b9",
   "metadata": {},
   "outputs": [
    {
     "data": {
      "text/plain": [
       "4382057688"
      ]
     },
     "execution_count": 6,
     "metadata": {},
     "output_type": "execute_result"
    }
   ],
   "source": [
    "id(z)"
   ]
  },
  {
   "cell_type": "code",
   "execution_count": 7,
   "id": "c730de1b-5207-4f7e-8254-92c0ba1e6551",
   "metadata": {},
   "outputs": [
    {
     "data": {
      "text/plain": [
       "4436270928"
      ]
     },
     "execution_count": 7,
     "metadata": {},
     "output_type": "execute_result"
    }
   ],
   "source": [
    "id(1.0)"
   ]
  },
  {
   "cell_type": "markdown",
   "id": "9f20a500-9255-4082-936a-fa02600b6231",
   "metadata": {},
   "source": [
    "##  Operadores Lógicos"
   ]
  },
  {
   "cell_type": "markdown",
   "id": "dccbb93d-866f-4207-b3a4-b12c64fed295",
   "metadata": {
    "tags": []
   },
   "source": [
    "```{table} **Lista de Operadores Lógicos**\n",
    ":name: my-table-ref\n",
    "\n",
    "|  Operador  |  Nombre | Ejemplo  | \n",
    "|:-----:|:-----:|:-----:|\n",
    "| and| Devuelve True si ambos elementos son True | True and True = True|\n",
    "| or | Devuelve True si al menos un elemento es True | True or False = True|\n",
    "| not| Devuelve el contrario, True si es Falso y viceversa | not True = False|\n",
    "```"
   ]
  },
  {
   "cell_type": "code",
   "execution_count": 8,
   "id": "5afe27f4-6569-44b4-acc9-a70d9e8aaa1b",
   "metadata": {
    "tags": []
   },
   "outputs": [
    {
     "name": "stdout",
     "output_type": "stream",
     "text": [
      "True\n",
      "True\n",
      "True\n",
      "False\n"
     ]
    }
   ],
   "source": [
    "print(True or True)   \n",
    "print(True or False)  \n",
    "print(False or True)  \n",
    "print(False or False) "
   ]
  },
  {
   "cell_type": "code",
   "execution_count": 9,
   "id": "3e7c4b31-d7c5-44ac-ae7c-d0fa0017fc96",
   "metadata": {},
   "outputs": [
    {
     "name": "stdout",
     "output_type": "stream",
     "text": [
      "False\n",
      "True\n"
     ]
    }
   ],
   "source": [
    "print(not True)  \n",
    "print(not False) "
   ]
  },
  {
   "cell_type": "code",
   "execution_count": 10,
   "id": "6bc7efc0-81ca-4dcf-aa41-3d982f714e2a",
   "metadata": {},
   "outputs": [
    {
     "name": "stdout",
     "output_type": "stream",
     "text": [
      "True\n"
     ]
    }
   ],
   "source": [
    "x = 5\n",
    "print(x > 3 and x < 10)"
   ]
  },
  {
   "cell_type": "code",
   "execution_count": 11,
   "id": "00a73f72-919d-4fa1-b6be-5c7b1ca7891f",
   "metadata": {},
   "outputs": [
    {
     "name": "stdout",
     "output_type": "stream",
     "text": [
      "True\n"
     ]
    }
   ],
   "source": [
    "x = 5\n",
    "print(x > 3 or x < 4)"
   ]
  },
  {
   "cell_type": "code",
   "execution_count": 12,
   "id": "f001cb02-405e-4642-b36d-3937abd3751e",
   "metadata": {},
   "outputs": [
    {
     "name": "stdout",
     "output_type": "stream",
     "text": [
      "False\n"
     ]
    }
   ],
   "source": [
    "x = 5\n",
    "print(not(x > 3 and x < 10))"
   ]
  },
  {
   "cell_type": "markdown",
   "id": "07e9f028-5d6d-4bc7-b0a9-11a8f15343d7",
   "metadata": {},
   "source": [
    "## Uso de Condicionales"
   ]
  },
  {
   "cell_type": "markdown",
   "id": "ed09fbd0-c9f6-4812-b2fb-d8d0c6aac45d",
   "metadata": {},
   "source": [
    "```{admonition} Uso de «If-else»\n",
    "<div align=\"justify\"><strong>La sentencia «If-else»</strong>  se utiliza para ejecutar tanto la parte verdadera como la falsa de una condición. Si la condición es verdadera, se ejecuta el bloque de código If. Si la condición es falsa, se ejecuta el bloque de código Else.</div>\n",
    "```"
   ]
  },
  {
   "cell_type": "code",
   "execution_count": 13,
   "id": "dcfbc506-3651-41e7-8420-f1415d43c1f2",
   "metadata": {},
   "outputs": [
    {
     "name": "stdout",
     "output_type": "stream",
     "text": [
      "no\n"
     ]
    }
   ],
   "source": [
    "a = \"casa\"\n",
    "b = \"Casa\"\n",
    "if a == b:\n",
    "    print('si') \n",
    "else:\n",
    "    print('no')"
   ]
  },
  {
   "cell_type": "code",
   "execution_count": 14,
   "id": "0c5d16ab-51fa-4b0b-82cd-0975444cdf54",
   "metadata": {},
   "outputs": [
    {
     "name": "stdout",
     "output_type": "stream",
     "text": [
      "no\n"
     ]
    }
   ],
   "source": [
    "a = 14\n",
    "b = 6\n",
    "c = 10\n",
    "if (a + b) / c == 1 and c - b - a == 0:\n",
    "    print('yes') \n",
    "else:\n",
    "    print('no')"
   ]
  },
  {
   "cell_type": "code",
   "execution_count": 15,
   "id": "ee8ef0a7-1759-4b95-b1df-db8ee0afa85a",
   "metadata": {},
   "outputs": [
    {
     "name": "stdout",
     "output_type": "stream",
     "text": [
      "a igual c, OK\n"
     ]
    }
   ],
   "source": [
    "a = 10\n",
    "b = 11\n",
    "c = 10\n",
    "if a == b:\n",
    "    print('a igual b, OK')\n",
    "elif a == c:\n",
    "     print('a igual c, OK')\n",
    "else:\n",
    "     print('a no es igual a ninguno... esta todo mal')"
   ]
  },
  {
   "cell_type": "markdown",
   "id": "863cae77-6258-44e9-8b81-05b546ed53f7",
   "metadata": {},
   "source": [
    "- <strong> endswith()</strong>:  Devuelve True si una cadena finaliza con una subcadena especificada. De lo contrario, devuelve False."
   ]
  },
  {
   "cell_type": "markdown",
   "id": "76f121a5-6b81-4421-a21b-4a3e6ed58584",
   "metadata": {},
   "source": [
    "## Formateo"
   ]
  },
  {
   "cell_type": "markdown",
   "id": "653dfef0-b3d6-4c7c-a3b5-69985134ef9d",
   "metadata": {},
   "source": [
    "```{admonition} Especificadores de Formato\n",
    "<div align=\"justify\"> Los <strong> especificadores de formato</strong> que se se presentan en la tabla siguiente son parte de las funciones y métodos en Python relacionados con el formateo de cadenas de texto. Estos especificadores se utilizan principalmente en dos contextos: el operador de formateo de cadenas (%) y el método .format() de las cadenas.</div>\n",
    "```"
   ]
  },
  {
   "cell_type": "markdown",
   "id": "f081aef7-603f-4cf7-944e-12dbd355ef2c",
   "metadata": {
    "tags": []
   },
   "source": [
    "```{table} Lista de Especificadores de Formato\n",
    ":name: my-table-ref\n",
    "\n",
    "| Especificador | Descriptor |\n",
    "|:---:|:---:|\n",
    "| %s | Cadena de caracteres de string |\n",
    "| %d |Entero (integer) |\n",
    "| %f | Número de punto flotante (float) |\n",
    "| %o | Número hexadecimal (minúsculas) |\n",
    "|%x  |Número hexadecimal (mayúsculas) |\n",
    "| %e | Notación exponencial (exponential, minúsculas) |\n",
    "|\"%E | Notación exponencial (exponential, mayúscula) |\n",
    "```"
   ]
  },
  {
   "cell_type": "code",
   "execution_count": 16,
   "id": "0701200f-a7a4-408b-993e-e894de39cb76",
   "metadata": {},
   "outputs": [
    {
     "name": "stdout",
     "output_type": "stream",
     "text": [
      "Hola, Claudio!\n"
     ]
    }
   ],
   "source": [
    "name = \"Claudio\"\n",
    "saludo = \"Hola, %s!\" % name\n",
    "print(saludo)\n",
    "\n"
   ]
  },
  {
   "cell_type": "code",
   "execution_count": 17,
   "id": "6ea96ced-1f53-496b-b2e1-bec9f7ceeb66",
   "metadata": {
    "tags": []
   },
   "outputs": [
    {
     "name": "stdout",
     "output_type": "stream",
     "text": [
      "Hola, Claudio, me gusta la fotografía y estudie Python y R \n"
     ]
    }
   ],
   "source": [
    "print(\"Hola, Claudio, me gusta la fotografía y estudie Python y R \")"
   ]
  },
  {
   "cell_type": "code",
   "execution_count": 18,
   "id": "439b4894-0928-4519-9738-8830f46aba89",
   "metadata": {
    "tags": []
   },
   "outputs": [
    {
     "data": {
      "text/plain": [
       "'Hola, Claudio. Tú tienes 49 años.'"
      ]
     },
     "execution_count": 18,
     "metadata": {},
     "output_type": "execute_result"
    }
   ],
   "source": [
    "nombre = \"Claudio\"\n",
    "edad = 49\n",
    "\n",
    "\"Hola, %s. Tú tienes %s años.\" % (nombre, edad)"
   ]
  },
  {
   "cell_type": "code",
   "execution_count": 19,
   "id": "122169a0-a6a3-4860-a494-43063e6c089a",
   "metadata": {
    "tags": []
   },
   "outputs": [
    {
     "data": {
      "text/plain": [
       "'Hola, Gabriela. Tú tienes 47 años.'"
      ]
     },
     "execution_count": 19,
     "metadata": {},
     "output_type": "execute_result"
    }
   ],
   "source": [
    "# Si las líneas a imprimir son más de una necesitaremos usa la función print()\n",
    "nombre2 = \"Gabriela\"\n",
    "edad2 = 47\n",
    "\"Hola, %s. Tú tienes %s años.\" % (nombre, edad)\n",
    "\"Hola, %s. Tú tienes %s años.\" % (nombre2, edad2)"
   ]
  },
  {
   "cell_type": "code",
   "execution_count": 20,
   "id": "8d8f4029-f2bc-4e7b-9e90-8beb7f5cb1be",
   "metadata": {
    "tags": []
   },
   "outputs": [
    {
     "name": "stdout",
     "output_type": "stream",
     "text": [
      "Hola, Claudio. Tú tienes 49 años.\n",
      "Hola, Gabriela. Tú tienes 47 años.\n"
     ]
    }
   ],
   "source": [
    "# Ahora si la salida estándar (la partalla) mostrará las dos sentencias\n",
    "print(\"Hola, %s. Tú tienes %s años.\" % (nombre, edad))\n",
    "print(\"Hola, %s. Tú tienes %s años.\" % (nombre2, edad2))"
   ]
  },
  {
   "cell_type": "code",
   "execution_count": 21,
   "id": "30672968-3947-41d8-bb98-b483f4ea8d2c",
   "metadata": {},
   "outputs": [
    {
     "name": "stdout",
     "output_type": "stream",
     "text": [
      "El número es 47.\n"
     ]
    }
   ],
   "source": [
    "numero = 47\n",
    "formato = \"El número es %d.\" % numero\n",
    "print(formato)\n",
    "\n"
   ]
  },
  {
   "cell_type": "code",
   "execution_count": 22,
   "id": "8730a549-8b69-40c0-a2a7-2d49dfaf0288",
   "metadata": {
    "tags": []
   },
   "outputs": [
    {
     "name": "stdout",
     "output_type": "stream",
     "text": [
      "Actual Número = 10\n",
      "Decimal del número = 10.000000\n",
      "Octal equivalent of the number = 22\n",
      "Hexadecimal equivalent of the number = 12\n",
      "Exponential equivalent of the number = 1.800000e+01\n"
     ]
    }
   ],
   "source": [
    "print (\"Actual Número = %d\" %10)\n",
    "print (\"Decimal del número = %f\" %10)\n",
    "print (\"Octal equivalent of the number = %o\" %18)\n",
    "print (\"Hexadecimal equivalent of the number = %x\" %18)\n",
    "print (\"Exponential equivalent of the number = %e\" %18)"
   ]
  },
  {
   "cell_type": "code",
   "execution_count": 23,
   "id": "baa02a9e-21f8-4486-b97f-43cf8fe5a5d2",
   "metadata": {
    "tags": []
   },
   "outputs": [
    {
     "data": {
      "text/plain": [
       "'Hola, soy Claudio, me gusta la programar y estudie Historia'"
      ]
     },
     "execution_count": 23,
     "metadata": {},
     "output_type": "execute_result"
    }
   ],
   "source": [
    "nombre= \"Claudio\"\n",
    "hobby=\"programar\"\n",
    "estudios= \"Historia\"\n",
    "\n",
    "\n",
    "# Alternativamente podemos utilizar .format\n",
    "\"Hola, soy {}, me gusta la {} y estudie {}\" .format(nombre, hobby, estudios) "
   ]
  },
  {
   "cell_type": "code",
   "execution_count": 24,
   "id": "94e00566-c319-4535-aa5e-02c5e28fc7ae",
   "metadata": {
    "tags": []
   },
   "outputs": [
    {
     "name": "stdout",
     "output_type": "stream",
     "text": [
      "Número Actual = 18\n",
      "Decimal del número = 18.000000\n",
      "Equivalente Octal del número = 22\n",
      "Equivalente Hexadecimal del número = 12\n",
      "Equivalente Exponencial del número = 1.800000e+01\n"
     ]
    }
   ],
   "source": [
    "# Utilizando la opción 2\n",
    "\n",
    "print (\"Número Actual = {:d}\".format(18))\n",
    "print (\"Decimal del número = {:f}\".format(18))\n",
    "print (\"Equivalente Octal del número = {:o}\".format(18))\n",
    "print (\"Equivalente Hexadecimal del número = {:x}\".format(18))\n",
    "print (\"Equivalente Exponencial del número = {:e}\".format(18))"
   ]
  },
  {
   "cell_type": "code",
   "execution_count": 25,
   "id": "65d51ed5-9f75-462a-8b6f-cde9d9aa71d9",
   "metadata": {
    "tags": []
   },
   "outputs": [
    {
     "name": "stdout",
     "output_type": "stream",
     "text": [
      "Hola, soy Claudio, me gusta la fotografia y estudie Python y R\n"
     ]
    }
   ],
   "source": [
    "nombre = \"Claudio\"\n",
    "hobby = \"fotografia\"\n",
    "estudios = \"estudie Python y R\"\n",
    "\n",
    "print(f\"Hola, soy {nombre}, me gusta la {hobby} y {estudios}\")"
   ]
  },
  {
   "cell_type": "code",
   "execution_count": 26,
   "id": "89c3a351-083f-4c4a-aa44-3c1e845b814a",
   "metadata": {
    "tags": []
   },
   "outputs": [
    {
     "name": "stdout",
     "output_type": "stream",
     "text": [
      "Número Actual =  18\n",
      "Decimal del número =  18.000000\n",
      "Equivalente Octal del número = 22\n",
      "Equivalente Hexadecimal del número = 12\n",
      "Equivalente Exponencial del número = 1.800000e+01\n"
     ]
    }
   ],
   "source": [
    "# Otras notaciones numéricas utilizando la Opción 3\n",
    "val = 18\n",
    "print (f\"Número Actual = {val: d}\")\n",
    "print (f\"Decimal del número = {val: f}\")\n",
    "print (f\"Equivalente Octal del número = {val :o}\")\n",
    "print (f\"Equivalente Hexadecimal del número = {val :x}\")\n",
    "print (f\"Equivalente Exponencial del número = {val :e}\")"
   ]
  }
 ],
 "metadata": {
  "kernelspec": {
   "display_name": "Python 3",
   "language": "python",
   "name": "python3"
  },
  "language_info": {
   "codemirror_mode": {
    "name": "ipython",
    "version": 3
   },
   "file_extension": ".py",
   "mimetype": "text/x-python",
   "name": "python",
   "nbconvert_exporter": "python",
   "pygments_lexer": "ipython3",
   "version": "3.11.5"
  }
 },
 "nbformat": 4,
 "nbformat_minor": 5
}
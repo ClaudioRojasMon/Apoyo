{
 "cells": [
  {
   "cell_type": "markdown",
   "id": "181c1ace-f531-4d44-80fc-590ccf59e5bb",
   "metadata": {},
   "source": [
    "# Práctica IV "
   ]
  },
  {
   "cell_type": "markdown",
   "id": "47354ec2-ec96-4766-b79d-e91d00b120df",
   "metadata": {},
   "source": [
    "<div align=\"justify\">Desarrolla los siguientes ejercicios para practicar en la visualziación de Mapas utilizando las herramientas mencionadas (Leaflet, OpenStreetMap, folium, OSMnx, y Pandas. Además, te permitirán explorar diversas funcionalidades como la visualización de datos, la personalización del mapa y la interactividad, preparándote para proyectos más avanzados en el futuro.:</div>\n",
    "\n",
    "1. **Visualización básica de puntos en un mapa:**\n",
    "   - <div align=\"justify\">Carga un conjunto de datos CSV que contiene coordenadas de ubicaciones (por ejemplo, latitud y longitud).</div>\n",
    "   - <div align=\"justify\">Utiliza folium para crear un mapa centrado en una ubicación específica.</div>\n",
    "   - <div align=\"justify\">Agrega marcadores para cada ubicación en el mapa.</div><br>\n",
    "2. **Dibujo de rutas y caminos:**\n",
    "   - <div align=\"justify\">Descarga datos de una red de calles de OpenStreetMap utilizando OSMnx.</div>\n",
    "   - <div align=\"justify\">Visualiza la red de calles en un mapa utilizando folium.</div>\n",
    "   - <div align=\"justify\">Dibuja una ruta específica entre dos ubicaciones y resalta el camino en el mapa.</div><br>\n",
    "3. **Análisis básico de datos geoespaciales:**\n",
    "   - <div align=\"justify\">Carga un shapefile o GeoJSON utilizando geopandas.</div>\n",
    "   - <div align=\"justify\">Utiliza Pandas para explorar los datos y entender su estructura.</div>\n",
    "   - <div align=\"justify\">Visualiza las geometrías en un mapa utilizando folium, coloreando las áreas según algún atributo específico del conjunto de datos.</div><br>\n",
    "4. **Personalización del mapa:**\n",
    "   - <div align=\"justify\">Crea un mapa utilizando folium y OpenStreetMap como fondo.</div>\n",
    "   - <div align=\"justify\">Personaliza el estilo del mapa, por ejemplo, cambiando el color del fondo, el tamaño de los marcadores, y la apariencia de las líneas.</div><br>\n",
    "5. **Agregar capas adicionales:**\n",
    "   - <div align=\"justify\">Carga datos adicionales como capas en el mapa, como imágenes de satélite o información de puntos de interés.</div>\n",
    "   - <div align=\"justify\">Utiliza OSMnx para descargar y agregar datos de puntos de interés como restaurantes o parques a tu mapa.</div><br>\n",
    "6. **Interactividad en el mapa:**\n",
    "   - <div align=\"justify\">Crea un mapa interactivo utilizando Leaflet o folium.</div>\n",
    "   - <div align=\"justify\">Agrega controles como botones, barras de desplazamiento o cuadros de búsqueda para mejorar la interactividad del mapa.</div><br>\n",
    "7. **Exportación y presentación:**\n",
    "   - <div align=\"justify\">Exporta tu mapa diseñado como un archivo HTML utilizando folium.</div>\n",
    "   - <div align=\"justify\">Abre el archivo HTML en un navegador para verificar la visualización del mapa.</div>\n",
    "   - <div align=\"justify\">Prepara una presentación o informe breve explicando tu diseño de mapa, las decisiones de diseño tomadas y los insights obtenidos de los datos geoespaciales.</div>"
   ]
  }
 ],
 "metadata": {
  "kernelspec": {
   "display_name": "Python 3",
   "language": "python",
   "name": "python3"
  },
  "language_info": {
   "codemirror_mode": {
    "name": "ipython",
    "version": 3
   },
   "file_extension": ".py",
   "mimetype": "text/x-python",
   "name": "python",
   "nbconvert_exporter": "python",
   "pygments_lexer": "ipython3",
   "version": "3.8.18"
  }
 },
 "nbformat": 4,
 "nbformat_minor": 5
}

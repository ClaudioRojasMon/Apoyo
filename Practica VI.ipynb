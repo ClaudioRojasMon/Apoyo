{
 "cells": [
  {
   "cell_type": "markdown",
   "id": "abf3f635-3a63-4677-819a-9645abc2e200",
   "metadata": {},
   "source": [
    "# Practica VI"
   ]
  },
  {
   "cell_type": "markdown",
   "id": "82484207-24a6-4fc5-b00f-7073e206582d",
   "metadata": {},
   "source": [
    "<div align=\"justify\">Apliquemos lo aprendido gasta el momento utilizando el discurso de Steve Jobs en la Universidad de Stanford. Para cada uno de los pasos se ocupó la versión en español y en inglés para poder ver las diferencias que se generan.<div>"
   ]
  },
  {
   "cell_type": "markdown",
   "id": "075ff7da-aec8-4a3c-ab3c-3a8219d28bbe",
   "metadata": {},
   "source": [
    "<div align=\"justify\"><strong>Preparación y Análisis de Sentimiento</strong>: Realiza el análisis de sentimiento utilizando TextBlob, calcula la polaridad y subjetividad del discurso de Steve Jobs  y visualiza estos resultados en un gráfico de barras.<div>"
   ]
  },
  {
   "cell_type": "code",
   "execution_count": 9,
   "id": "f8161851-d7af-4213-8bc9-fb88424d5e99",
   "metadata": {},
   "outputs": [
    {
     "name": "stdout",
     "output_type": "stream",
     "text": [
      "Análisis de Sentimiento de Steve Jobs: Polarity=-0.034375, Subjectivity=0.325\n"
     ]
    },
    {
     "name": "stderr",
     "output_type": "stream",
     "text": [
      "[nltk_data] Downloading package punkt to\n",
      "[nltk_data]     /Users/claudiorojas/nltk_data...\n",
      "[nltk_data]   Package punkt is already up-to-date!\n",
      "[nltk_data] Downloading package vader_lexicon to\n",
      "[nltk_data]     /Users/claudiorojas/nltk_data...\n",
      "[nltk_data]   Package vader_lexicon is already up-to-date!\n"
     ]
    },
    {
     "data": {
      "image/png": "[encoded data removed]",
      "text/plain": [
       "<Figure size 576x360 with 1 Axes>"
      ]
     },
     "metadata": {
      "needs_background": "light"
     },
     "output_type": "display_data"
    }
   ],
   "source": [
    "import nltk\n",
    "from textblob import TextBlob\n",
    "import matplotlib.pyplot as plt\n",
    "\n",
    "# Descargar recursos necesarios de NLTK si no están descargados\n",
    "nltk.download('punkt')\n",
    "nltk.download('vader_lexicon')\n",
    "\n",
    "# Cargar el texto completo de Steve Jobs desde el archivo en español\n",
    "with open('Discurso de Steve Jobs.txt', 'r', encoding='utf-8') as file:\n",
    "    texto_steve_jobs = file.read()\n",
    "\n",
    "# Realizar análisis de sentimiento utilizando TextBlob en el texto en español\n",
    "sentimiento = TextBlob(texto_steve_jobs).sentiment\n",
    "print(f\"Análisis de Sentimiento de Steve Jobs: Polarity={sentimiento.polarity}, Subjectivity={sentimiento.subjectivity}\")\n",
    "\n",
    "# Visualización del análisis de sentimiento\n",
    "labels = ['Polarity', 'Subjectivity']\n",
    "values = [sentimiento.polarity, sentimiento.subjectivity]\n",
    "\n",
    "plt.figure(figsize=(8, 5))\n",
    "plt.bar(labels, values, color=['blue', 'green'])\n",
    "plt.title('Análisis de Sentimiento de Steve Jobs')\n",
    "plt.xlabel('Sentimiento')\n",
    "plt.ylabel('Puntuación')\n",
    "plt.show()\n"
   ]
  },
  {
   "cell_type": "code",
   "execution_count": 7,
   "id": "689d7b07-6227-4854-b830-0f9f092a2dbe",
   "metadata": {},
   "outputs": [
    {
     "name": "stdout",
     "output_type": "stream",
     "text": [
      "Análisis de Sentimiento de Steve Jobs: Polarity=0.18401759881659394, Subjectivity=0.493435249842285\n"
     ]
    },
    {
     "name": "stderr",
     "output_type": "stream",
     "text": [
      "[nltk_data] Downloading package punkt to\n",
      "[nltk_data]     /Users/claudiorojas/nltk_data...\n",
      "[nltk_data]   Package punkt is already up-to-date!\n",
      "[nltk_data] Downloading package vader_lexicon to\n",
      "[nltk_data]     /Users/claudiorojas/nltk_data...\n",
      "[nltk_data]   Package vader_lexicon is already up-to-date!\n"
     ]
    },
    {
     "data": {
      "image/png": "[encoded data removed]",
      "text/plain": [
       "<Figure size 576x360 with 1 Axes>"
      ]
     },
     "metadata": {
      "needs_background": "light"
     },
     "output_type": "display_data"
    }
   ],
   "source": [
    "import nltk\n",
    "from textblob import TextBlob\n",
    "import matplotlib.pyplot as plt\n",
    "\n",
    "# Descargar recursos necesarios de NLTK si no están descargados\n",
    "nltk.download('punkt')\n",
    "nltk.download('vader_lexicon')\n",
    "\n",
    "# Cargar el texto completo de Steve Jobs desde el archivo\n",
    "with open('Speech Steve Jobs.txt', 'r', encoding='utf-8') as file:\n",
    "    texto_steve_jobs = file.read()\n",
    "\n",
    "# Análisis de sentimiento utilizando TextBlob\n",
    "sentimiento = TextBlob(texto_steve_jobs).sentiment\n",
    "print(f\"Análisis de Sentimiento de Steve Jobs: Polarity={sentimiento.polarity}, Subjectivity={sentimiento.subjectivity}\")\n",
    "\n",
    "# Visualización del análisis de sentimiento\n",
    "labels = ['Polarity', 'Subjectivity']\n",
    "values = [sentimiento.polarity, sentimiento.subjectivity]\n",
    "\n",
    "plt.figure(figsize=(8, 5))\n",
    "plt.bar(labels, values, color=['blue', 'green'])\n",
    "plt.title('Análisis de Sentimiento de Steve Jobs')\n",
    "plt.xlabel('Sentiment')\n",
    "plt.ylabel('Score')\n",
    "plt.show()\n"
   ]
  },
  {
   "cell_type": "markdown",
   "id": "affbed4a-d138-4423-a174-a118e85a954c",
   "metadata": {},
   "source": [
    "<div align=\"justify\"><strong>Clasificación de texto</strong>: Se utiliza un conjunto de características basadas en frecuencia de palabras para clasificar el texto como relacionado con tecnología.<div>"
   ]
  },
  {
   "cell_type": "code",
   "execution_count": 5,
   "id": "66b0569f-af8a-4153-89ad-936773b2ca93",
   "metadata": {},
   "outputs": [
    {
     "name": "stderr",
     "output_type": "stream",
     "text": [
      "[nltk_data] Downloading package punkt to\n",
      "[nltk_data]     /Users/claudiorojas/nltk_data...\n",
      "[nltk_data]   Package punkt is already up-to-date!\n",
      "[nltk_data] Downloading package movie_reviews to\n",
      "[nltk_data]     /Users/claudiorojas/nltk_data...\n",
      "[nltk_data]   Package movie_reviews is already up-to-date!\n"
     ]
    },
    {
     "name": "stdout",
     "output_type": "stream",
     "text": [
      "Clasificación de Texto:\n",
      "tecnologia\n"
     ]
    }
   ],
   "source": [
    "import nltk\n",
    "from nltk.corpus import movie_reviews\n",
    "import random\n",
    "\n",
    "# Descargar recursos necesarios de NLTK si no están descargados\n",
    "nltk.download('punkt')\n",
    "nltk.download('movie_reviews')\n",
    "\n",
    "# Cargar el texto completo de Steve Jobs desde el archivo\n",
    "with open('Discurso de Steve Jobs.txt', 'r', encoding='utf-8') as file:\n",
    "    texto_steve_jobs = file.read()\n",
    "\n",
    "# Preparar documentos para clasificación\n",
    "documents = [(list(nltk.word_tokenize(texto_steve_jobs)), 'tecnologia')]\n",
    "random.shuffle(documents)\n",
    "\n",
    "# Obtener todas las palabras de movie_reviews para usar como características\n",
    "all_words = nltk.FreqDist(w.lower() for w in movie_reviews.words())\n",
    "word_features = list(all_words)[:3000]\n",
    "\n",
    "# Definir la función para extraer características del documento\n",
    "def document_features(document):\n",
    "    document_words = set(document)\n",
    "    features = {}\n",
    "    for word in word_features:\n",
    "        features['contains({})'.format(word)] = (word in document_words)\n",
    "    return features\n",
    "\n",
    "# Extraer características del texto de Steve Jobs\n",
    "featureset = [(document_features(d), c) for (d, c) in documents]\n",
    "\n",
    "# Entrenar un clasificador (ejemplo con NaiveBayesClassifier)\n",
    "classifier = nltk.NaiveBayesClassifier.train(featureset)\n",
    "\n",
    "# Clasificar el texto de Steve Jobs\n",
    "print(\"Clasificación de Texto:\")\n",
    "print(classifier.classify(document_features(texto_steve_jobs.split())))\n"
   ]
  },
  {
   "cell_type": "code",
   "execution_count": 10,
   "id": "64511b36-97af-4fb2-ba15-9064ff0efa30",
   "metadata": {},
   "outputs": [
    {
     "name": "stderr",
     "output_type": "stream",
     "text": [
      "[nltk_data] Downloading package punkt to\n",
      "[nltk_data]     /Users/claudiorojas/nltk_data...\n",
      "[nltk_data]   Package punkt is already up-to-date!\n",
      "[nltk_data] Downloading package movie_reviews to\n",
      "[nltk_data]     /Users/claudiorojas/nltk_data...\n",
      "[nltk_data]   Package movie_reviews is already up-to-date!\n"
     ]
    },
    {
     "name": "stdout",
     "output_type": "stream",
     "text": [
      "Clasificación de Texto:\n",
      "tecnologia\n"
     ]
    }
   ],
   "source": [
    "import nltk\n",
    "from nltk.corpus import movie_reviews\n",
    "import random\n",
    "\n",
    "# Descargar recursos necesarios de NLTK si no están descargados\n",
    "nltk.download('punkt')\n",
    "nltk.download('movie_reviews')\n",
    "\n",
    "# Cargar el texto completo de Steve Jobs desde el archivo\n",
    "with open('Speech Steve Jobs.txt', 'r', encoding='utf-8') as file:\n",
    "    texto_steve_jobs = file.read()\n",
    "\n",
    "# Preparar documentos para clasificación\n",
    "documents = [(list(nltk.word_tokenize(texto_steve_jobs)), 'tecnologia')]\n",
    "random.shuffle(documents)\n",
    "\n",
    "# Obtener todas las palabras de movie_reviews para usar como características\n",
    "all_words = nltk.FreqDist(w.lower() for w in movie_reviews.words())\n",
    "word_features = list(all_words)[:3000]\n",
    "\n",
    "# Definir la función para extraer características del documento\n",
    "def document_features(document):\n",
    "    document_words = set(document)\n",
    "    features = {}\n",
    "    for word in word_features:\n",
    "        features['contains({})'.format(word)] = (word in document_words)\n",
    "    return features\n",
    "\n",
    "# Extraer características del texto de Steve Jobs\n",
    "featureset = [(document_features(d), c) for (d, c) in documents]\n",
    "\n",
    "# Entrenar un clasificador (ejemplo con NaiveBayesClassifier)\n",
    "classifier = nltk.NaiveBayesClassifier.train(featureset)\n",
    "\n",
    "# Clasificar el texto de Steve Jobs\n",
    "print(\"Clasificación de Texto:\")\n",
    "print(classifier.classify(document_features(texto_steve_jobs.split())))"
   ]
  },
  {
   "cell_type": "markdown",
   "id": "0c235ea8-57cb-46ce-b11a-0fdb2680e489",
   "metadata": {},
   "source": [
    "<div align=\"justify\"><strong>Generación de Texto con Markovify</strong>: En este caso, se generan tres frases concatenadas para mejorar la legibilidad del texto generado<div>"
   ]
  },
  {
   "cell_type": "code",
   "execution_count": 3,
   "id": "f4e85cd1-5f8a-46e5-a680-e3257294a84c",
   "metadata": {},
   "outputs": [
    {
     "name": "stdout",
     "output_type": "stream",
     "text": [
      "Texto generado: Significa asegurarte de que apareciera Google. Cada cartel, cada etiqueta de cualquier cajón de la mañana, similar a aquella en la cantidad de espacio entre las distintas combinaciones de letras, sobre lo que en clave médica significaba prepararme para morir. Insisto, no podéis conectar los puntos mirando hacia el futuro cuando estaba en la actualidad es el destino que todos compartimos. \n"
     ]
    }
   ],
   "source": [
    "import markovify\n",
    "\n",
    "# Generación de texto con Markovify\n",
    "modelo_markov = markovify.Text(texto_steve_jobs)\n",
    "\n",
    "# Generar texto nuevo (más legible)\n",
    "texto_generado = \"\"\n",
    "for i in range(3):  # Generar 3 frases\n",
    "    frase_generada = modelo_markov.make_sentence()\n",
    "    if frase_generada:  # Asegurar que la frase generada no sea None\n",
    "        texto_generado += frase_generada + \" \"\n",
    "\n",
    "# Mostrar el texto generado\n",
    "print(f\"Texto generado: {texto_generado}\")\n"
   ]
  },
  {
   "cell_type": "code",
   "execution_count": 11,
   "id": "2a53a146-cab5-4f1b-8ef8-5cdb57cfa298",
   "metadata": {},
   "outputs": [
    {
     "name": "stdout",
     "output_type": "stream",
     "text": [
      "Texto generado: It freed me to enter one of the bibles of my entire adult life was gone, and it was devastating. My second story is about connecting the dots. But 10 years later, when we were designing the first year or so before I was still in love. \n"
     ]
    }
   ],
   "source": [
    "import markovify\n",
    "\n",
    "# Generación de texto con Markovify\n",
    "modelo_markov = markovify.Text(texto_steve_jobs)\n",
    "\n",
    "# Generar texto nuevo (más legible)\n",
    "texto_generado = \"\"\n",
    "for i in range(3):  # Generar 3 frases\n",
    "    frase_generada = modelo_markov.make_sentence()\n",
    "    if frase_generada:  # Asegurar que la frase generada no sea None\n",
    "        texto_generado += frase_generada + \" \"\n",
    "\n",
    "# Mostrar el texto generado\n",
    "print(f\"Texto generado: {texto_generado}\")\n"
   ]
  },
  {
   "cell_type": "code",
   "execution_count": null,
   "id": "707043e8-45c0-4973-bf5f-3334ee763069",
   "metadata": {},
   "outputs": [],
   "source": []
  }
 ],
 "metadata": {
  "kernelspec": {
   "display_name": "Python 3",
   "language": "python",
   "name": "python3"
  },
  "language_info": {
   "codemirror_mode": {
    "name": "ipython",
    "version": 3
   },
   "file_extension": ".py",
   "mimetype": "text/x-python",
   "name": "python",
   "nbconvert_exporter": "python",
   "pygments_lexer": "ipython3",
   "version": "3.8.18"
  }
 },
 "nbformat": 4,
 "nbformat_minor": 5
}

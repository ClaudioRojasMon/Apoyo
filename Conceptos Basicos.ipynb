{
 "cells": [
  {
   "cell_type": "markdown",
   "id": "6050300d-a0a8-45db-afa1-9aa04710015d",
   "metadata": {},
   "source": [
    "# Conociendo Python"
   ]
  },
  {
   "cell_type": "markdown",
   "id": "f99b5680",
   "metadata": {},
   "source": [
    "## ¿Qué es Python?"
   ]
  },
  {
   "cell_type": "markdown",
   "id": "a793d55d",
   "metadata": {},
   "source": [
    "<div align=\"justify\"> <strong>Python</strong> es un lenguaje de programación ampliamente utilizado en las Aplicaciones Web, el Desarrollo de Software, Ciencia de Datos y el Machine Learning (ML). Los desarrolladores utilizan Python porque es eficiente y fácil de aprender, se puede ejecutar en muchas plataformas diferentes, se puede descargar gratis, se integra bien a todos los tipos de sistemas y aumenta la velocidad del desarrollo.</div><br>\n",
    "<div align=\"justify\"><strong>Guido Van Rossum</strong>, un programador de computación de los Países Bajos, fue su creador. Python comenzó en 1989 en el Centrum Wiskunde & Informatica (CWI), en principio como un proyecto de afición para mantenerse ocupado durante las vacaciones de Navidad. El nombre del lenguaje se inspiró en el programa de televisión de la BBC  <em>“Monty Python’s Flying Circus”</em> debido a que Guido Van Rossum era un gran aficionado del programa. Las características de Python que lo hace único son:</div>\n"
   ]
  },
  {
   "cell_type": "markdown",
   "id": "5ada50d0-146f-4e7f-9393-09385847c7d3",
   "metadata": {},
   "source": [
    ":::{figure-md} markdown-fig\n",
    "<img src=\"python-logo.png\" alt=\"python\" width=\"300px\">\n",
    "\n",
    "Logo de Python\n",
    ":::"
   ]
  },
  {
   "cell_type": "markdown",
   "id": "e5aa83cf",
   "metadata": {},
   "source": [
    "## ¿Cuál es origen de Python?"
   ]
  },
  {
   "cell_type": "markdown",
   "id": "a9f655e5",
   "metadata": {},
   "source": [
    "<div align=\"justify\">Guido Van Rossum, un programador de computación de los Países Bajos, creó Python. Python comenzó en 1989 en el Centrum Wiskunde & Informatica (CWI), en principio como un proyecto de afición para mantenerse ocupado durante las vacaciones de Navidad. El nombre del lenguaje se inspiró en el programa de televisión de la BBC “Monty Python’s Flying Circus” debido a que Guido Van Rossum era un gran aficionado del programa.</div>\n",
    "\n"
   ]
  },
  {
   "cell_type": "markdown",
   "id": "ee59c7f2-7366-4f17-b283-8ae6656bb10c",
   "metadata": {},
   "source": [
    ":::{figure-md} markdown-fig\n",
    "<img src=\"Guido.jpg\" alt=\"guido\" width=\"200px\">\n",
    "\n",
    "Guido Van Rossum, 2006\n",
    ":::"
   ]
  },
  {
   "cell_type": "markdown",
   "id": "92b61415",
   "metadata": {},
   "source": [
    "## ¿Cuáles son las características de Python?"
   ]
  },
  {
   "cell_type": "markdown",
   "id": "3603a510",
   "metadata": {},
   "source": [
    "- <div align=\"justify\"> <strong>Un lenguaje interpretado</strong>: Esto significa que ejecuta directamente el código línea por línea. Si existen errores en el código del programa, su ejecución se detiene. Así, los programadores pueden encontrar errores en el código con rapidez.</div><br>\n",
    "- <div align=\"justify\"> <strong>Un lenguaje fácil de utilizar</strong>: Python utiliza palabras similares a las del inglés. A diferencia de otros lenguajes de programación, Python no utiliza llaves. En su lugar, utiliza sangría.</div><br>\n",
    "- <div align=\"justify\"> <strong>Un lenguaje tipeado dinámicamente</strong>: Los programadores no tienen que anunciar tipos de variables cuando escriben código porque Python los determina en el tiempo de ejecución. Debido a esto, es posible escribir programas de Python con mayor rapidez.</div><br>\n",
    "- <div align=\"justify\"> <strong>Un lenguaje de alto nivel</strong>: Python es más cercano a los idiomas humanos que otros lenguajes de programación. Por lo tanto, los programadores no deben preocuparse sobre sus funcionalidades subyacentes, como la arquitectura y la administración de la memoria.</div><br>\n",
    "- <div align=\"justify\"> <strong>Un lenguaje orientado a los objetos</strong>: Python considera todo como un objeto, pero también admite otros tipos de programación, como la programación estructurada y la funcional.</div>"
   ]
  },
  {
   "cell_type": "markdown",
   "id": "79b3c8ce-cd13-4c54-93ec-4fcaba4da89b",
   "metadata": {},
   "source": [
    "## Entorno de Programación Integrado"
   ]
  },
  {
   "cell_type": "markdown",
   "id": "b3016e60-8969-491a-b752-76934fcf920e",
   "metadata": {},
   "source": [
    "```{dropdown} Revisa Documentación de distintos IDE\n",
    "[Documentación de Jupyter Notebook](https://docs.jupyter.org/en/latest/)\n",
    "\n",
    "[Documentación de Jupyter Lab](https://jupyterlab.readthedocs.io/en/stable/user/urls.html)\n",
    "\n",
    "[Documentación de Rstudio](https://www.r-project.org/other-docs.html) \n",
    "\n",
    "[Colab de Google](https://colab.research.google.com/?hl=es-419)\n",
    "```"
   ]
  },
  {
   "cell_type": "markdown",
   "id": "c44879b7",
   "metadata": {},
   "source": [
    "<div align=\"justify\"><strong>Un IDE o Entorno de Desarrollo Integrado</strong> es una aplicación de tipo software que combina en un solo lugar todas las herramientas necesarias para realizar un proyecto de desarrollo de software.</div><br>\n",
    "<div align=\"justify\">Todos los IDE cuentan con un editor de texto que permite escribir y manipular el código fuente. Algunos incluyen también componentes visuales e interfaces drag & drop para los componentes front-end. En general, una simple interfaz muestra la sintaxis.</div><br>\n",
    "<div align=\"justify\">En mi caso, el IDE que ocupo para Python es <strong>Jupyter Notebook</strong> y <strong>Jupyter Lab</strong> y <strong>RStudio</strong> para R. Es importante revisar la documentación de estos IDE para comprender su funcionamiento y cómo utilizarlos eficazmente. A continuación, dejo los enlaces para acceder a la documentación de los tres IDE mencionados.</div><br>\n"
   ]
  }
 ],
 "metadata": {
  "kernelspec": {
   "display_name": "Python 3",
   "language": "python",
   "name": "python3"
  },
  "language_info": {
   "codemirror_mode": {
    "name": "ipython",
    "version": 3
   },
   "file_extension": ".py",
   "mimetype": "text/x-python",
   "name": "python",
   "nbconvert_exporter": "python",
   "pygments_lexer": "ipython3",
   "version": "3.8.18"
  },
  "toc-autonumbering": false
 },
 "nbformat": 4,
 "nbformat_minor": 5
}

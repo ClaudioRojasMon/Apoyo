{
 "cells": [
  {
   "cell_type": "markdown",
   "id": "07fa7ed7",
   "metadata": {},
   "source": [
    "# Procesamiento Lenguaje Natural (NLP) I"
   ]
  },
  {
   "cell_type": "markdown",
   "id": "e562bc23-0dc0-4cae-b969-0a4e9f5cd8ca",
   "metadata": {},
   "source": [
    "## ¿Qué es el NLP?"
   ]
  },
  {
   "cell_type": "markdown",
   "id": "2103428e-448a-46c6-8376-4995ebfc0e7e",
   "metadata": {},
   "source": [
    "```{admonition} ¿Cuando se origina?\n",
    "<div align=\"justify\">El campo del procesamiento del lenguaje natural comenzó en la década de 1940, después de la Segunda Guerra Mundial. En ese tiempo, se reconoció la importancia de la traducción de un idioma a otro y se esperaba crear una máquina que pudiera hacer esta traducción automáticamente.</div>\n",
    "```"
   ]
  },
  {
   "cell_type": "markdown",
   "id": "0817c40a",
   "metadata": {},
   "source": [
    "<div align=\"justify\"> En el <strong>NLP o Natural Language Processing</strong>  se traduce a procesamiento del lenguaje natural y se refiere a la rama de la informática, más concretamente la rama de la inteligencia artificial que se encarga de dar a los ordenadores la capacidad de entender texto de la misma forma que los seres humanos.</div><br>\n",
    "<div align=\"justify\">Combina lingüística computacional el modelo de lenguaje humano basado en reglas con modelos estadísticos de aprendizaje automático y de aprendizaje profundo. Todas estas tecnologías permiten que los ordenadores procesen el lenguaje humano para que parezca que comprenden, generan y responden de manera natural y coherente, como si tuvieran una comprensión real del significado y contexto detrás de las palabras y frases. A continuación se presenta una imagen con los principales hitos de la Genesis y Evolución de NLP en (https://commtelnetworks.com) </div><br>"
   ]
  },
  {
   "cell_type": "markdown",
   "id": "6cfb89da",
   "metadata": {},
   "source": [
    ":::{figure-md} markdown-fig\n",
    "<img src=\"Genesis-and-Evolution-of-NLP.png\" alt=\"NLP\" width=\"700px\">\n",
    "\n",
    "Genesis y Evolución de NLP\n",
    "::: "
   ]
  },
  {
   "cell_type": "markdown",
   "id": "9c7d9fd1-873c-4a7d-b1ca-796c1f96a930",
   "metadata": {},
   "source": [
    "## Librerías para NLP"
   ]
  },
  {
   "cell_type": "markdown",
   "id": "ab27281e",
   "metadata": {},
   "source": [
    "```{table} Librerías de Python para NLP\n",
    ":name: my-table-ref\n",
    "\n",
    "|  Librería |  Descripción| \n",
    "|:-----:|:-----:|\n",
    "| NLTK| Es una biblioteca que admite tareas como clasificación, etiquetado, derivación, análisis y razonamiento semántico.|\n",
    "| Spacy|Permite crear aplicaciones que pueden procesar y comprender grandes volúmenes de texto y admite tokenización para más de 49 idiomas.|\n",
    "| Gensim|Logra implementaciones multinúcleo eficientes de algoritmos como el análisis semántico latente (LSA) y la asignación de Dirichlet latente (LDA).| \n",
    "| Pattern | Es una biblioteca multipropósito que puede manejar NLP, minería de datos, análisis de redes, aprendizaje automático y visualización|\n",
    "```"
   ]
  },
  {
   "cell_type": "markdown",
   "id": "1e0cb89c-2335-4a90-b529-d97d77837ad6",
   "metadata": {},
   "source": [
    "```{dropdown} Documentación de las distintas librerías para NLP\n",
    "[NLTK](https://www.nltk.org) \n",
    "\n",
    "[Spacy](https://spacy.io/api/doc)\n",
    "\n",
    "[Gensim](https://radimrehurek.com/gensim/auto_examples/index.html##documentation)\n",
    "```"
   ]
  },
  {
   "cell_type": "markdown",
   "id": "433420ae",
   "metadata": {},
   "source": [
    "### NLTK o Kit de Herramientas de Lenguaje Natural"
   ]
  },
  {
   "cell_type": "markdown",
   "id": "d722fc1b-8127-4614-80d4-f0a0e5b1f6ce",
   "metadata": {},
   "source": [
    "```{admonition} ¿Cuando se origina?\n",
    "<div align=\"justify\"> NLTK fue desarrollado en la Universidad de Pensilvania por Steven Bird y Edward Loper a finales de la década de 1990. Inicialmente se creó como una plataforma para la enseñanza e investigación en lingüística computacional y procesamiento del lenguaje natural (NLP). Con el paso de los años, NLTK ha evolucionado hasta convertirse en una biblioteca indispensable para tareas relacionadas con el lenguaje en los dominios de inteligencia artificial, aprendizaje automático y ciencia de datos.</div>\n",
    "```"
   ]
  },
  {
   "cell_type": "markdown",
   "id": "07ad916d",
   "metadata": {
    "tags": []
   },
   "source": [
    "## Flujo o Pipeline de NLP"
   ]
  },
  {
   "cell_type": "markdown",
   "id": "2d00f07d",
   "metadata": {},
   "source": [
    "```{admonition} ¿Qué es el Pipeline?\n",
    "<div align=\"justify\">Se refiere a una secuencia de etapas o tareas que se aplican secuencialmente al procesar un texto o documento de texto. Cada etapa de la pipeline tiene un propósito específico y procesa el texto de alguna manera antes de pasar los resultados a la siguiente etapa. Las pipelines de NLP son fundamentales para realizar tareas de análisis de texto y extracción de información de manera sistemática y estructurada.</div>\n",
    "```"
   ]
  },
  {
   "cell_type": "markdown",
   "id": "33079903-64d4-4378-a40b-1f5a0d5323e1",
   "metadata": {},
   "source": [
    ":::{figure-md} markdown-fig\n",
    "<img src=\"Pipeline NLTK.jpg\" alt=\"NLP\" width=\"500px\">\n",
    "Pipeline de NLP\n",
    "::: "
   ]
  },
  {
   "cell_type": "markdown",
   "id": "d1300228-f121-4579-babd-7e26086a608a",
   "metadata": {},
   "source": [
    "<div align=\"justify\">A continuación se presenta  una descripción general de las etapas comunes en un pipeline de PNL:</div>\n",
    "\n",
    "1. <div align=\"justify\"><strong>Recolección de Datos</strong>:Obtención de datos de texto desde diversas fuentes, como bases de datos, documentos, sitios web, redes sociales, etc.</div><br>\n",
    "2. <div align=\"justify\"><strong>Preprocesamiento de Datos</strong>:</div>\n",
    "    \n",
    "- <div align=\"justify\"><strong>Limpieza de Datos</strong>: Eliminación de caracteres no deseados, corrección de errores tipográficos, manejo de texto en mayúsculas y minúsculas.</div>\n",
    "- <div align=\"justify\"><strong>Tokenización</strong>: División del texto en unidades más pequeñas, como palabras o frases.</div>\n",
    "- <div align=\"justify\"><strong>Eliminación de Stop Words</strong>: Eliminación de palabras comunes que no aportan mucho significado (ej. \"el\", \"la\", \"de\" en español).</div>\n",
    "- <div align=\"justify\"><strong>Normalización</strong>: Convertir palabras a su forma base o raíz, por ejemplo, usando lematización o stemming.</div>\n",
    "\n",
    "3. <div align=\"justify\"><strong>Representación de Texto(Codificación)</strong>: Transformar texto en una representación numérica adecuada para su procesamiento. Métodos comunes incluyen Bag of Words, TF-IDF, y embeddings (ej. Word2Vec, GloVe, BERT).</div><br>\n",
    "\n",
    "4. <div align=\"justify\"><strong>Análisis Sintáctico</strong>:</div>\n",
    "    \n",
    "- <div align=\"justify\"><strong>Etiquetado de Partes del Discurso (POS Tagging)</strong>: Asignar etiquetas gramaticales a cada token (ej. sustantivo, verbo).</div>\n",
    "- <div align=\"justify\"><strong>Reconocimiento de Entidades Nombradas (NER)</strong>: Identificar y clasificar entidades mencionadas en el texto (ej. nombres de personas, lugares, organizaciones).</div>\n",
    "\n",
    "5. <div align=\"justify\"><strong>Análisis Semántico</strong>:</div>\n",
    "- <div align=\"justify\"><strong>Desambiguación de Palabras</strong>: Determinar el significado correcto de una palabra que tiene múltiples sentidos en un contexto específico.</div>\n",
    "- <div align=\"justify\"><strong>Extracción de Relaciones</strong>: Identificar relaciones entre entidades en el texto.</div>\n",
    "\n",
    "6. <div align=\"justify\"><strong>Modelado y Análisis</strong>:</div>\n",
    "- <div align=\"justify\"><strong>Análisis de Sentimientos</strong>: Determinar la actitud o emoción expresada en el texto.</div>\n",
    "- <div align=\"justify\"><strong>Clasificación de Texto</strong>: Asignar categorías o etiquetas a fragmentos de texto.</div>\n",
    "- <div align=\"justify\"><strong>Generación de Texto</strong>: Crear texto nuevo basado en el aprendizaje de un corpus existente.</div>\n",
    "\n",
    "7. <div align=\"justify\"><strong>Evaluación y Mejora</strong>:</div>\n",
    "- <div align=\"justify\">Evaluar los resultados del análisis utilizando métricas adecuadas (precisión, recall, F1-score).</div>\n",
    "- <div align=\"justify\">Ajustar y mejorar los modelos basándose en la evaluación.</div>\n",
    "\n",
    "8. <div align=\"justify\"><strong>Implementación</strong> del modelo en un entorno de producción para su uso en aplicaciones reales.</div>"
   ]
  }
 ],
 "metadata": {
  "kernelspec": {
   "display_name": "Python 3",
   "language": "python",
   "name": "python3"
  },
  "language_info": {
   "codemirror_mode": {
    "name": "ipython",
    "version": 3
   },
   "file_extension": ".py",
   "mimetype": "text/x-python",
   "name": "python",
   "nbconvert_exporter": "python",
   "pygments_lexer": "ipython3",
   "version": "3.8.18"
  }
 },
 "nbformat": 4,
 "nbformat_minor": 5
}

{
 "cells": [
  {
   "cell_type": "markdown",
   "id": "508317ec-9986-44a8-8da1-2e5b336dc76e",
   "metadata": {},
   "source": [
    "# Procesamiento Lenguaje Natural (NLP) IV"
   ]
  },
  {
   "cell_type": "markdown",
   "id": "9ed5aa09-c7e2-4101-ba38-c27faf129389",
   "metadata": {},
   "source": [
    "## Análisis Sintáctico"
   ]
  },
  {
   "cell_type": "markdown",
   "id": "44fc4f0a-c4c4-4522-baab-65c5a2aa3149",
   "metadata": {},
   "source": [
    "```{admonition} ¿Qué es el Análisis Sintáctico?\n",
    "<div align=\"justify\">El análisis sintáctico (o parsing) implica analizar la estructura gramatical de una oración para entender las relaciones entre las palabras.</div>\n",
    "```"
   ]
  },
  {
   "cell_type": "markdown",
   "id": "391278b5-8e59-44bb-aa5b-3dec818b1e2b",
   "metadata": {},
   "source": [
    "```{warning}\n",
    "<div align=\"justify\">NLTK no permite realizar este tipo de análisis con textos en español, solo en inglés y ruso (Currently, NLTK pos_tag only supports English and Russian),  por lo cual ocuparemos otra librería que es spaCY.</div>\n",
    "```"
   ]
  },
  {
   "cell_type": "markdown",
   "id": "7f4509a6-48de-4dac-b0f9-c307d140bdb8",
   "metadata": {},
   "source": [
    "### Etiquetado de Partes del Discurso (POS Tagging)"
   ]
  },
  {
   "cell_type": "markdown",
   "id": "cbf940a7-f3b9-40e2-9a36-d80b5621ae76",
   "metadata": {},
   "source": [
    "```{admonition} ¿Qué es el Etiquetado de Partes del Discurso (POS Tagging)?\n",
    "<div align=\"justify\">Es la asignación de etiquetas gramaticales a cada palabra en una oración, como sustantivos, verbos, adjetivos, etc.</div>\n",
    "```"
   ]
  },
  {
   "cell_type": "markdown",
   "id": "b1d10473-81aa-47c6-925b-e8c57117bdec",
   "metadata": {},
   "source": [
    "```{table} Listado básico de etiquetas POS\n",
    ":name: my-table-ref\n",
    "\n",
    "| Etiqueta POS |         Descripción         |\n",
    "|:------------:|:--------------------------:|\n",
    "|     ADJ      |          Adjetivo           |\n",
    "|     ADP      | Adposición (preposición y postposición) |\n",
    "|     ADV      |          Adverbio           |\n",
    "|     AUX      |        Verbo auxiliar       |\n",
    "|    CONJ      |         Conjunción          |\n",
    "|     DET      |        Determinante        |\n",
    "|    INTJ      |        Interjección         |\n",
    "|    NOUN      |         Sustantivo          |\n",
    "|     NUM      |           Número            |\n",
    "|    PART      |          Partícula          |\n",
    "|    PRON      |          Pronombre          |\n",
    "|    PROPN     |        Nombre propio        |\n",
    "|    PUNCT     |    Signo de puntuación      |\n",
    "|   SCONJ      | Conjunción subordinante     |\n",
    "|    SYM       |          Símbolo            |\n",
    "|    VERB      |            Verbo            |\n",
    "|      X       |            Otro             |\n",
    "\n",
    "```"
   ]
  },
  {
   "cell_type": "markdown",
   "id": "db70dd4c-864c-4f3a-a79b-ad7b90574ae4",
   "metadata": {},
   "source": [
    "#### Ejemplo de Código de POS Tagging"
   ]
  },
  {
   "cell_type": "code",
   "execution_count": 11,
   "id": "620a1c1d-0cb0-4c9e-a55c-0d5bf8b28cd8",
   "metadata": {},
   "outputs": [
    {
     "name": "stdout",
     "output_type": "stream",
     "text": [
      "Etiquetado de Partes del Discurso (POS Tagging) en Español:\n",
      "[('Steve', 'PROPN'), ('dio', 'VERB'), ('un', 'DET'), ('emotivo', 'ADJ'), ('discurso', 'NOUN'), ('en', 'ADP'), ('la', 'DET'), ('Universidad', 'PROPN'), ('de', 'ADP'), ('Stanford', 'PROPN'), ('.', 'PUNCT')]\n"
     ]
    }
   ],
   "source": [
    "import spacy\n",
    "\n",
    "# Cargar el modelo preentrenado en español\n",
    "nlp = spacy.load('es_core_news_sm')\n",
    "\n",
    "# Texto de ejemplo en español\n",
    "texto = \"Steve dio un emotivo discurso en la Universidad de Stanford.\"\n",
    "\n",
    "# Procesar el texto con Spacy\n",
    "doc = nlp(texto)\n",
    "\n",
    "# Etiquetar las partes del discurso (POS Tagging) en español\n",
    "etiquetas_pos = [(token.text, token.pos_) for token in doc]\n",
    "\n",
    "print(\"Etiquetado de Partes del Discurso (POS Tagging) en Español:\")\n",
    "print(etiquetas_pos)"
   ]
  },
  {
   "cell_type": "markdown",
   "id": "33ad856e-bd08-4ca1-a242-e089043a2e74",
   "metadata": {},
   "source": [
    "### Reconocimiento de Entidades Nombradas (NER)"
   ]
  },
  {
   "cell_type": "markdown",
   "id": "d748e511-d12d-4a30-9f5f-75280d9dc707",
   "metadata": {},
   "source": [
    "```{admonition} ¿Qué es el Reconocimiento de Entidades Nombradas (NER)?\n",
    "<div align=\"justify\">El objetivo primordial es procesar datos estructurados y no estructurados y clasificar estas entidades nombradas en categorías predefinidas. Algunas categorías comunes incluyen nombre, ubicación, empresa, tiempo, valores monetarios, eventos y más.Todo esto es  útil en aplicaciones de análisis de sentimiento, extracción de información, resumen de texto, entre otros.</div>\n",
    "```"
   ]
  },
  {
   "cell_type": "markdown",
   "id": "817aa174-b8da-43a8-8ae2-45855d23143b",
   "metadata": {},
   "source": [
    "#### Ejemplo de Código de NER"
   ]
  },
  {
   "cell_type": "code",
   "execution_count": 12,
   "id": "6a0dc384-139e-47fd-afce-48c47a748874",
   "metadata": {},
   "outputs": [
    {
     "name": "stdout",
     "output_type": "stream",
     "text": [
      "Reconocimiento de Entidades Nombradas (NER) en Español:\n",
      "[('Steve', 'PER'), ('Universidad de Stanford', 'ORG')]\n"
     ]
    }
   ],
   "source": [
    "import spacy\n",
    "\n",
    "# Cargar el modelo preentrenado en español\n",
    "nlp = spacy.load('es_core_news_sm')\n",
    "\n",
    "# Texto de ejemplo en español\n",
    "texto = \"Steve dio un emotivo discurso en la Universidad de Stanford.\"\n",
    "\n",
    "# Procesar el texto con Spacy\n",
    "doc = nlp(texto)\n",
    "\n",
    "# Reconocimiento de Entidades Nombradas (NER) en español\n",
    "entidades_nombradas = [(entity.text, entity.label_) for entity in doc.ents]\n",
    "\n",
    "print(\"Reconocimiento de Entidades Nombradas (NER) en Español:\")\n",
    "print(entidades_nombradas)\n"
   ]
  },
  {
   "cell_type": "markdown",
   "id": "be4bef11-13bc-4ce7-ae90-27410e74fdf8",
   "metadata": {},
   "source": [
    "### Visualización del Análisis Sintáctico"
   ]
  },
  {
   "cell_type": "code",
   "execution_count": 25,
   "id": "1505a7a1-7cb5-4de5-b1db-9f0388df4871",
   "metadata": {},
   "outputs": [
    {
     "data": {
      "text/html": [
       "<span class=\"tex2jax_ignore\"><svg xmlns=\"http://www.w3.org/2000/svg\" xmlns:xlink=\"http://www.w3.org/1999/xlink\" xml:lang=\"es\" id=\"c23b893ccbb44ba58b6fc6264e47c85c-0\" class=\"displacy\" width=\"1040\" height=\"317.0\" direction=\"ltr\" style=\"max-width: none; height: 317.0px; color: #000000; background: #ffffff; font-family: Arial; direction: ltr\">\n",
       "<text class=\"displacy-token\" fill=\"currentColor\" text-anchor=\"middle\" y=\"227.0\">\n",
       "    <tspan class=\"displacy-word\" fill=\"currentColor\" x=\"50\">Steve</tspan>\n",
       "    <tspan class=\"displacy-tag\" dy=\"2em\" fill=\"currentColor\" x=\"50\">PROPN</tspan>\n",
       "</text>\n",
       "\n",
       "<text class=\"displacy-token\" fill=\"currentColor\" text-anchor=\"middle\" y=\"227.0\">\n",
       "    <tspan class=\"displacy-word\" fill=\"currentColor\" x=\"140\">Jobs</tspan>\n",
       "    <tspan class=\"displacy-tag\" dy=\"2em\" fill=\"currentColor\" x=\"140\">PROPN</tspan>\n",
       "</text>\n",
       "\n",
       "<text class=\"displacy-token\" fill=\"currentColor\" text-anchor=\"middle\" y=\"227.0\">\n",
       "    <tspan class=\"displacy-word\" fill=\"currentColor\" x=\"230\">dio</tspan>\n",
       "    <tspan class=\"displacy-tag\" dy=\"2em\" fill=\"currentColor\" x=\"230\">VERB</tspan>\n",
       "</text>\n",
       "\n",
       "<text class=\"displacy-token\" fill=\"currentColor\" text-anchor=\"middle\" y=\"227.0\">\n",
       "    <tspan class=\"displacy-word\" fill=\"currentColor\" x=\"320\">un</tspan>\n",
       "    <tspan class=\"displacy-tag\" dy=\"2em\" fill=\"currentColor\" x=\"320\">DET</tspan>\n",
       "</text>\n",
       "\n",
       "<text class=\"displacy-token\" fill=\"currentColor\" text-anchor=\"middle\" y=\"227.0\">\n",
       "    <tspan class=\"displacy-word\" fill=\"currentColor\" x=\"410\">emotivo</tspan>\n",
       "    <tspan class=\"displacy-tag\" dy=\"2em\" fill=\"currentColor\" x=\"410\">ADJ</tspan>\n",
       "</text>\n",
       "\n",
       "<text class=\"displacy-token\" fill=\"currentColor\" text-anchor=\"middle\" y=\"227.0\">\n",
       "    <tspan class=\"displacy-word\" fill=\"currentColor\" x=\"500\">discurso</tspan>\n",
       "    <tspan class=\"displacy-tag\" dy=\"2em\" fill=\"currentColor\" x=\"500\">NOUN</tspan>\n",
       "</text>\n",
       "\n",
       "<text class=\"displacy-token\" fill=\"currentColor\" text-anchor=\"middle\" y=\"227.0\">\n",
       "    <tspan class=\"displacy-word\" fill=\"currentColor\" x=\"590\">en</tspan>\n",
       "    <tspan class=\"displacy-tag\" dy=\"2em\" fill=\"currentColor\" x=\"590\">ADP</tspan>\n",
       "</text>\n",
       "\n",
       "<text class=\"displacy-token\" fill=\"currentColor\" text-anchor=\"middle\" y=\"227.0\">\n",
       "    <tspan class=\"displacy-word\" fill=\"currentColor\" x=\"680\">la</tspan>\n",
       "    <tspan class=\"displacy-tag\" dy=\"2em\" fill=\"currentColor\" x=\"680\">DET</tspan>\n",
       "</text>\n",
       "\n",
       "<text class=\"displacy-token\" fill=\"currentColor\" text-anchor=\"middle\" y=\"227.0\">\n",
       "    <tspan class=\"displacy-word\" fill=\"currentColor\" x=\"770\">Universidad</tspan>\n",
       "    <tspan class=\"displacy-tag\" dy=\"2em\" fill=\"currentColor\" x=\"770\">PROPN</tspan>\n",
       "</text>\n",
       "\n",
       "<text class=\"displacy-token\" fill=\"currentColor\" text-anchor=\"middle\" y=\"227.0\">\n",
       "    <tspan class=\"displacy-word\" fill=\"currentColor\" x=\"860\">de</tspan>\n",
       "    <tspan class=\"displacy-tag\" dy=\"2em\" fill=\"currentColor\" x=\"860\">ADP</tspan>\n",
       "</text>\n",
       "\n",
       "<text class=\"displacy-token\" fill=\"currentColor\" text-anchor=\"middle\" y=\"227.0\">\n",
       "    <tspan class=\"displacy-word\" fill=\"currentColor\" x=\"950\">Stanford.</tspan>\n",
       "    <tspan class=\"displacy-tag\" dy=\"2em\" fill=\"currentColor\" x=\"950\">PROPN</tspan>\n",
       "</text>\n",
       "\n",
       "<g class=\"displacy-arrow\">\n",
       "    <path class=\"displacy-arc\" id=\"arrow-c23b893ccbb44ba58b6fc6264e47c85c-0-0\" stroke-width=\"2px\" d=\"M70,182.0 C70,92.0 220.0,92.0 220.0,182.0\" fill=\"none\" stroke=\"currentColor\"/>\n",
       "    <text dy=\"1.25em\" style=\"font-size: 0.8em; letter-spacing: 1px\">\n",
       "        <textPath xlink:href=\"#arrow-c23b893ccbb44ba58b6fc6264e47c85c-0-0\" class=\"displacy-label\" startOffset=\"50%\" side=\"left\" fill=\"currentColor\" text-anchor=\"middle\">nsubj</textPath>\n",
       "    </text>\n",
       "    <path class=\"displacy-arrowhead\" d=\"M70,184.0 L62,172.0 78,172.0\" fill=\"currentColor\"/>\n",
       "</g>\n",
       "\n",
       "<g class=\"displacy-arrow\">\n",
       "    <path class=\"displacy-arc\" id=\"arrow-c23b893ccbb44ba58b6fc6264e47c85c-0-1\" stroke-width=\"2px\" d=\"M70,182.0 C70,137.0 125.0,137.0 125.0,182.0\" fill=\"none\" stroke=\"currentColor\"/>\n",
       "    <text dy=\"1.25em\" style=\"font-size: 0.8em; letter-spacing: 1px\">\n",
       "        <textPath xlink:href=\"#arrow-c23b893ccbb44ba58b6fc6264e47c85c-0-1\" class=\"displacy-label\" startOffset=\"50%\" side=\"left\" fill=\"currentColor\" text-anchor=\"middle\">flat</textPath>\n",
       "    </text>\n",
       "    <path class=\"displacy-arrowhead\" d=\"M125.0,184.0 L133.0,172.0 117.0,172.0\" fill=\"currentColor\"/>\n",
       "</g>\n",
       "\n",
       "<g class=\"displacy-arrow\">\n",
       "    <path class=\"displacy-arc\" id=\"arrow-c23b893ccbb44ba58b6fc6264e47c85c-0-2\" stroke-width=\"2px\" d=\"M340,182.0 C340,92.0 490.0,92.0 490.0,182.0\" fill=\"none\" stroke=\"currentColor\"/>\n",
       "    <text dy=\"1.25em\" style=\"font-size: 0.8em; letter-spacing: 1px\">\n",
       "        <textPath xlink:href=\"#arrow-c23b893ccbb44ba58b6fc6264e47c85c-0-2\" class=\"displacy-label\" startOffset=\"50%\" side=\"left\" fill=\"currentColor\" text-anchor=\"middle\">det</textPath>\n",
       "    </text>\n",
       "    <path class=\"displacy-arrowhead\" d=\"M340,184.0 L332,172.0 348,172.0\" fill=\"currentColor\"/>\n",
       "</g>\n",
       "\n",
       "<g class=\"displacy-arrow\">\n",
       "    <path class=\"displacy-arc\" id=\"arrow-c23b893ccbb44ba58b6fc6264e47c85c-0-3\" stroke-width=\"2px\" d=\"M430,182.0 C430,137.0 485.0,137.0 485.0,182.0\" fill=\"none\" stroke=\"currentColor\"/>\n",
       "    <text dy=\"1.25em\" style=\"font-size: 0.8em; letter-spacing: 1px\">\n",
       "        <textPath xlink:href=\"#arrow-c23b893ccbb44ba58b6fc6264e47c85c-0-3\" class=\"displacy-label\" startOffset=\"50%\" side=\"left\" fill=\"currentColor\" text-anchor=\"middle\">amod</textPath>\n",
       "    </text>\n",
       "    <path class=\"displacy-arrowhead\" d=\"M430,184.0 L422,172.0 438,172.0\" fill=\"currentColor\"/>\n",
       "</g>\n",
       "\n",
       "<g class=\"displacy-arrow\">\n",
       "    <path class=\"displacy-arc\" id=\"arrow-c23b893ccbb44ba58b6fc6264e47c85c-0-4\" stroke-width=\"2px\" d=\"M250,182.0 C250,47.0 495.0,47.0 495.0,182.0\" fill=\"none\" stroke=\"currentColor\"/>\n",
       "    <text dy=\"1.25em\" style=\"font-size: 0.8em; letter-spacing: 1px\">\n",
       "        <textPath xlink:href=\"#arrow-c23b893ccbb44ba58b6fc6264e47c85c-0-4\" class=\"displacy-label\" startOffset=\"50%\" side=\"left\" fill=\"currentColor\" text-anchor=\"middle\">obj</textPath>\n",
       "    </text>\n",
       "    <path class=\"displacy-arrowhead\" d=\"M495.0,184.0 L503.0,172.0 487.0,172.0\" fill=\"currentColor\"/>\n",
       "</g>\n",
       "\n",
       "<g class=\"displacy-arrow\">\n",
       "    <path class=\"displacy-arc\" id=\"arrow-c23b893ccbb44ba58b6fc6264e47c85c-0-5\" stroke-width=\"2px\" d=\"M610,182.0 C610,92.0 760.0,92.0 760.0,182.0\" fill=\"none\" stroke=\"currentColor\"/>\n",
       "    <text dy=\"1.25em\" style=\"font-size: 0.8em; letter-spacing: 1px\">\n",
       "        <textPath xlink:href=\"#arrow-c23b893ccbb44ba58b6fc6264e47c85c-0-5\" class=\"displacy-label\" startOffset=\"50%\" side=\"left\" fill=\"currentColor\" text-anchor=\"middle\">case</textPath>\n",
       "    </text>\n",
       "    <path class=\"displacy-arrowhead\" d=\"M610,184.0 L602,172.0 618,172.0\" fill=\"currentColor\"/>\n",
       "</g>\n",
       "\n",
       "<g class=\"displacy-arrow\">\n",
       "    <path class=\"displacy-arc\" id=\"arrow-c23b893ccbb44ba58b6fc6264e47c85c-0-6\" stroke-width=\"2px\" d=\"M700,182.0 C700,137.0 755.0,137.0 755.0,182.0\" fill=\"none\" stroke=\"currentColor\"/>\n",
       "    <text dy=\"1.25em\" style=\"font-size: 0.8em; letter-spacing: 1px\">\n",
       "        <textPath xlink:href=\"#arrow-c23b893ccbb44ba58b6fc6264e47c85c-0-6\" class=\"displacy-label\" startOffset=\"50%\" side=\"left\" fill=\"currentColor\" text-anchor=\"middle\">det</textPath>\n",
       "    </text>\n",
       "    <path class=\"displacy-arrowhead\" d=\"M700,184.0 L692,172.0 708,172.0\" fill=\"currentColor\"/>\n",
       "</g>\n",
       "\n",
       "<g class=\"displacy-arrow\">\n",
       "    <path class=\"displacy-arc\" id=\"arrow-c23b893ccbb44ba58b6fc6264e47c85c-0-7\" stroke-width=\"2px\" d=\"M250,182.0 C250,2.0 770.0,2.0 770.0,182.0\" fill=\"none\" stroke=\"currentColor\"/>\n",
       "    <text dy=\"1.25em\" style=\"font-size: 0.8em; letter-spacing: 1px\">\n",
       "        <textPath xlink:href=\"#arrow-c23b893ccbb44ba58b6fc6264e47c85c-0-7\" class=\"displacy-label\" startOffset=\"50%\" side=\"left\" fill=\"currentColor\" text-anchor=\"middle\">obl</textPath>\n",
       "    </text>\n",
       "    <path class=\"displacy-arrowhead\" d=\"M770.0,184.0 L778.0,172.0 762.0,172.0\" fill=\"currentColor\"/>\n",
       "</g>\n",
       "\n",
       "<g class=\"displacy-arrow\">\n",
       "    <path class=\"displacy-arc\" id=\"arrow-c23b893ccbb44ba58b6fc6264e47c85c-0-8\" stroke-width=\"2px\" d=\"M880,182.0 C880,137.0 935.0,137.0 935.0,182.0\" fill=\"none\" stroke=\"currentColor\"/>\n",
       "    <text dy=\"1.25em\" style=\"font-size: 0.8em; letter-spacing: 1px\">\n",
       "        <textPath xlink:href=\"#arrow-c23b893ccbb44ba58b6fc6264e47c85c-0-8\" class=\"displacy-label\" startOffset=\"50%\" side=\"left\" fill=\"currentColor\" text-anchor=\"middle\">case</textPath>\n",
       "    </text>\n",
       "    <path class=\"displacy-arrowhead\" d=\"M880,184.0 L872,172.0 888,172.0\" fill=\"currentColor\"/>\n",
       "</g>\n",
       "\n",
       "<g class=\"displacy-arrow\">\n",
       "    <path class=\"displacy-arc\" id=\"arrow-c23b893ccbb44ba58b6fc6264e47c85c-0-9\" stroke-width=\"2px\" d=\"M790,182.0 C790,92.0 940.0,92.0 940.0,182.0\" fill=\"none\" stroke=\"currentColor\"/>\n",
       "    <text dy=\"1.25em\" style=\"font-size: 0.8em; letter-spacing: 1px\">\n",
       "        <textPath xlink:href=\"#arrow-c23b893ccbb44ba58b6fc6264e47c85c-0-9\" class=\"displacy-label\" startOffset=\"50%\" side=\"left\" fill=\"currentColor\" text-anchor=\"middle\">flat</textPath>\n",
       "    </text>\n",
       "    <path class=\"displacy-arrowhead\" d=\"M940.0,184.0 L948.0,172.0 932.0,172.0\" fill=\"currentColor\"/>\n",
       "</g>\n",
       "</svg></span>"
      ],
      "text/plain": [
       "<IPython.core.display.HTML object>"
      ]
     },
     "metadata": {},
     "output_type": "display_data"
    }
   ],
   "source": [
    "import spacy\n",
    "from spacy import displacy\n",
    "\n",
    "# Cargar el modelo de SpaCy en español\n",
    "nlp = spacy.load('es_core_news_sm')\n",
    "\n",
    "# Ejemplo de frase para análisis sintáctico\n",
    "frase_ejemplo = \"Steve Jobs dio un emotivo discurso en la Universidad de Stanford.\"\n",
    "\n",
    "# Procesar la frase con SpaCy\n",
    "doc = nlp(frase_ejemplo)\n",
    "\n",
    "# Mostrar árbol de dependencia\n",
    "displacy.render(doc, style='dep', jupyter=True, options={'distance': 90})\n"
   ]
  },
  {
   "cell_type": "markdown",
   "id": "a1185dd4-e6c2-4cc0-a150-9b56bfcbe1ee",
   "metadata": {},
   "source": [
    "## Análisis Semántico"
   ]
  },
  {
   "cell_type": "markdown",
   "id": "f76da75e-cc61-4303-a13c-5854dfb0ea62",
   "metadata": {},
   "source": [
    "```{admonition} ¿Qué es el Análisis Sintáctico?\n",
    "<div align=\"justify\">El análisis sintáctico (o parsing) implica analizar la estructura gramatical de una oración para entender las relaciones entre las palabras.</div>\n",
    "```"
   ]
  },
  {
   "cell_type": "markdown",
   "id": "0c0da044-35d9-4415-afd5-7f9b4b91f13f",
   "metadata": {},
   "source": [
    "### Desambiguación del sentido de las Palabras:"
   ]
  },
  {
   "cell_type": "markdown",
   "id": "6b3cccf3-9ac8-400f-b2e2-4e3bfb204a2d",
   "metadata": {},
   "source": [
    "```{admonition} ¿Qué es la Desambiguación de Palabras?\n",
    "<div align=\"justify\">La desambiguación de palabras se refiere a determinar el significado correcto de una palabra que tiene múltiples sentidos en un contexto específico. Esto se puede lograr utilizando algoritmos de desambiguación léxica o basados en corpus.</div>\n",
    "```"
   ]
  },
  {
   "cell_type": "markdown",
   "id": "4da80f25-3b16-4f36-8a02-b5baf720469b",
   "metadata": {},
   "source": [
    "#### Ejemplo de Código de Desambiguación de Palabras"
   ]
  },
  {
   "cell_type": "code",
   "execution_count": 21,
   "id": "01014a66-a230-4151-8001-f889ff6ce04d",
   "metadata": {},
   "outputs": [
    {
     "name": "stdout",
     "output_type": "stream",
     "text": [
      "No se encontró un sentido adecuado para 'destino' en el contexto proporcionado.\n"
     ]
    }
   ],
   "source": [
    "from nltk.corpus import wordnet\n",
    "from nltk.wsd import lesk\n",
    "\n",
    "# Definir el contexto de la palabra\n",
    "frase =  \"\"\"\n",
    "Fue imposible preverlo todo en la vida. \n",
    "Si te atreves a conectar los puntos hacia adelante, \n",
    "de alguna manera, en el futuro, confiarás en algo: en tu karma, \n",
    "en el destino, en la vida, en el destino, en las personas, lo que sea.\n",
    "\"\"\"\n",
    "# Obtener la palabra objetivo\n",
    "target_word = 'destino'\n",
    "\n",
    "# Aplicar Lesk algorithm para desambiguar\n",
    "synset = lesk(frase.split(), target_word)\n",
    "\n",
    "# Verificar si se encontró un synset adecuado\n",
    "if synset is not None:\n",
    "    # Mostrar resultado\n",
    "    print(f'Palabra: {target_word}')\n",
    "    print(f'Significado: {synset.definition()}')\n",
    "else:\n",
    "    print(f\"No se encontró un sentido adecuado para '{target_word}' en el contexto proporcionado.\")\n"
   ]
  },
  {
   "cell_type": "markdown",
   "id": "e096a3ef-6293-4ae5-8e13-63756cf76725",
   "metadata": {},
   "source": [
    "### Extracción de Relaciones: "
   ]
  },
  {
   "cell_type": "markdown",
   "id": "e0b4ba4a-be56-4367-aa96-d99ed6aaea6f",
   "metadata": {},
   "source": [
    "```{admonition} ¿Qué es la Extracción de Relaciones?\n",
    "<div align=\"justify\"> Esta implica identificar conexiones semánticas o sintácticas entre entidades en el texto, como relaciones de hiponimia, hiperonimia, causa-efecto, etc.</div>\n",
    "```"
   ]
  },
  {
   "cell_type": "markdown",
   "id": "796c882c-31ad-4656-b8b4-bcda6ae810e0",
   "metadata": {},
   "source": [
    "#### Ejemplo de Código de Extracción de Relaciones: "
   ]
  },
  {
   "cell_type": "code",
   "execution_count": 20,
   "id": "f3f9d46a-e01e-41d4-88ae-805cf9ab4818",
   "metadata": {},
   "outputs": [
    {
     "name": "stdout",
     "output_type": "stream",
     "text": [
      "Entidades y roles sintácticos:\n",
      "Si te atreves a conectar (MISC) - Dependencia: ROOT\n",
      "\n",
      "Dependencias sintácticas:\n",
      "Fue - Dependencia: cop, Parte del discurso: AUX\n",
      "imposible - Dependencia: ROOT, Parte del discurso: ADJ\n",
      "preverlo - Dependencia: csubj, Parte del discurso: VERB\n",
      "todo - Dependencia: obj, Parte del discurso: PRON\n",
      "en - Dependencia: case, Parte del discurso: ADP\n",
      "la - Dependencia: det, Parte del discurso: DET\n",
      "vida - Dependencia: obl, Parte del discurso: NOUN\n",
      ". - Dependencia: punct, Parte del discurso: PUNCT\n",
      "Si - Dependencia: mark, Parte del discurso: SCONJ\n",
      "te - Dependencia: iobj, Parte del discurso: PRON\n",
      "atreves - Dependencia: ROOT, Parte del discurso: VERB\n",
      "a - Dependencia: mark, Parte del discurso: ADP\n",
      "conectar - Dependencia: xcomp, Parte del discurso: VERB\n",
      "los - Dependencia: det, Parte del discurso: DET\n",
      "puntos - Dependencia: obj, Parte del discurso: NOUN\n",
      "hacia - Dependencia: case, Parte del discurso: ADP\n",
      "adelante - Dependencia: advmod, Parte del discurso: ADV\n",
      ", - Dependencia: punct, Parte del discurso: PUNCT\n",
      "de - Dependencia: case, Parte del discurso: ADP\n",
      "alguna - Dependencia: det, Parte del discurso: DET\n",
      "manera - Dependencia: obl, Parte del discurso: NOUN\n",
      ", - Dependencia: punct, Parte del discurso: PUNCT\n",
      "en - Dependencia: case, Parte del discurso: ADP\n",
      "el - Dependencia: det, Parte del discurso: DET\n",
      "futuro - Dependencia: obl, Parte del discurso: NOUN\n",
      ", - Dependencia: punct, Parte del discurso: PUNCT\n",
      "confiarás - Dependencia: amod, Parte del discurso: ADV\n",
      "en - Dependencia: case, Parte del discurso: ADP\n",
      "algo - Dependencia: nmod, Parte del discurso: PRON\n",
      ": - Dependencia: punct, Parte del discurso: PUNCT\n",
      "en - Dependencia: case, Parte del discurso: ADP\n",
      "tu - Dependencia: det, Parte del discurso: DET\n",
      "karma - Dependencia: obl, Parte del discurso: PROPN\n",
      ", - Dependencia: punct, Parte del discurso: PUNCT\n",
      "en - Dependencia: case, Parte del discurso: ADP\n",
      "el - Dependencia: det, Parte del discurso: DET\n",
      "destino - Dependencia: nmod, Parte del discurso: NOUN\n",
      ", - Dependencia: punct, Parte del discurso: PUNCT\n",
      "en - Dependencia: case, Parte del discurso: ADP\n",
      "la - Dependencia: det, Parte del discurso: DET\n",
      "vida - Dependencia: nmod, Parte del discurso: NOUN\n",
      ", - Dependencia: punct, Parte del discurso: PUNCT\n",
      "en - Dependencia: case, Parte del discurso: ADP\n",
      "el - Dependencia: det, Parte del discurso: DET\n",
      "destino - Dependencia: nmod, Parte del discurso: NOUN\n",
      ", - Dependencia: punct, Parte del discurso: PUNCT\n",
      "en - Dependencia: case, Parte del discurso: ADP\n",
      "las - Dependencia: det, Parte del discurso: DET\n",
      "personas - Dependencia: nmod, Parte del discurso: NOUN\n",
      ", - Dependencia: punct, Parte del discurso: PUNCT\n",
      "lo - Dependencia: det, Parte del discurso: PRON\n",
      "que - Dependencia: csubj, Parte del discurso: SCONJ\n",
      "sea - Dependencia: cop, Parte del discurso: VERB\n",
      ". - Dependencia: punct, Parte del discurso: PUNCT\n"
     ]
    }
   ],
   "source": [
    "import spacy\n",
    "\n",
    "# Cargar el modelo en español de Spacy\n",
    "nlp = spacy.load('es_core_news_sm')\n",
    "\n",
    "# Definir la frase\n",
    "frase = \"Fue imposible preverlo todo en la vida. Si te atreves a conectar los puntos hacia adelante, de alguna manera, en el futuro, confiarás en algo: en tu karma, en el destino, en la vida, en el destino, en las personas, lo que sea.\"\n",
    "\n",
    "# Procesar la frase con Spacy\n",
    "doc = nlp(frase)\n",
    "\n",
    "# Mostrar entidades nombradas y sus roles sintácticos\n",
    "print(\"Entidades y roles sintácticos:\")\n",
    "for ent in doc.ents:\n",
    "    print(f\"{ent.text} ({ent.label_}) - Dependencia: {ent.root.dep_}\")\n",
    "\n",
    "# Mostrar dependencias sintácticas de todas las palabras en la frase\n",
    "print(\"\\nDependencias sintácticas:\")\n",
    "for token in doc:\n",
    "    print(f\"{token.text} - Dependencia: {token.dep_}, Parte del discurso: {token.pos_}\")\n"
   ]
  },
  {
   "cell_type": "markdown",
   "id": "231f843c-765d-4fc0-b445-330bd2d1a817",
   "metadata": {},
   "source": [
    "### Visualización del Análisis Semántico"
   ]
  },
  {
   "cell_type": "markdown",
   "id": "14037ebb-dc8b-45eb-b862-25c521065748",
   "metadata": {},
   "source": [
    "<div align=\"justify\">Para visualizar aspectos del análisis semántico en un texto, podemos utilizar herramientas como WordClouds (nubes de palabras), gráficos de dispersión de palabras clave, o incluso representaciones vectoriales para capturar similitudes semánticas entre palabras.<div>"
   ]
  },
  {
   "cell_type": "markdown",
   "id": "c608586f-1ff2-4629-982e-c505a6759d4e",
   "metadata": {},
   "source": [
    "<div align=\"justify\"><strong> Uso de WordCloud</strong>: La que muestra las palabras más frecuentes en un texto, donde el tamaño de cada palabra representa su frecuencia de aparición. Esto puede ofrecer insights sobre los temas principales del texto.<div>"
   ]
  },
  {
   "cell_type": "code",
   "execution_count": 30,
   "id": "469b3bfa-c220-468a-b943-95f4bff49972",
   "metadata": {},
   "outputs": [
    {
     "data": {
      "image/png": "[encoded data removed]",
      "text/plain": [
       "<Figure size 720x360 with 1 Axes>"
      ]
     },
     "metadata": {
      "needs_background": "light"
     },
     "output_type": "display_data"
    }
   ],
   "source": [
    "from wordcloud import WordCloud\n",
    "import matplotlib.pyplot as plt\n",
    "\n",
    "# Texto de ejemplo\n",
    "texto_ejemplo = \"Steve Jobs fue un visionario en la industria tecnológica. Fundó Apple Inc. y revolucionó la forma en que interactuamos con la tecnología.\"\n",
    "\n",
    "# Generar la nube de palabras\n",
    "wordcloud = WordCloud(width=800, height=400, background_color='white').generate(texto_ejemplo)\n",
    "\n",
    "# Visualizar la nube de palabras\n",
    "plt.figure(figsize=(10, 5))\n",
    "plt.imshow(wordcloud, interpolation='bilinear')\n",
    "plt.axis('off')\n",
    "plt.title('WordCloud del Discurso de Steve Jobs')\n",
    "plt.show()\n"
   ]
  },
  {
   "cell_type": "markdown",
   "id": "e94d94af-df05-4446-8f79-7b1a7b0350a2",
   "metadata": {},
   "source": [
    "<div align=\"justify\"><strong> Representaciones Vectoriales (word embeddings)</strong>: Estas permiten capturar relaciones semánticas entre palabras, donde palabras similares en significado estarán más cerca en el espacio vectorial. Si bien,  la generación de embeddings necesita entrenamiento previo con grandes corpus de texto, aquí hau un ejemplo básico utilizando SpaCy para obtener representaciones vectoriales de las palbaras identificadas en la nube de palabras usada previamente.<div>"
   ]
  },
  {
   "cell_type": "code",
   "execution_count": 31,
   "id": "8ba4fb60-3e2b-4577-8348-069412a0a4ed",
   "metadata": {},
   "outputs": [
    {
     "name": "stdout",
     "output_type": "stream",
     "text": [
      "Palabra: Steve\n",
      "Vector semántico:\n",
      "[ 1.6954226   2.3852992  -1.0479419  -2.9150121  -2.854951    3.800932\n",
      " -0.32780194 -2.309936    3.0529099   4.1016216  -1.27048     3.074584\n",
      "  1.1750889   0.2949464   7.51592     3.4882426  -4.5924187   2.6013188\n",
      "  1.3942841  -4.3961887   6.8055124   5.9939337   3.664003    2.190405\n",
      " -1.4196005  -1.2751667  -1.648981   -0.3215012   2.804182   -0.6037993\n",
      " -0.65419424 -3.0755937   2.7570825  -1.7890725   0.65946954  1.8246825\n",
      "  0.92358595 -2.8761601   3.0070329  -2.9747021   0.35725754 -1.7793069\n",
      " -1.0772322   3.41704    -0.45815736 -0.22805336 -3.3319836  -8.070787\n",
      " -7.6126046  -1.1886644   0.39562356 -2.973638   -1.0722961   2.242342\n",
      " -3.4962387   5.296127    2.786405    4.6123953   0.9465897  -3.6371865\n",
      " -1.2877402  -4.170164   -0.0182128  -0.6144998  -2.6872876   0.52657396\n",
      " -2.408743   -2.2806253  -3.517282   -2.7071846   2.8647394   0.2392014\n",
      " -0.5543735   7.39874     0.36842912 -1.8763452   0.6665422   2.7230902\n",
      " -1.81835    -1.5710523  -3.926563   -0.39966124 -7.43855     1.6283925\n",
      "  5.3460274   2.702806   -0.9004258   1.1995968   1.9441423  -1.0538445\n",
      " -3.5180202   2.2426872   0.19851273  0.4468677   2.2073734  -2.6916218 ]\n",
      "\n",
      "Palabra: Jobs\n",
      "Vector semántico:\n",
      "[ 3.3823955  -2.6609724  -3.2995915   2.4339461  -1.5773795  -1.3817444\n",
      " -0.8831451  -2.56716     2.0088959   2.5883145  -1.2873309  -0.6740124\n",
      "  1.8706853   0.94425553  6.1424665   4.0709853  -0.9605718   1.4903011\n",
      "  6.023325   -1.3212557   3.0732322   2.2388146   4.1362286   1.4312\n",
      " -1.1184332   2.3204982  -1.5272379  -0.7727028   0.25054914  1.2836275\n",
      "  0.5647552   0.4145316  -1.1029934  -3.0552914  -3.888102    4.831252\n",
      " -1.124552   -5.72715     0.6085828  -1.727516   -1.3112093  -5.2763333\n",
      " -1.7699025   2.54766     2.5951257  -4.9349737  -1.4009256  -3.7262218\n",
      " -2.6732612  -1.3919271  -1.915794   -4.4755044  -0.6395805   4.2156277\n",
      " -2.5916092   4.324755    0.68370295  7.7584543   3.0686092   0.57666516\n",
      "  3.142088   -3.2948046   2.7401607  -2.9672644   2.3023202   0.26673043\n",
      "  0.54648566 -2.9993212  -0.19834512 -4.0724916   2.6151237  -1.6454899\n",
      " -0.93479466  1.3285646  -5.7003217   0.68868625 -1.3901273  -0.3795515\n",
      " -3.2882538   0.8471623  -2.9546657   1.078072   -2.8288057   0.810818\n",
      "  5.5846877   5.280097   -0.89387727 -2.8002918  -0.13896185 -0.3990217\n",
      " -5.892403   -1.5257369   2.9839883   2.3528535   4.304802   -1.0716062 ]\n",
      "\n",
      "Palabra: Apple\n",
      "Vector semántico:\n",
      "[ 1.39656079e+00 -2.73936749e-01  6.54514909e-01 -1.35824752e+00\n",
      " -1.63526690e+00 -1.35374177e+00 -9.17620301e-01 -5.17585182e+00\n",
      "  1.82976520e+00  3.21275783e+00 -4.46556520e+00  9.14426804e-01\n",
      "  2.12922835e+00  4.97688293e-01  8.20713139e+00  2.55356860e+00\n",
      " -4.55003262e+00  7.65638947e-01  3.44985127e+00 -2.96803236e+00\n",
      "  1.00623455e+01  3.77538848e+00  2.63978243e+00  1.88132632e+00\n",
      " -3.52231288e+00  2.98011208e+00 -1.47567558e+00  1.61375493e-01\n",
      "  1.20359468e+00 -4.75249946e-01  8.93953204e-01 -2.04217896e-01\n",
      "  8.83048296e-01 -3.42649221e+00  4.66008455e-01  2.16689086e+00\n",
      " -3.31194341e-01 -3.40937853e+00  2.58759356e+00 -3.21085238e+00\n",
      " -6.83123022e-02 -3.90214729e+00  7.28881359e-03  1.17366123e+00\n",
      " -8.81285787e-01 -3.03521848e+00 -2.67454886e+00 -2.57937527e+00\n",
      " -3.95140052e+00 -5.51130891e-01  4.97824311e-01 -1.64657521e+00\n",
      " -4.47795343e+00  7.71412730e-01 -3.01303005e+00  5.67457438e+00\n",
      "  1.21384239e+00  6.95921087e+00  4.94024754e+00 -3.66313148e+00\n",
      " -2.00927019e-01 -5.00442123e+00 -3.48160744e-01  1.97181493e-01\n",
      "  8.51498604e-01 -4.89156306e-01 -1.49292552e+00 -1.80590749e-01\n",
      " -4.70029163e+00 -1.36064649e+00  3.56927633e+00 -2.67746377e+00\n",
      " -1.03818905e+00  3.80006742e+00  3.74821007e-01 -1.17726374e+00\n",
      "  1.03753304e+00  1.08130622e+00 -1.63580668e+00  1.99639797e-02\n",
      " -5.17509222e+00  2.08421350e-01 -1.28141081e+00 -5.89222252e-01\n",
      "  7.83009481e+00  4.27679825e+00 -8.78282309e-01  1.20674276e+00\n",
      " -6.60529912e-01  1.43679547e+00 -3.76856947e+00 -1.31793380e+00\n",
      "  3.20576859e+00  2.73595095e-01 -9.65641558e-01 -6.29680276e-01]\n",
      "\n",
      "Palabra: tecnología\n",
      "Vector semántico:\n",
      "[ 3.201436    0.4645091  -5.491641    0.7635591   1.2409842  -2.9447455\n",
      " -0.05693555 -1.204132    0.5331962   6.1557865  -2.1698747   4.939016\n",
      "  1.1247244   4.618493    1.6022891   6.3989797  -3.1939025   4.8050494\n",
      "  3.0293982   2.0601819   2.745199   -0.48372835  4.175046   -1.547176\n",
      " -0.03200558  2.4226923  -2.4169228  -0.45074818  0.2770447  -0.82481515\n",
      "  1.441982   -2.7887526   2.7618625  -5.8609204  -3.1771371   1.6572888\n",
      "  0.148933   -2.7129478  -1.372852    0.9666171  -2.299998   -3.409813\n",
      " -0.6364292   3.1807754   1.4864075  -0.6466826   2.658689   -1.8106662\n",
      " -0.7490594  -2.4677136  -2.084839   -2.0841126   1.5879104  -3.878293\n",
      " -1.7781084   0.48961818  2.5738451   2.425385    2.0479918  -3.11586\n",
      "  1.977471   -5.582416   -0.53726494  0.33792546  2.9953146  -0.09627742\n",
      "  2.0497108   1.8185346  -2.177946   -4.199998    6.6326404  -2.143697\n",
      " -2.6657927  -1.5972353  -5.5633154  -1.659429   -2.0872774  -2.1306248\n",
      " -4.9015894   0.8837882  -2.5483172  -2.2820117   0.01887134 -1.5339473\n",
      "  5.5445366   3.8402781  -1.3146874  -0.7485001   1.9703838  -1.2842133\n",
      " -2.5899372  -2.7008233   6.9864216  -0.8949323  -2.3610206  -0.5698584 ]\n",
      "\n"
     ]
    }
   ],
   "source": [
    "import spacy\n",
    "\n",
    "# Cargar el modelo de SpaCy en español\n",
    "nlp = spacy.load('es_core_news_sm')\n",
    "\n",
    "# Obtener representaciones vectoriales de palabras\n",
    "palabras = ['Steve', 'Jobs', 'Apple', 'tecnología']\n",
    "\n",
    "for palabra in palabras:\n",
    "    token = nlp(palabra)\n",
    "    print(f\"Palabra: {palabra}\")\n",
    "    print(f\"Vector semántico:\\n{token.vector}\\n\")\n"
   ]
  },
  {
   "cell_type": "markdown",
   "id": "9c56f9c0-3d71-4250-af7d-571ca6b94ea9",
   "metadata": {},
   "source": [
    "## Aplicación de Análisis Sintáctico y Semántico"
   ]
  },
  {
   "cell_type": "code",
   "execution_count": 22,
   "id": "a0edfe53-825d-4c8d-8812-b30fe298f30b",
   "metadata": {},
   "outputs": [
    {
     "name": "stdout",
     "output_type": "stream",
     "text": [
      "Entidades Nombradas:\n",
      "Steve Jobs - Tipo: PER\n",
      "Stanford - Tipo: MISC\n",
      "Me siento - Tipo: MISC\n",
      "Yo nunca llegué a licenciarme - Tipo: MISC\n",
      "De hecho - Tipo: MISC\n",
      "No es gran cosa - Tipo: MISC\n",
      "Solo tres historias - Tipo: MISC\n",
      "La primera historia - Tipo: MISC\n",
      "Me retiré del Reed College - Tipo: MISC\n",
      "¿Por qué lo dejé? - Tipo: MISC\n",
      "Todo empezó - Tipo: MISC\n",
      "Mi madre biológica - Tipo: MISC\n",
      "Ella creía firmemente - Tipo: MISC\n",
      "Por lo tanto - Tipo: MISC\n",
      "Sin embargo - Tipo: MISC\n",
      "De ese modo mis padres - Tipo: MISC\n",
      "¿ - Tipo: MISC\n",
      "Ellos - Tipo: MISC\n",
      "“ - Tipo: MISC\n",
      "Cuando mi madre biológica - Tipo: MISC\n",
      "Solo cambió de parecer - Tipo: MISC\n",
      "Ingenuamente - Tipo: PER\n",
      "Stanford - Tipo: ORG\n",
      "Seis meses después - Tipo: MISC\n",
      "No tenía idea - Tipo: MISC\n",
      "Y ahí estaba yo gastándome - Tipo: MISC\n",
      "Decidí - Tipo: PER\n",
      "Ese momento fue aterrador - Tipo: MISC\n",
      "Al dejar los estudios - Tipo: MISC\n",
      "No tenía dormitorio - Tipo: MISC\n",
      "Coca Cola - Tipo: PER\n",
      "Hare Krishna - Tipo: ORG\n",
      "Me gustaba - Tipo: MISC\n",
      "Y gran parte de lo que encontré - Tipo: MISC\n",
      "Os - Tipo: MISC\n",
      "Reed College - Tipo: ORG\n",
      "Cada cartel - Tipo: MISC\n",
      "Como había - Tipo: MISC\n",
      "Aprendí - Tipo: PER\n",
      "Era hermoso - Tipo: MISC\n",
      "Pero diez años más tarde - Tipo: MISC\n",
      "Macintosh - Tipo: MISC\n",
      "Mac - Tipo: MISC\n",
      "Si no hubiera asistido - Tipo: MISC\n",
      "Mac - Tipo: MISC\n",
      "Windows - Tipo: MISC\n",
      "Mac - Tipo: MISC\n",
      "Sin embargo - Tipo: MISC\n",
      "Insisto - Tipo: MISC\n",
      "Por ello tenéis - Tipo: MISC\n",
      "Tenéis - Tipo: MISC\n",
      "Nunca he abandonado esta perspectiva - Tipo: MISC\n",
      "La segunda historia - Tipo: MISC\n",
      "Fui - Tipo: PER\n",
      "Woz - Tipo: PER\n",
      "Steve Wozniak - Tipo: PER\n",
      "Apple - Tipo: ORG\n",
      "Trabajamos - Tipo: MISC\n",
      "Acabábamos de presentar - Tipo: MISC\n",
      "Macintosh - Tipo: MISC\n",
      "¿Cómo - Tipo: MISC\n",
      "Bien - Tipo: ORG\n",
      "Apple - Tipo: ORG\n",
      "Al principio las cosas - Tipo: MISC\n",
      "Cuando esto ocurrió - Tipo: MISC\n",
      "Consejo - Tipo: ORG\n",
      "De ese modo - Tipo: MISC\n",
      "Y muy notoriamente fuera - Tipo: MISC\n",
      "Había - Tipo: PER\n",
      "Tenía - Tipo: PER\n",
      "Me reuní - Tipo: MISC\n",
      "David Packard - Tipo: PER\n",
      "Bob Noyce - Tipo: PER\n",
      "Valle - Tipo: LOC\n",
      "Silicon Valley - Tipo: LOC\n",
      "California - Tipo: LOC\n",
      "El revés ocurrido - Tipo: MISC\n",
      "Apple - Tipo: ORG\n",
      "Había - Tipo: PER\n",
      "Y decidí empezar de nuevo - Tipo: MISC\n",
      "Apple - Tipo: ORG\n",
      "Esto me liberó - Tipo: MISC\n",
      "Durante los siguientes cinco años - Tipo: MISC\n",
      "NeXT - Tipo: MISC\n",
      "Pixar y me enamoré - Tipo: MISC\n",
      "Pixar - Tipo: LOC\n",
      "Toy Story - Tipo: MISC\n",
      "En un giro - Tipo: MISC\n",
      "Apple - Tipo: ORG\n",
      "NeXT - Tipo: MISC\n",
      "Yo - Tipo: MISC\n",
      "Apple - Tipo: ORG\n",
      "NeXT - Tipo: MISC\n",
      "Apple - Tipo: ORG\n",
      "Y Laurene - Tipo: MISC\n",
      "Estoy - Tipo: PER\n",
      "Apple - Tipo: ORG\n",
      "En ocasiones la vida te golpea - Tipo: MISC\n",
      "No perdáis la fe - Tipo: MISC\n",
      "Estoy convencido de que lo único - Tipo: MISC\n",
      "Tenéis - Tipo: LOC\n",
      "El trabajo llenará - Tipo: MISC\n",
      "Y la única - Tipo: MISC\n",
      "Si aún no lo habéis encontrado - Tipo: MISC\n",
      "No os rindáis - Tipo: MISC\n",
      "Y - Tipo: MISC\n",
      "Así - Tipo: MISC\n",
      "Y no os rindáis - Tipo: MISC\n",
      "Mi tercera historia - Tipo: MISC\n",
      "Me impresionó - Tipo: MISC\n",
      "“Si - Tipo: MISC\n",
      "¿querría - Tipo: MISC\n",
      "Y siempre que la respuesta - Tipo: MISC\n",
      "“ - Tipo: MISC\n",
      "Recordar mi mortalidad - Tipo: MISC\n",
      "Porque casi todo —las expectativas externas - Tipo: MISC\n",
      "Recordar - Tipo: MISC\n",
      "Ya estás desnudo - Tipo: MISC\n",
      "No hay ninguna razón - Tipo: MISC\n",
      "Me - Tipo: MISC\n",
      "Los médicos me - Tipo: MISC\n",
      "Mi médico me aconsejó - Tipo: MISC\n",
      "Significa intentar - Tipo: MISC\n",
      "Significa despedirte - Tipo: MISC\n",
      "Viví - Tipo: PER\n",
      "Por la tarde me - Tipo: MISC\n",
      "Estaba anestesiado - Tipo: MISC\n",
      "Me operaron - Tipo: MISC\n",
      "Es lo más - Tipo: MISC\n",
      "Después - Tipo: LOC\n",
      "Incluso la gente - Tipo: MISC\n",
      "La muerte es el destino - Tipo: MISC\n",
      "Nadie - Tipo: MISC\n",
      "Y así - Tipo: MISC\n",
      "Es el agente de cambio - Tipo: MISC\n",
      "Elimina - Tipo: PER\n",
      "Ahora - Tipo: MISC\n",
      "Y seréis eliminados - Tipo: MISC\n",
      "Lamento ser tan trágico - Tipo: MISC\n",
      "Vuestro tiempo es limitado - Tipo: MISC\n",
      "No os dejéis - Tipo: MISC\n",
      "No permitáis - Tipo: MISC\n",
      "Y lo más importante - Tipo: MISC\n",
      "Todo lo demás - Tipo: MISC\n",
      "Cuando era joven - Tipo: MISC\n",
      "había - Tipo: PER\n",
      "The Whole Earth Catalog - Tipo: MISC\n",
      "Fue creada por un tipo - Tipo: MISC\n",
      "Steward Brand - Tipo: PER\n",
      "Menlo Park - Tipo: LOC\n",
      "Polaroid - Tipo: ORG\n",
      "Google - Tipo: ORG\n",
      "Google - Tipo: ORG\n",
      "Era idealista - Tipo: MISC\n",
      "Steward - Tipo: PER\n",
      "The Whole Earth Catalog - Tipo: MISC\n",
      "En la contraportada de ese último número - Tipo: MISC\n",
      "El pie de foto decía - Tipo: MISC\n",
      "“Seguid hambrientos - Tipo: MISC\n",
      "Seguid alocados - Tipo: MISC\n",
      "Y yo siempre he - Tipo: MISC\n",
      "Y ahora - Tipo: MISC\n",
      "Seguid hambrientos - Tipo: MISC\n",
      "Seguid alocados - Tipo: MISC\n",
      "Gracias.\n",
      "\n",
      " - Tipo: MISC\n",
      "\n",
      "Dependencias sintácticas y partes del discurso:\n",
      "Discurso - Dependencia: ROOT, Parte del discurso: NOUN\n",
      "de - Dependencia: case, Parte del discurso: ADP\n",
      "Steve - Dependencia: flat, Parte del discurso: PROPN\n",
      "Jobs - Dependencia: flat, Parte del discurso: PROPN\n",
      "en - Dependencia: case, Parte del discurso: ADP\n",
      "Stanford - Dependencia: nmod, Parte del discurso: PROPN\n",
      ". - Dependencia: punct, Parte del discurso: PUNCT\n",
      "\n",
      "\n",
      " - Dependencia: , Parte del discurso: SPACE\n",
      "Me - Dependencia: obj, Parte del discurso: PRON\n",
      "siento - Dependencia: ROOT, Parte del discurso: VERB\n"
     ]
    }
   ],
   "source": [
    "import spacy\n",
    "\n",
    "# Cargar el modelo en español de Spacy\n",
    "nlp = spacy.load('es_core_news_sm')\n",
    "\n",
    "# Cargar el texto del archivo\n",
    "file_path = 'Discurso de Steve Jobs.txt'\n",
    "with open(file_path, 'r', encoding='utf-8') as file:\n",
    "    speech = file.read()\n",
    "\n",
    "# Procesar el texto con Spacy\n",
    "doc = nlp(speech)\n",
    "\n",
    "# Mostrar las entidades nombradas y sus tipos\n",
    "print(\"Entidades Nombradas:\")\n",
    "for ent in doc.ents:\n",
    "    print(f\"{ent.text} - Tipo: {ent.label_}\")\n",
    "\n",
    "# Mostrar las dependencias sintácticas y las partes del discurso\n",
    "print(\"\\nDependencias sintácticas y partes del discurso:\")\n",
    "for token in doc[:10]:  # Mostrar solo los primeros 10 tokens por brevedad\n",
    "    print(f\"{token.text} - Dependencia: {token.dep_}, Parte del discurso: {token.pos_}\")\n"
   ]
  },
  {
   "cell_type": "code",
   "execution_count": null,
   "id": "12ddfae7-2ab9-47e1-a11a-b229c6408967",
   "metadata": {},
   "outputs": [],
   "source": []
  }
 ],
 "metadata": {
  "kernelspec": {
   "display_name": "Python 3",
   "language": "python",
   "name": "python3"
  },
  "language_info": {
   "codemirror_mode": {
    "name": "ipython",
    "version": 3
   },
   "file_extension": ".py",
   "mimetype": "text/x-python",
   "name": "python",
   "nbconvert_exporter": "python",
   "pygments_lexer": "ipython3",
   "version": "3.8.18"
  }
 },
 "nbformat": 4,
 "nbformat_minor": 5
}

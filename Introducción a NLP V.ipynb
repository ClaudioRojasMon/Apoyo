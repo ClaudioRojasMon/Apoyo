{
 "cells": [
  {
   "cell_type": "markdown",
   "id": "508317ec-9986-44a8-8da1-2e5b336dc76e",
   "metadata": {},
   "source": [
    "# Procesamiento Lenguaje Natural (NLP) V"
   ]
  },
  {
   "cell_type": "markdown",
   "id": "9ed5aa09-c7e2-4101-ba38-c27faf129389",
   "metadata": {},
   "source": [
    "## Modelado y Análisis"
   ]
  },
  {
   "cell_type": "markdown",
   "id": "7f4509a6-48de-4dac-b0f9-c307d140bdb8",
   "metadata": {},
   "source": [
    "### Análisis de Sentimiento"
   ]
  },
  {
   "cell_type": "markdown",
   "id": "cbf940a7-f3b9-40e2-9a36-d80b5621ae76",
   "metadata": {},
   "source": [
    "```{admonition} ¿Qué es el Análisis de Sentimiento?\n",
    "<div align=\"justify\">Es una técnica de procesamiento de lenguaje natural que consiste en determinar la actitud o la emoción expresada en un texto. Puede ser positiva, negativa o neutra, y se aplica ampliamente en redes sociales, comentarios de productos, reseñas, etc.</div>\n",
    "```"
   ]
  },
  {
   "cell_type": "markdown",
   "id": "00a46842-df3d-40c5-ad98-dd5f23d33e5d",
   "metadata": {},
   "source": [
    "#### Polaridad y Subjetividad"
   ]
  },
  {
   "cell_type": "markdown",
   "id": "692d800d-2474-4930-a202-8499766a0c45",
   "metadata": {},
   "source": [
    "<div align=\"justify\">Ambas son métricas utilidad en el análisis de sentimiento y que se aplican al texto que se está analizando.</div>\n",
    "\n",
    "- <div align=\"justify\"><strong>Polaridad (polarity)</strong>: Indica la medida del sentimiento expresado en el texto. Puede variar desde -1 (sentimiento negativo) hasta +1 (sentimiento positivo). Una polaridad de 0.0 indica neutralidad, es decir, que el texto no expresa un sentimiento claramente positivo ni negativo.</div>\n",
    "\n",
    "- <div align=\"justify\"><strong>Subjetividad (subjectivity)</strong>: Indica cuánto es subjetivo el texto, es decir, si es más objetivo (0.0) o más subjetivo (1.0).Una subjetividad de 0.0 significa que el texto es muy objetivo, mientras que 1.0 significa que es muy subjetivo.</div>"
   ]
  },
  {
   "cell_type": "markdown",
   "id": "db70dd4c-864c-4f3a-a79b-ad7b90574ae4",
   "metadata": {},
   "source": [
    "#### Ejemplo de código de Análisis de Sentimiento"
   ]
  },
  {
   "cell_type": "markdown",
   "id": "b9174ce2-4046-4615-bde8-d5290b38bec1",
   "metadata": {},
   "source": [
    "<div align=\"justify\">En este caso se utiliza una misma frase pero tanto en español o en inglés para ver como responde el algoritmo.</div>"
   ]
  },
  {
   "cell_type": "markdown",
   "id": "8e0f8ee4-7f33-4e06-ac6c-2e52cfdf4a16",
   "metadata": {},
   "source": [
    "##### Ejemplo 1: Frase en español"
   ]
  },
  {
   "cell_type": "code",
   "execution_count": 16,
   "id": "8092dfd7-cf7e-4d24-b763-e7f26640f55c",
   "metadata": {},
   "outputs": [
    {
     "name": "stdout",
     "output_type": "stream",
     "text": [
      "Texto: Steve Jobs dio un emotivo discurso en la Universidad de Stanford.\n",
      "Sentimiento: Sentiment(polarity=0.0, subjectivity=0.0)\n"
     ]
    }
   ],
   "source": [
    "from textblob import TextBlob\n",
    "\n",
    "# Texto de ejemplo\n",
    "texto = \"Steve Jobs dio un emotivo discurso en la Universidad de Stanford.\"\n",
    "\n",
    "# Crear un objeto TextBlob\n",
    "blob = TextBlob(texto)\n",
    "\n",
    "# Analizar el sentimiento\n",
    "sentimiento = blob.sentiment\n",
    "\n",
    "# Mostrar el resultado\n",
    "print(f\"Texto: {texto}\")\n",
    "print(f\"Sentimiento: {sentimiento}\")"
   ]
  },
  {
   "cell_type": "code",
   "execution_count": 17,
   "id": "0c4dba6e-350d-4d7f-9725-cd52bbb2f6e4",
   "metadata": {},
   "outputs": [
    {
     "data": {
      "image/png": "[encoded data removed]",
      "text/plain": [
       "<Figure size 576x360 with 1 Axes>"
      ]
     },
     "metadata": {
      "needs_background": "light"
     },
     "output_type": "display_data"
    }
   ],
   "source": [
    "import matplotlib.pyplot as plt\n",
    "\n",
    "# Crear un gráfico de barras para mostrar la polaridad y subjetividad\n",
    "labels = ['Polaridad', 'Subjetividad']\n",
    "values = [sentimiento.polarity, sentimiento.subjectivity]\n",
    "colors = ['blue', 'green']\n",
    "\n",
    "plt.figure(figsize=(8, 5))\n",
    "plt.bar(labels, values, color=colors)\n",
    "plt.title('Análisis de Sentimiento del Discurso de Steve Jobs')\n",
    "plt.xlabel('Aspectos del Sentimiento')\n",
    "plt.ylabel('Valor')\n",
    "plt.ylim(-1, 1)\n",
    "plt.grid(True)\n",
    "plt.show()"
   ]
  },
  {
   "cell_type": "markdown",
   "id": "464b0cbd-dae6-4c07-b172-e56e19de36b6",
   "metadata": {},
   "source": [
    "##### Ejemplo 2: Frase en inglés"
   ]
  },
  {
   "cell_type": "code",
   "execution_count": 14,
   "id": "620a1c1d-0cb0-4c9e-a55c-0d5bf8b28cd8",
   "metadata": {},
   "outputs": [
    {
     "name": "stdout",
     "output_type": "stream",
     "text": [
      "Texto: Steve Jobs gave an emotional speech at Stanford University.\n",
      "Sentimiento: Sentiment(polarity=0.0, subjectivity=0.65)\n"
     ]
    }
   ],
   "source": [
    "from textblob import TextBlob\n",
    "\n",
    "# Texto de ejemplo\n",
    "texto = \"Steve Jobs gave an emotional speech at Stanford University.\"\n",
    "\n",
    "# Crear un objeto TextBlob\n",
    "blob = TextBlob(texto)\n",
    "\n",
    "# Analizar el sentimiento\n",
    "sentimiento = blob.sentiment\n",
    "\n",
    "# Mostrar el resultado\n",
    "print(f\"Texto: {texto}\")\n",
    "print(f\"Sentimiento: {sentimiento}\")\n"
   ]
  },
  {
   "cell_type": "code",
   "execution_count": 15,
   "id": "20d03af9-ffb6-41e5-927f-daf07a86accf",
   "metadata": {},
   "outputs": [
    {
     "data": {
      "image/png": "[encoded data removed]",
      "text/plain": [
       "<Figure size 576x360 with 1 Axes>"
      ]
     },
     "metadata": {
      "needs_background": "light"
     },
     "output_type": "display_data"
    }
   ],
   "source": [
    "import matplotlib.pyplot as plt\n",
    "\n",
    "# Crear un gráfico de barras para mostrar la polaridad y subjetividad\n",
    "labels = ['Polaridad', 'Subjetividad']\n",
    "values = [sentimiento.polarity, sentimiento.subjectivity]\n",
    "colors = ['blue', 'green']\n",
    "\n",
    "plt.figure(figsize=(8, 5))\n",
    "plt.bar(labels, values, color=colors)\n",
    "plt.title('Análisis de Sentimiento del Discurso de Steve Jobs')\n",
    "plt.xlabel('Aspectos del Sentimiento')\n",
    "plt.ylabel('Valor')\n",
    "plt.ylim(-1, 1)\n",
    "plt.grid(True)\n",
    "plt.show()\n"
   ]
  },
  {
   "cell_type": "markdown",
   "id": "7600588f-61d0-4914-8a1f-6151bd3a4698",
   "metadata": {},
   "source": [
    "##### Ejemplo 3: Análisis de texto completo en español"
   ]
  },
  {
   "cell_type": "code",
   "execution_count": 18,
   "id": "bee0d7ca-b4bd-4a7a-87b2-0b1beca4a823",
   "metadata": {},
   "outputs": [
    {
     "name": "stdout",
     "output_type": "stream",
     "text": [
      "Frases: Discurso de Steve Jobs\n",
      "Polaridad: 0.0, Subjetividad: 0.0\n",
      "--------------------------------------------------\n",
      "Frases: txt\n",
      "Polaridad: 0.0, Subjetividad: 0.0\n",
      "--------------------------------------------------\n"
     ]
    }
   ],
   "source": [
    "from textblob import TextBlob\n",
    "\n",
    "# Texto de ejemplo (discurso completo de Steve Jobs)\n",
    "discurso_completo = \"Discurso de Steve Jobs.txt\"\n",
    "\n",
    "# Dividir el texto en frases\n",
    "frases = discurso_completo.split('.')\n",
    "\n",
    "# Realizar análisis de sentimiento para cada frase\n",
    "for frase in frases:\n",
    "    if frase.strip():  # Para evitar procesar frases vacías\n",
    "        blob = TextBlob(frase)\n",
    "        sentimiento = blob.sentiment\n",
    "        print(f\"Frases: {frase.strip()}\")\n",
    "        print(f\"Polaridad: {sentimiento.polarity}, Subjetividad: {sentimiento.subjectivity}\")\n",
    "        print(\"-\" * 50)\n"
   ]
  },
  {
   "cell_type": "markdown",
   "id": "472f35fd-e949-4246-9c2b-fca54cd24d39",
   "metadata": {},
   "source": [
    "##### Ejemplo 3: Análisis de texto completo en inglés"
   ]
  },
  {
   "cell_type": "code",
   "execution_count": 22,
   "id": "38583b8d-bad1-4dfa-9167-f8aec42d2fd4",
   "metadata": {},
   "outputs": [
    {
     "name": "stdout",
     "output_type": "stream",
     "text": [
      "\n",
      "\n",
      "I am honored to be with you today at your commencement from one of the finest universities in the world. I never graduated from college. Truth be told, this is the closest I’ve ever gotten to a coll\n"
     ]
    }
   ],
   "source": [
    "# Abre el archivo en modo lectura\n",
    "with open('Speech Steve Jobs.txt', 'r', encoding='utf-8') as file:\n",
    "    speech_text = file.read()\n",
    "\n",
    "# Verifica que se haya cargado correctamente\n",
    "print(speech_text[:200])  # Muestra los primeros 200 caracteres como prueba\n"
   ]
  },
  {
   "cell_type": "code",
   "execution_count": 25,
   "id": "7644edb0-fe4f-4977-b64e-05678d06ad2e",
   "metadata": {},
   "outputs": [
    {
     "name": "stdout",
     "output_type": "stream",
     "text": [
      "Párrafo 1 - Polaridad: 0.00\n",
      "\n",
      "--------------------------------------------------\n",
      "Párrafo 2 - Polaridad: 0.00\n",
      "I am honored to be with you today at your commencement from one of the finest universities in the world. I never graduated from college. Truth be told, this is the closest I’ve ever gotten to a college graduation. Today I want to tell you three stories from my life. That’s it. No big deal. Just three stories.\n",
      "--------------------------------------------------\n",
      "Párrafo 3 - Polaridad: 0.25\n",
      "The first story is about connecting the dots.\n",
      "--------------------------------------------------\n",
      "Párrafo 4 - Polaridad: 0.23\n",
      "I dropped out of Reed College after the first 6 months, but then stayed around as a drop-in for another 18 months or so before I really quit. So why did I drop out?\n",
      "--------------------------------------------------\n",
      "Párrafo 5 - Polaridad: 0.07\n",
      "It started before I was born. My biological mother was a young, unwed college graduate student, and she decided to put me up for adoption. She felt very strongly that I should be adopted by college graduates, so everything was all set for me to be adopted at birth by a lawyer and his wife. Except that when I popped out they decided at the last minute that they really wanted a girl. So my parents, who were on a waiting list, got a call in the middle of the night asking: “We have an unexpected baby boy; do you want him?” They said: “Of course.” My biological mother later found out that my mother had never graduated from college and that my father had never graduated from high school. She refused to sign the final adoption papers. She only relented a few months later when my parents promised that I would someday go to college.\n",
      "--------------------------------------------------\n",
      "Párrafo 6 - Polaridad: 0.08\n",
      "And 17 years later I did go to college. But I naively chose a college that was almost as expensive as Stanford, and all of my working-class parents’ savings were being spent on my college tuition. After six months, I couldn’t see the value in it. I had no idea what I wanted to do with my life and no idea how college was going to help me figure it out. And here I was spending all of the money my parents had saved their entire life. So I decided to drop out and trust that it would all work out OK. It was pretty scary at the time, but looking back it was one of the best decisions I ever made. The minute I dropped out I could stop taking the required classes that didn’t interest me, and begin dropping in on the ones that looked interesting.\n",
      "--------------------------------------------------\n",
      "Párrafo 7 - Polaridad: 0.37\n",
      "It wasn’t all romantic. I didn’t have a dorm room, so I slept on the floor in friends’ rooms, I returned Coke bottles for the 5¢ deposits to buy food with, and I would walk the 7 miles across town every Sunday night to get one good meal a week at the Hare Krishna temple. I loved it. And much of what I stumbled into by following my curiosity and intuition turned out to be priceless later on. Let me give you one example:\n",
      "--------------------------------------------------\n",
      "Párrafo 8 - Polaridad: 0.48\n",
      "Reed College at that time offered perhaps the best calligraphy instruction in the country. Throughout the campus every poster, every label on every drawer, was beautifully hand calligraphed. Because I had dropped out and didn’t have to take the normal classes, I decided to take a calligraphy class to learn how to do this. I learned about serif and sans serif typefaces, about varying the amount of space between different letter combinations, about what makes great typography great. It was beautiful, historical, artistically subtle in a way that science can’t capture, and I found it fascinating.\n",
      "--------------------------------------------------\n",
      "Párrafo 9 - Polaridad: 0.12\n",
      "None of this had even a hope of any practical application in my life. But 10 years later, when we were designing the first Macintosh computer, it all came back to me. And we designed it all into the Mac. It was the first computer with beautiful typography. If I had never dropped in on that single course in college, the Mac would have never had multiple typefaces or proportionally spaced fonts. And since Windows just copied the Mac, it’s likely that no personal computer would have them. If I had never dropped out, I would have never dropped in on this calligraphy class, and personal computers might not have the wonderful typography that they do. Of course it was impossible to connect the dots looking forward when I was in college. But it was very, very clear looking backward 10 years later.\n",
      "--------------------------------------------------\n",
      "Párrafo 10 - Polaridad: -0.05\n",
      "Again, you can’t connect the dots looking forward; you can only connect them looking backward. So you have to trust that the dots will somehow connect in your future. You have to trust in something — your gut, destiny, life, karma, whatever. This approach has never let me down, and it has made all the difference in my life.\n",
      "--------------------------------------------------\n",
      "Párrafo 11 - Polaridad: 0.25\n",
      "My second story is about love and loss.\n",
      "--------------------------------------------------\n",
      "Párrafo 12 - Polaridad: 0.09\n",
      "I was lucky — I found what I loved to do early in life. Woz and I started Apple in my parents’ garage when I was 20. We worked hard, and in 10 years Apple had grown from just the two of us in a garage into a $2 billion company with over 4,000 employees. We had just released our finest creation — the Macintosh — a year earlier, and I had just turned 30. And then I got fired. How can you get fired from a company you started? Well, as Apple grew we hired someone who I thought was very talented to run the company with me, and for the first year or so things went well. But then our visions of the future began to diverge and eventually we had a falling out. When we did, our Board of Directors sided with him. So at 30 I was out. And very publicly out. What had been the focus of my entire adult life was gone, and it was devastating.\n",
      "--------------------------------------------------\n",
      "Párrafo 13 - Polaridad: -0.04\n",
      "I really didn’t know what to do for a few months. I felt that I had let the previous generation of entrepreneurs down — that I had dropped the baton as it was being passed to me. I met with David Packard and Bob Noyce and tried to apologize for screwing up so badly. I was a very public failure, and I even thought about running away from the valley. But something slowly began to dawn on me — I still loved what I did. The turn of events at Apple had not changed that one bit. I had been rejected, but I was still in love. And so I decided to start over.\n",
      "--------------------------------------------------\n",
      "Párrafo 14 - Polaridad: 0.51\n",
      "I didn’t see it then, but it turned out that getting fired from Apple was the best thing that could have ever happened to me. The heaviness of being successful was replaced by the lightness of being a beginner again, less sure about everything. It freed me to enter one of the most creative periods of my life.\n",
      "--------------------------------------------------\n",
      "Párrafo 15 - Polaridad: 0.34\n",
      "During the next five years, I started a company named NeXT, another company named Pixar, and fell in love with an amazing woman who would become my wife. Pixar went on to create the world’s first computer animated feature film, Toy Story, and is now the most successful animation studio in the world. In a remarkable turn of events, Apple bought NeXT, I returned to Apple, and the technology we developed at NeXT is at the heart of Apple’s current renaissance. And Laurene and I have a wonderful family together.\n",
      "--------------------------------------------------\n",
      "Párrafo 16 - Polaridad: 0.35\n",
      "I’m pretty sure none of this would have happened if I hadn’t been fired from Apple. It was awful tasting medicine, but I guess the patient needed it. Sometimes life hits you in the head with a brick. Don’t lose faith. I’m convinced that the only thing that kept me going was that I loved what I did. You’ve got to find what you love. And that is as true for your work as it is for your lovers. Your work is going to fill a large part of your life, and the only way to be truly satisfied is to do what you believe is great work. And the only way to do great work is to love what you do. If you haven’t found it yet, keep looking. Don’t settle. As with all matters of the heart, you’ll know when you find it. And, like any great relationship, it just gets better and better as the years roll on. So keep looking until you find it. Don’t settle.\n",
      "--------------------------------------------------\n",
      "Párrafo 17 - Polaridad: 0.00\n",
      "My third story is about death.\n",
      "--------------------------------------------------\n",
      "Párrafo 18 - Polaridad: 0.17\n",
      "When I was 17, I read a quote that went something like: “If you live each day as if it was your last, someday you’ll most certainly be right.” It made an impression on me, and since then, for the past 33 years, I have looked in the mirror every morning and asked myself: “If today were the last day of my life, would I want to do what I am about to do today?” And whenever the answer has been “No” for too many days in a row, I know I need to change something.\n",
      "--------------------------------------------------\n",
      "Párrafo 19 - Polaridad: 0.18\n",
      "Remembering that I’ll be dead soon is the most important tool I’ve ever encountered to help me make the big choices in life. Because almost everything — all external expectations, all pride, all fear of embarrassment or failure — these things just fall away in the face of death, leaving only what is truly important. Remembering that you are going to die is the best way I know to avoid the trap of thinking you have something to lose. You are already naked. There is no reason not to follow your heart.\n",
      "--------------------------------------------------\n",
      "Párrafo 20 - Polaridad: 0.08\n",
      "About a year ago I was diagnosed with cancer. I had a scan at 7:30 in the morning, and it clearly showed a tumor on my pancreas. I didn’t even know what a pancreas was. The doctors told me this was almost certainly a type of cancer that is incurable, and that I should expect to live no longer than three to six months. My doctor advised me to go home and get my affairs in order, which is doctor’s code for prepare to die. It means to try to tell your kids everything you thought you’d have the next 10 years to tell them in just a few months. It means to make sure everything is buttoned up so that it will be as easy as possible for your family. It means to say your goodbyes.\n",
      "--------------------------------------------------\n",
      "Párrafo 21 - Polaridad: 0.04\n",
      "I lived with that diagnosis all day. Later that evening I had a biopsy, where they stuck an endoscope down my throat, through my stomach and into my intestines, put a needle into my pancreas and got a few cells from the tumor. I was sedated, but my wife, who was there, told me that when they viewed the cells under a microscope the doctors started crying because it turned out to be a very rare form of pancreatic cancer that is curable with surgery. I had the surgery and I’m fine now.\n",
      "--------------------------------------------------\n",
      "Párrafo 22 - Polaridad: 0.28\n",
      "This was the closest I’ve been to facing death, and I hope it’s the closest I get for a few more decades. Having lived through it, I can now say this to you with a bit more certainty than when death was a useful but purely intellectual concept:\n",
      "--------------------------------------------------\n",
      "Párrafo 23 - Polaridad: 0.10\n",
      "No one wants to die. Even people who want to go to heaven don’t want to die to get there. And yet death is the destination we all share. No one has ever escaped it. And that is as it should be, because Death is very likely the single best invention of Life. It is Life’s change agent. It clears out the old to make way for the new. Right now the new is you, but someday not too long from now, you will gradually become the old and be cleared away. Sorry to be so dramatic, but it is quite true.\n",
      "--------------------------------------------------\n",
      "Párrafo 24 - Polaridad: 0.07\n",
      "Your time is limited, so don’t waste it living someone else’s life. Don’t be trapped by dogma — which is living with the results of other people’s thinking. Don’t let the noise of others’ opinions drown out your own inner voice. And most important, have the courage to follow your heart and intuition. They somehow already know what you truly want to become. Everything else is secondary.\n",
      "--------------------------------------------------\n",
      "Párrafo 25 - Polaridad: 0.22\n",
      "When I was young, there was an amazing publication called The Whole Earth Catalog, which was one of the bibles of my generation. It was created by a fellow named Stewart Brand not far from here in Menlo Park, and he brought it to life with his poetic touch. This was in the late 1960s, before personal computers and desktop publishing, so it was all made with typewriters, scissors and Polaroid cameras. It was sort of like Google in paperback form, 35 years before Google came along: It was idealistic, and overflowing with neat tools and great notions.\n",
      "--------------------------------------------------\n",
      "Párrafo 26 - Polaridad: 0.17\n",
      "Stewart and his team put out several issues of The Whole Earth Catalog, and then when it had run its course, they put out a final issue. It was the mid-1970s, and I was your age. On the back cover of their final issue was a photograph of an early morning country road, the kind you might find yourself hitchhiking on if you were so adventurous. Beneath it were the words: “Stay Hungry. Stay Foolish.” It was their farewell message as they signed off. Stay Hungry. Stay Foolish. And I have always wished that for myself. And now, as you graduate to begin anew, I wish that for you.\n",
      "--------------------------------------------------\n",
      "Párrafo 27 - Polaridad: 0.00\n",
      "Stay Hungry. Stay Foolish.\n",
      "--------------------------------------------------\n",
      "Párrafo 28 - Polaridad: 0.26\n",
      "Thank you all very much.\n",
      "--------------------------------------------------\n",
      "Párrafo 29 - Polaridad: 0.00\n",
      "\n",
      "--------------------------------------------------\n"
     ]
    }
   ],
   "source": [
    "from textblob import TextBlob\n",
    "\n",
    "# Cargar el texto del archivo\n",
    "with open('Speech Steve Jobs.txt', 'r', encoding='utf-8') as file:\n",
    "    speech_text = file.read()\n",
    "\n",
    "# Dividir el texto en párrafos\n",
    "paragraphs = speech_text.split('\\n\\n')  # Suponiendo que los párrafos están separados por dos saltos de línea\n",
    "\n",
    "# Analizar la polaridad de cada párrafo\n",
    "for i, para in enumerate(paragraphs):\n",
    "    blob = TextBlob(para)\n",
    "    polarity = blob.sentiment.polarity\n",
    "    print(f\"Párrafo {i+1} - Polaridad: {polarity:.2f}\")\n",
    "    print(para)  # Imprimir el párrafo para referencia\n",
    "    print(\"-\" * 50)  # Separador visual entre párrafos\n"
   ]
  },
  {
   "cell_type": "markdown",
   "id": "33ad856e-bd08-4ca1-a242-e089043a2e74",
   "metadata": {},
   "source": [
    "### Clasificación de Textos"
   ]
  },
  {
   "cell_type": "markdown",
   "id": "d748e511-d12d-4a30-9f5f-75280d9dc707",
   "metadata": {},
   "source": [
    "```{admonition} ¿Qué es la Clasificación de textos?\n",
    "<div align=\"justify\">Implica asignar categorías o etiquetas a fragmentos de texto basados en su contenido. Se utiliza en tareas como la detección de spam, el análisis de opiniones, la clasificación de noticias, entre otros.</div>\n",
    "```"
   ]
  },
  {
   "cell_type": "markdown",
   "id": "817aa174-b8da-43a8-8ae2-45855d23143b",
   "metadata": {},
   "source": [
    "#### Ejemplo de código para Clasificación de Texto"
   ]
  },
  {
   "cell_type": "code",
   "execution_count": 3,
   "id": "6a0dc384-139e-47fd-afce-48c47a748874",
   "metadata": {},
   "outputs": [
    {
     "name": "stdout",
     "output_type": "stream",
     "text": [
      "Texto: El producto superó mis expectativas.\n",
      "Categoría: positivo\n"
     ]
    }
   ],
   "source": [
    "from sklearn.feature_extraction.text import TfidfVectorizer\n",
    "from sklearn.naive_bayes import MultinomialNB\n",
    "from sklearn.pipeline import make_pipeline\n",
    "\n",
    "# Datos de ejemplo (textos y categorías)\n",
    "textos = [\"Este producto es genial.\", \"No me gustó para nada este producto.\", \"Muy útil y fácil de usar.\"]\n",
    "categorias = [\"positivo\", \"negativo\", \"positivo\"]\n",
    "\n",
    "# Crear el modelo de clasificación\n",
    "modelo = make_pipeline(TfidfVectorizer(), MultinomialNB())\n",
    "\n",
    "# Entrenar el modelo\n",
    "modelo.fit(textos, categorias)\n",
    "\n",
    "# Predecir categorías para nuevos textos\n",
    "nuevo_texto = [\"El producto superó mis expectativas.\"]\n",
    "prediccion = modelo.predict(nuevo_texto)\n",
    "\n",
    "# Mostrar resultados\n",
    "for texto, categoria in zip(nuevo_texto, prediccion):\n",
    "    print(f\"Texto: {texto}\")\n",
    "    print(f\"Categoría: {categoria}\")\n"
   ]
  },
  {
   "cell_type": "markdown",
   "id": "0c0da044-35d9-4415-afd5-7f9b4b91f13f",
   "metadata": {},
   "source": [
    "### Generación de Texto"
   ]
  },
  {
   "cell_type": "markdown",
   "id": "6b3cccf3-9ac8-400f-b2e2-4e3bfb204a2d",
   "metadata": {},
   "source": [
    "```{admonition} ¿Qué es la Generación de texto?\n",
    "<div align=\"justify\">implica crear nuevos fragmentos de texto basados en el aprendizaje de un corpus existente. Se utiliza en la creación de chatbots, resúmenes automáticos, y generación de contenido, entre otros.</div>\n",
    "```"
   ]
  },
  {
   "cell_type": "markdown",
   "id": "4da80f25-3b16-4f36-8a02-b5baf720469b",
   "metadata": {},
   "source": [
    "#### Ejemplo de código de Generación de Texto"
   ]
  },
  {
   "cell_type": "code",
   "execution_count": 11,
   "id": "b858c582-4d80-446a-a6b7-8376edebcf7b",
   "metadata": {},
   "outputs": [
    {
     "name": "stdout",
     "output_type": "stream",
     "text": [
      "Texto generado: Su enfoque en la innovación tecnológica y el iPad han cambiado el mundo.\n"
     ]
    },
    {
     "name": "stderr",
     "output_type": "stream",
     "text": [
      "[nltk_data] Downloading package punkt to\n",
      "[nltk_data]     /Users/claudiorojas/nltk_data...\n",
      "[nltk_data]   Package punkt is already up-to-date!\n"
     ]
    }
   ],
   "source": [
    "import markovify\n",
    "import nltk\n",
    "\n",
    "# Descargar el tokenizador de oraciones de NLTK si no lo tienes descargado\n",
    "nltk.download('punkt')\n",
    "\n",
    "# Texto de ejemplo más extenso (corpus)\n",
    "texto = \"\"\"\n",
    "Steve Jobs fue un visionario en la industria tecnológica. Fundó Apple Inc. y revolucionó la forma en que interactuamos con la tecnología. Sus productos como el iPhone y el iPad han cambiado el mundo. Steve Jobs dejó un legado duradero en la innovación tecnológica y el diseño de productos. Su enfoque en la simplicidad y la estética influyó profundamente en la industria y en la cultura popular.\n",
    "\"\"\"\n",
    "\n",
    "# Dividir el texto en oraciones utilizando NLTK\n",
    "oraciones = nltk.sent_tokenize(texto)\n",
    "\n",
    "# Crear un modelo de cadena de Markov\n",
    "modelo = markovify.Text(oraciones)\n",
    "\n",
    "# Generar texto nuevo\n",
    "texto_generado = modelo.make_sentence()\n",
    "\n",
    "# Mostrar el texto generado\n",
    "print(f\"Texto generado: {texto_generado}\")\n"
   ]
  }
 ],
 "metadata": {
  "kernelspec": {
   "display_name": "Python 3",
   "language": "python",
   "name": "python3"
  },
  "language_info": {
   "codemirror_mode": {
    "name": "ipython",
    "version": 3
   },
   "file_extension": ".py",
   "mimetype": "text/x-python",
   "name": "python",
   "nbconvert_exporter": "python",
   "pygments_lexer": "ipython3",
   "version": "3.8.18"
  }
 },
 "nbformat": 4,
 "nbformat_minor": 5
}

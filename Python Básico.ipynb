{
 "cells": [
  {
   "cell_type": "markdown",
   "id": "29a68ad6-d82d-4f54-bf88-592f081d825e",
   "metadata": {},
   "source": [
    "# Introducción a Python"
   ]
  },
  {
   "cell_type": "markdown",
   "id": "7040b23a-f712-4954-9188-ee4d5b71b93d",
   "metadata": {},
   "source": [
    "## Mi Primer Código"
   ]
  },
  {
   "cell_type": "markdown",
   "id": "c43e6a79-c251-4855-848d-5a1c669ca12b",
   "metadata": {},
   "source": [
    "```{admonition} Hello World \n",
    "<div align=\"justify\">Uno de los primeros códigos escritos por los programadores fue el texto <strong>“¡Hola mundo!”</strong>. Desde la serie estadounidense “Mr. Robot”, esta simple pero enigmática frase ha alcanzado el estatus de ritual. En la comunidad de programadores, ha sido un activo cultural sólido durante mucho tiempo.En pocas palabras, un programa Hello World es un simple código cuya tarea es emitir el texto <strong>“¡Hello World!”</strong> o <strong>“¡Hola mundo!”</strong>. No hay nada más fácil que crear un programa Hello World y ver uno mismo el resultado al instante. </div>\n",
    "```"
   ]
  },
  {
   "cell_type": "code",
   "execution_count": 4,
   "id": "dff102be",
   "metadata": {},
   "outputs": [
    {
     "name": "stdout",
     "output_type": "stream",
     "text": [
      "hola mundo\n",
      "Hola Mundo\n",
      "Hello World\n",
      "hello world\n"
     ]
    }
   ],
   "source": [
    "print(\"hola mundo\")\n",
    "print(\"Hola Mundo\")\n",
    "print(\"Hello World\")\n",
    "print(\"hello world\")"
   ]
  },
  {
   "cell_type": "markdown",
   "id": "f1343484-c49d-4f71-b84a-105f5a165f88",
   "metadata": {},
   "source": [
    "::::{grid}\n",
    ":gutter: 3\n",
    "\n",
    ":::{grid-item-card} **C++!**\n",
    "#include <iostream>\n",
    "int main()\n",
    "{\n",
    "    std::cout << \"¡Hola mundo!\" << std::endl;\n",
    "}\n",
    ":::\n",
    "\n",
    ":::{grid-item-card} **JavaScript!**\n",
    "document.write(\"¡Hola mundo!\");\n",
    ":::\n",
    "\n",
    ":::{grid-item-card} **SQL!**\n",
    "SELECT '¡Hola mundo!' AS message;\n",
    ":::\n",
    "::::"
   ]
  },
  {
   "cell_type": "markdown",
   "id": "45bf1f89-00c0-4306-9f76-6c40aad4dc0a",
   "metadata": {},
   "source": [
    "## Operaciones Aritméticas"
   ]
  },
  {
   "cell_type": "markdown",
   "id": "b87da0a8-6329-467f-beb8-5c96def1f5e7",
   "metadata": {},
   "source": [
    "```{admonition} ¿Qué son los operadores aritméticos?\n",
    "<div align=\"justify\">Los <strong>operadores aritméticos</strong> o <strong>arithmetic operators</strong> son los más comunes que nos podemos encontrar, y nos permiten realizar operaciones aritméticas sencillas, como pueden ser la suma, resta o exponente.</div>\n",
    "```"
   ]
  },
  {
   "cell_type": "code",
   "execution_count": 2,
   "id": "65407038",
   "metadata": {},
   "outputs": [],
   "source": [
    "x= 10\n",
    "y= 20"
   ]
  },
  {
   "cell_type": "code",
   "execution_count": 2,
   "id": "d0788253",
   "metadata": {},
   "outputs": [
    {
     "data": {
      "text/plain": [
       "30"
      ]
     },
     "execution_count": 2,
     "metadata": {},
     "output_type": "execute_result"
    }
   ],
   "source": [
    "x+y"
   ]
  },
  {
   "cell_type": "markdown",
   "id": "dc1984eb",
   "metadata": {},
   "source": [
    "- **Módulo Operador(%)**: devuelve el resto de dividir el operador izquierdo por el operador derecho. Se utiliza para obtener el resto de una división. Por ejemplo, cuando divides 10 en 3, el resto es 1. Si dividieras 64 por 5, el resto sería 4. "
   ]
  },
  {
   "cell_type": "code",
   "execution_count": 5,
   "id": "577cc1de",
   "metadata": {},
   "outputs": [
    {
     "data": {
      "text/plain": [
       "4"
      ]
     },
     "execution_count": 5,
     "metadata": {},
     "output_type": "execute_result"
    }
   ],
   "source": [
    "64%5"
   ]
  },
  {
   "cell_type": "code",
   "execution_count": 6,
   "id": "ab75eed3",
   "metadata": {},
   "outputs": [
    {
     "data": {
      "text/plain": [
       "1"
      ]
     },
     "execution_count": 6,
     "metadata": {},
     "output_type": "execute_result"
    }
   ],
   "source": [
    "9%2"
   ]
  },
  {
   "cell_type": "markdown",
   "id": "5413ea4a",
   "metadata": {},
   "source": [
    "- **Exponencial**: significa el operrador de potencia: \n",
    "3**2 es \"10 a la potencia de 3\" que es 1000. Aqui la base es 10 y el exponente es 3."
   ]
  },
  {
   "cell_type": "code",
   "execution_count": 7,
   "id": "9e5ece1d",
   "metadata": {},
   "outputs": [
    {
     "data": {
      "text/plain": [
       "9"
      ]
     },
     "execution_count": 7,
     "metadata": {},
     "output_type": "execute_result"
    }
   ],
   "source": [
    "3**2"
   ]
  },
  {
   "cell_type": "code",
   "execution_count": 8,
   "id": "f60a5249",
   "metadata": {},
   "outputs": [
    {
     "data": {
      "text/plain": [
       "64"
      ]
     },
     "execution_count": 8,
     "metadata": {},
     "output_type": "execute_result"
    }
   ],
   "source": [
    "4**3"
   ]
  },
  {
   "cell_type": "code",
   "execution_count": 9,
   "id": "923071ca",
   "metadata": {},
   "outputs": [
    {
     "data": {
      "text/plain": [
       "86736173798840354720596224069595336914062500000000000000000000"
      ]
     },
     "execution_count": 9,
     "metadata": {},
     "output_type": "execute_result"
    }
   ],
   "source": [
    "1250**20"
   ]
  },
  {
   "cell_type": "markdown",
   "id": "b149ec3f",
   "metadata": {},
   "source": [
    "- **Cociente**:\n",
    "El // se llama operador Floor Division o Cociente en Python. para comprender la división de pisos, primero debe comprender  el piso de un número real. El piso de un número reaol es el enteero más grande que es menor ao igual que es número. Por ejemplo, el piso de 4.5 es 4 y el piso de 2.4 es 2. \n",
    "\n",
    "En el caso de los números negativos el psio de -4.5 es -5 y el piso dem -2.4 es -3. \n",
    "\n"
   ]
  },
  {
   "cell_type": "code",
   "execution_count": 3,
   "id": "e31f7393",
   "metadata": {},
   "outputs": [
    {
     "data": {
      "text/plain": [
       "4"
      ]
     },
     "execution_count": 3,
     "metadata": {},
     "output_type": "execute_result"
    }
   ],
   "source": [
    "9//2"
   ]
  },
  {
   "cell_type": "code",
   "execution_count": 4,
   "id": "d19f76ea",
   "metadata": {},
   "outputs": [
    {
     "data": {
      "text/plain": [
       "-5"
      ]
     },
     "execution_count": 4,
     "metadata": {},
     "output_type": "execute_result"
    }
   ],
   "source": [
    "-9//2"
   ]
  },
  {
   "cell_type": "code",
   "execution_count": 5,
   "id": "6c80fe3d",
   "metadata": {},
   "outputs": [
    {
     "data": {
      "text/plain": [
       "4"
      ]
     },
     "execution_count": 5,
     "metadata": {},
     "output_type": "execute_result"
    }
   ],
   "source": [
    "-9//-2"
   ]
  },
  {
   "cell_type": "markdown",
   "id": "cbfa033c",
   "metadata": {},
   "source": [
    "## Valores (Values)"
   ]
  },
  {
   "cell_type": "markdown",
   "id": "686295b7-be87-413c-9756-b0d3f2d5daf1",
   "metadata": {},
   "source": [
    "```{admonition} Values\n",
    "<div align=\"justify\">value() es un método incorporado en el lenguaje de programación Python que devuelve un objeto de vista. El objeto de vista contiene los valores del diccionario, como una lista. Si utiliza el método type() en el valor de retorno, obtendrá el \"objeto dict_values\". Debe emitirse para obtener la lista real. Por ejemplo, el texto \"Hola mundo\" es un valor.</div>\n",
    "```"
   ]
  },
  {
   "cell_type": "markdown",
   "id": "f7597388-cfce-4964-934b-6d0f162f7c92",
   "metadata": {},
   "source": [
    "## Tipos (Types)"
   ]
  },
  {
   "cell_type": "markdown",
   "id": "93efb214",
   "metadata": {},
   "source": [
    "```{admonition} Types()\n",
    "<div align=\"justify\">La función types() devuelve el tipo de objeto o devuelve un nuevo tipo de objeto según los argumentos pasados.</div>\n",
    "```\n",
    "\n"
   ]
  },
  {
   "cell_type": "code",
   "execution_count": 9,
   "id": "2039d781",
   "metadata": {},
   "outputs": [
    {
     "data": {
      "text/plain": [
       "str"
      ]
     },
     "execution_count": 9,
     "metadata": {},
     "output_type": "execute_result"
    }
   ],
   "source": [
    "type(\"Hola Mundo\")"
   ]
  },
  {
   "cell_type": "code",
   "execution_count": 10,
   "id": "c66f9ab5",
   "metadata": {},
   "outputs": [
    {
     "data": {
      "text/plain": [
       "int"
      ]
     },
     "execution_count": 10,
     "metadata": {},
     "output_type": "execute_result"
    }
   ],
   "source": [
    "type(2)"
   ]
  },
  {
   "cell_type": "code",
   "execution_count": 11,
   "id": "73aec440",
   "metadata": {},
   "outputs": [
    {
     "data": {
      "text/plain": [
       "float"
      ]
     },
     "execution_count": 11,
     "metadata": {},
     "output_type": "execute_result"
    }
   ],
   "source": [
    "type(10.9)"
   ]
  },
  {
   "cell_type": "code",
   "execution_count": null,
   "id": "bdb54b5a",
   "metadata": {},
   "outputs": [],
   "source": [
    "a=4+5j\n",
    "type(a)"
   ]
  },
  {
   "cell_type": "markdown",
   "id": "d78a5060",
   "metadata": {},
   "source": [
    "La **Lista** es una colección ordenada de tipos de elementos similares o diferentes separados por comas y entre corchetes"
   ]
  },
  {
   "cell_type": "code",
   "execution_count": null,
   "id": "cff6fae3",
   "metadata": {},
   "outputs": [],
   "source": [
    "idiomas = [\"Swift\", \"Java\", \"Python\"]\n",
    "type(idiomas)"
   ]
  },
  {
   "cell_type": "markdown",
   "id": "c57cdd86",
   "metadata": {},
   "source": [
    "La **Tupla** es una secuencia ordenada de elementos igual que una lista. La única diferencia es que las tuplas son inmutables. Las tuplas una vez creadas no se pueden modificar."
   ]
  },
  {
   "cell_type": "code",
   "execution_count": 12,
   "id": "8cfb84e2",
   "metadata": {},
   "outputs": [
    {
     "data": {
      "text/plain": [
       "tuple"
      ]
     },
     "execution_count": 12,
     "metadata": {},
     "output_type": "execute_result"
    }
   ],
   "source": [
    "productos = ('Xbox', 499.99)\n",
    "type(productos)"
   ]
  },
  {
   "cell_type": "markdown",
   "id": "7458f7a8",
   "metadata": {},
   "source": [
    "El **Diccionario** Python es una colección ordenada de elementos. Almacena elementos en pares clave/valor. Las claves son identificadores únicos que están asociados con cada valor.\n"
   ]
  },
  {
   "cell_type": "code",
   "execution_count": 13,
   "id": "ed5137e4",
   "metadata": {},
   "outputs": [
    {
     "data": {
      "text/plain": [
       "dict"
      ]
     },
     "execution_count": 13,
     "metadata": {},
     "output_type": "execute_result"
    }
   ],
   "source": [
    "capital_nacionales = {'Chile': 'Santiago', 'Paraguay': 'Asunción', 'Brasil': 'Brasilia'}\n",
    "type(capital_nacionales)"
   ]
  },
  {
   "cell_type": "markdown",
   "id": "fd5b45d4-e76a-47f4-aa11-42f6dbfc94bc",
   "metadata": {},
   "source": [
    "## Variables"
   ]
  },
  {
   "cell_type": "markdown",
   "id": "a66761f2-1baa-43bc-96f5-2411b33b81ac",
   "metadata": {},
   "source": [
    "```{admonition} Variables\n",
    "<div align=\"justify\">Una <strong>Variable</strong> hace referencia a un valor(dato). Una variable se vincula a un valor a través de un operador de asignación, el cual se denota con el <strong>signo igual(=)</strong>.</div> \n",
    "```"
   ]
  },
  {
   "cell_type": "code",
   "execution_count": 30,
   "id": "e502f352-1d5c-4924-bc88-c4f3db7a2e5d",
   "metadata": {
    "tags": []
   },
   "outputs": [
    {
     "name": "stdout",
     "output_type": "stream",
     "text": [
      "3.14\n"
     ]
    }
   ],
   "source": [
    "mynumber= 3.14\n",
    "print(mynumber)"
   ]
  },
  {
   "cell_type": "code",
   "execution_count": 31,
   "id": "1badc819-6607-4635-9bc5-702b533135e1",
   "metadata": {
    "tags": []
   },
   "outputs": [
    {
     "data": {
      "text/plain": [
       "3.14"
      ]
     },
     "execution_count": 31,
     "metadata": {},
     "output_type": "execute_result"
    }
   ],
   "source": [
    "mynumber= 3.14\n",
    "mynumber"
   ]
  },
  {
   "cell_type": "code",
   "execution_count": 32,
   "id": "00c8953e-b654-4685-8521-3305a07433d0",
   "metadata": {
    "tags": []
   },
   "outputs": [
    {
     "data": {
      "text/plain": [
       "'muy grande'"
      ]
     },
     "execution_count": 32,
     "metadata": {},
     "output_type": "execute_result"
    }
   ],
   "source": [
    "casa= \"muy grande\"\n",
    "casa"
   ]
  },
  {
   "cell_type": "markdown",
   "id": "ea77d7d2-5b5a-464d-9f74-855e9ff192d9",
   "metadata": {},
   "source": [
    "`````{admonition} Asignación o reasignación de una variable\n",
    ":class: tip\n",
    "\n",
    "<div align=\"justify\">En Python se puede <strong>reasignar una variable</strong>. Esto significa que puedes conectar un valor diferente con un previamente asignado en otra variable.</div>\n",
    "<div align=\"justify\">Recuerda que para signar o reasignar:<strong> siempre se debe definir la variable previamente antes de imprimirla por pantalla</strong>, ya que Python siempre considera el último valor <strong>\"corrido\".</strong></div>\n",
    "`````"
   ]
  },
  {
   "cell_type": "markdown",
   "id": "b86cb854-79ba-42b3-8340-fad5c82a27a1",
   "metadata": {},
   "source": [
    "### Nombre de las Variables"
   ]
  },
  {
   "cell_type": "markdown",
   "id": "9fc4f7fe-c06b-4882-a29f-71a8a0f40242",
   "metadata": {},
   "source": [
    "- <strong>Deben ser significativos y autoexplicativos</strong>."
   ]
  },
  {
   "cell_type": "code",
   "execution_count": 2,
   "id": "9351a4f5-5f6e-49e1-8aff-7209daa9c86b",
   "metadata": {
    "tags": []
   },
   "outputs": [
    {
     "data": {
      "text/plain": [
       "5.4"
      ]
     },
     "execution_count": 2,
     "metadata": {},
     "output_type": "execute_result"
    }
   ],
   "source": [
    "promedio=5.4\n",
    "promedio"
   ]
  },
  {
   "cell_type": "markdown",
   "id": "dec644cd-1ab9-46eb-8884-ab39ead80f01",
   "metadata": {
    "tags": []
   },
   "source": [
    "- <strong>Si ocupa más de dos palabras deben estar unidas. No puede incluir espacios</strong>."
   ]
  },
  {
   "cell_type": "code",
   "execution_count": 37,
   "id": "bbf01527-0ee5-4b8d-a063-60d92ad07fef",
   "metadata": {},
   "outputs": [
    {
     "data": {
      "text/plain": [
       "5.4"
      ]
     },
     "execution_count": 37,
     "metadata": {},
     "output_type": "execute_result"
    }
   ],
   "source": [
    "promedio_notas=5.4\n",
    "promedio_notas"
   ]
  },
  {
   "cell_type": "markdown",
   "id": "274e2e0f-da4b-4f9f-b076-f9129ee1193c",
   "metadata": {
    "tags": []
   },
   "source": [
    "- <strong>No puede comenzar con números</strong>."
   ]
  },
  {
   "cell_type": "code",
   "execution_count": 38,
   "id": "642ab243-cdda-48bd-8045-293306e9922b",
   "metadata": {
    "tags": []
   },
   "outputs": [
    {
     "ename": "SyntaxError",
     "evalue": "invalid decimal literal (3165457419.py, line 1)",
     "output_type": "error",
     "traceback": [
      "\u001b[0;36m  Cell \u001b[0;32mIn[38], line 1\u001b[0;36m\u001b[0m\n\u001b[0;31m    1promedio_notas=5.4\u001b[0m\n\u001b[0m    ^\u001b[0m\n\u001b[0;31mSyntaxError\u001b[0m\u001b[0;31m:\u001b[0m invalid decimal literal\n"
     ]
    }
   ],
   "source": [
    "1promedio_notas=5.4\n",
    "1promedio_notas"
   ]
  },
  {
   "cell_type": "markdown",
   "id": "b75a994c-e17f-4e11-8ca3-8ddb57c2f888",
   "metadata": {},
   "source": [
    "- <strong>No puede incluir caracteres especiales: @, -, +,*, etc.</strong>."
   ]
  },
  {
   "cell_type": "code",
   "execution_count": 39,
   "id": "ce6b0d1d-4d1d-42d1-b64c-de9daa006228",
   "metadata": {
    "tags": []
   },
   "outputs": [
    {
     "ename": "SyntaxError",
     "evalue": "invalid syntax. Maybe you meant '==' or ':=' instead of '='? (2848553709.py, line 1)",
     "output_type": "error",
     "traceback": [
      "\u001b[0;36m  Cell \u001b[0;32mIn[39], line 1\u001b[0;36m\u001b[0m\n\u001b[0;31m    @promedio=5.5\u001b[0m\n\u001b[0m     ^\u001b[0m\n\u001b[0;31mSyntaxError\u001b[0m\u001b[0;31m:\u001b[0m invalid syntax. Maybe you meant '==' or ':=' instead of '='?\n"
     ]
    }
   ],
   "source": [
    "@promedio=5.5\n",
    "@promedio"
   ]
  },
  {
   "cell_type": "markdown",
   "id": "50886e19-19e1-4b1f-a62c-7c95afbad2c8",
   "metadata": {},
   "source": [
    "- <strong>No puede incluir las claves de Python: and, for, return, True,False if ...etc</strong>."
   ]
  },
  {
   "cell_type": "code",
   "execution_count": 40,
   "id": "203c8d8f-fb54-45d6-a385-659cc06cde1b",
   "metadata": {
    "tags": []
   },
   "outputs": [
    {
     "ename": "SyntaxError",
     "evalue": "cannot assign to True (2913486565.py, line 1)",
     "output_type": "error",
     "traceback": [
      "\u001b[0;36m  Cell \u001b[0;32mIn[40], line 1\u001b[0;36m\u001b[0m\n\u001b[0;31m    True=5.4\u001b[0m\n\u001b[0m    ^\u001b[0m\n\u001b[0;31mSyntaxError\u001b[0m\u001b[0;31m:\u001b[0m cannot assign to True\n"
     ]
    }
   ],
   "source": [
    "True=5.4\n",
    "True"
   ]
  },
  {
   "cell_type": "code",
   "execution_count": 41,
   "id": "294b501b-7fd1-46b2-ba8c-71027b801acb",
   "metadata": {
    "tags": []
   },
   "outputs": [
    {
     "name": "stdout",
     "output_type": "stream",
     "text": [
      "['False', 'None', 'True', 'and', 'as', 'assert', 'async', 'await', 'break', 'class', 'continue', 'def', 'del', 'elif', 'else', 'except', 'finally', 'for', 'from', 'global', 'if', 'import', 'in', 'is', 'lambda', 'nonlocal', 'not', 'or', 'pass', 'raise', 'return', 'try', 'while', 'with', 'yield']\n"
     ]
    }
   ],
   "source": [
    "import keyword\n",
    "print(keyword.kwlist)"
   ]
  },
  {
   "cell_type": "markdown",
   "id": "8a5807ed",
   "metadata": {},
   "source": [
    "## Práctica"
   ]
  },
  {
   "cell_type": "markdown",
   "id": "fd27525a-d206-4865-a01f-6f4d5a44fd01",
   "metadata": {},
   "source": [
    "### Resuelve la siguiente lista de ejercicios"
   ]
  },
  {
   "cell_type": "markdown",
   "id": "4a7053e5",
   "metadata": {},
   "source": [
    "- ¿Cuántos segundos tiene 24 minutos y 36 segundos?"
   ]
  },
  {
   "cell_type": "markdown",
   "id": "dbc10345-42dc-422b-bc24-9253ce5720c0",
   "metadata": {},
   "source": [
    "- ¿Cuánto es 2 elevado a 14?"
   ]
  },
  {
   "cell_type": "markdown",
   "id": "97f9aaaa-d7a7-4afd-89b6-a1c256b8d48b",
   "metadata": {},
   "source": [
    "- Imprime la siguiente frase: Yo quiero aprender Python :)"
   ]
  },
  {
   "cell_type": "markdown",
   "id": "8198ab68",
   "metadata": {},
   "source": [
    "- ¿Cuál es la diferencia entre 15 y \"15\" en cuanto tipo de valor?"
   ]
  },
  {
   "cell_type": "markdown",
   "id": "105b6c5b-d770-4d05-90b1-30e237591c2b",
   "metadata": {},
   "source": [
    "- Escribe un programa que contenga las siguientes variables:\n",
    "1. nombre: tipo string y valor \"Michael Jordan\"\n",
    "2. edad: tipo integer y valor 50\n",
    "3. media_puntos: tipo float y valor 28.5\n",
    "4. activo: False\n",
    "5. El programa deberá mostrar en pantalla todos los valores."
   ]
  },
  {
   "cell_type": "markdown",
   "id": "762ed378-e631-4ceb-ad8a-8ac3fb369ca1",
   "metadata": {},
   "source": [
    "- Escribe un programa que solicite el nombre, rut y edad y los muestre por pantalla los valores introducidos."
   ]
  },
  {
   "cell_type": "markdown",
   "id": "0511a4ec-311f-4617-8f53-45d2f269f9fa",
   "metadata": {},
   "source": [
    "- Crea un programa que solicite al usuario el radio de un círculo y calcule el área. Nota: Utiliza 3.14159 como número PI para el cálculo del área."
   ]
  },
  {
   "cell_type": "markdown",
   "id": "e9d5e119-35bc-4594-aee3-caf5162549b1",
   "metadata": {},
   "source": [
    "- Crea un programa que solicite un número al usuario y devuelva el siguiente mensaje:\n",
    "1. Si es mayor que 0: \"Es un número positivo.\"\n",
    "2. Si es igual a 0: \"Es igual a cero.\n",
    "3. Si es menor que 0: \"Es un número negativo.\""
   ]
  },
  {
   "cell_type": "markdown",
   "id": "cc05b3c5-36b0-4d45-bf75-adb0c96a6f84",
   "metadata": {},
   "source": [
    "- Dada la siguiente lista [1, 2, 5, 9, 11, 13] realiza las siguientes operaciones y vete mostrando la lista resultante por pantalla:\n",
    "1. Elimina el último número y añádelo al principio.\n",
    "2. Mueve el segundo elemento a la última posición.\n",
    "3. Añade el número 14 al comienzo de la lista.\n",
    "4. Suma todos los números de la lista y añade el resultado al final de la lista.\n",
    "5. Fusiona la lista actual con la siguiente: [4, 10, 3]\n",
    "6. Elimina todos los números impares de la lista.\n",
    "7. Ordena los números de la lista de forma ascendente.\n",
    "8. Vacía la lista."
   ]
  },
  {
   "cell_type": "markdown",
   "id": "a26c3da6-5e28-4031-994e-b0cbbbce3874",
   "metadata": {},
   "source": [
    "### Solucionario"
   ]
  },
  {
   "cell_type": "markdown",
   "id": "6eac7949-6ff5-4e54-855a-1c76c2d2f265",
   "metadata": {},
   "source": [
    "```{warning}\n",
    "Recuerda que los algoritmos  que se ofrecen en este solucionario no son respuestas únicas y son solo guías para orientar el aprendizaje.\n",
    "```"
   ]
  },
  {
   "cell_type": "markdown",
   "id": "fdf6e609-e5a6-4329-b4cf-f3d202f2d5bd",
   "metadata": {},
   "source": [
    "- ¿Cuántos segundos tiene 24 minutos y 36 segundos?"
   ]
  },
  {
   "cell_type": "code",
   "execution_count": 14,
   "id": "8cccc4c1-b01b-400c-875f-793993a99b00",
   "metadata": {},
   "outputs": [
    {
     "data": {
      "text/plain": [
       "1476"
      ]
     },
     "execution_count": 14,
     "metadata": {},
     "output_type": "execute_result"
    }
   ],
   "source": [
    "24*60+36"
   ]
  },
  {
   "cell_type": "markdown",
   "id": "cf6b8f94-a3b1-4eae-bd20-ef61599f7462",
   "metadata": {},
   "source": [
    "- ¿Cuánto es 2 elevado a 14?"
   ]
  },
  {
   "cell_type": "code",
   "execution_count": 15,
   "id": "505b544c-551d-4f53-ae0c-8763cb64e6e8",
   "metadata": {},
   "outputs": [
    {
     "data": {
      "text/plain": [
       "16384"
      ]
     },
     "execution_count": 15,
     "metadata": {},
     "output_type": "execute_result"
    }
   ],
   "source": [
    "2**14"
   ]
  },
  {
   "cell_type": "markdown",
   "id": "b45b718a-1f7f-4edb-a452-c7471bf516b9",
   "metadata": {},
   "source": [
    "- Imprime la siguiente frase: Yo quiero aprender Python :)"
   ]
  },
  {
   "cell_type": "code",
   "execution_count": 16,
   "id": "90a3279b-d413-4423-aa2d-f60fce941b98",
   "metadata": {},
   "outputs": [
    {
     "name": "stdout",
     "output_type": "stream",
     "text": [
      "Yo quiero aprender Python :)\n"
     ]
    }
   ],
   "source": [
    "print(\"Yo quiero aprender Python :)\")"
   ]
  },
  {
   "cell_type": "markdown",
   "id": "d11747aa-ccda-4f64-93aa-08202d1070d0",
   "metadata": {},
   "source": [
    "- ¿Cuál es la diferencia entre 15 y \"15\" en cuanto tipo de valor?"
   ]
  },
  {
   "cell_type": "code",
   "execution_count": 17,
   "id": "8cc5569f-3088-420b-8db0-5b52c3291e87",
   "metadata": {},
   "outputs": [
    {
     "data": {
      "text/plain": [
       "int"
      ]
     },
     "execution_count": 17,
     "metadata": {},
     "output_type": "execute_result"
    }
   ],
   "source": [
    "type(15)"
   ]
  },
  {
   "cell_type": "code",
   "execution_count": 18,
   "id": "441de988-bbc6-4d0e-aeff-c87317cdc43d",
   "metadata": {},
   "outputs": [
    {
     "data": {
      "text/plain": [
       "str"
      ]
     },
     "execution_count": 18,
     "metadata": {},
     "output_type": "execute_result"
    }
   ],
   "source": [
    "type(\"15\")"
   ]
  },
  {
   "cell_type": "markdown",
   "id": "771816bb-32a2-4ce4-ae8b-6750d7312c17",
   "metadata": {},
   "source": [
    "- Escribe un programa que contenga las siguientes variables:\n",
    "1. nombre: tipo string y valor \"Michael Jordan\"\n",
    "2. edad: tipo integer y valor 50\n",
    "3. media_puntos: tipo float y valor 28.5\n",
    "4. activo: False\n",
    "5. El programa deberá mostrar en pantalla todos los valores."
   ]
  },
  {
   "cell_type": "code",
   "execution_count": 2,
   "id": "4c9b819e-0f1e-47fa-b18e-ca68711a8a96",
   "metadata": {},
   "outputs": [
    {
     "name": "stdout",
     "output_type": "stream",
     "text": [
      "Nombre: Michael Jordan\n",
      "Edad: 50\n",
      "Media de puntos: 28.5\n",
      "Activo: False\n"
     ]
    }
   ],
   "source": [
    "nombre = \"Michael Jordan\" \n",
    "edad = 50\n",
    "media_puntos = 28.5 \n",
    "activo = False\n",
    "print(\"Nombre:\", nombre)\n",
    "print(\"Edad:\", edad)\n",
    "print(\"Media de puntos:\", media_puntos)\n",
    "print(\"Activo:\", activo)"
   ]
  },
  {
   "cell_type": "markdown",
   "id": "41cb99b3-89cd-4eae-a7e1-37e1076725b5",
   "metadata": {},
   "source": [
    "- Escribe un programa que solicite el nombre, rut y edad y los muestre por pantalla los valores introducidos."
   ]
  },
  {
   "cell_type": "code",
   "execution_count": 3,
   "id": "63cb2238-d245-49ff-9f94-9f4b8a99f578",
   "metadata": {},
   "outputs": [
    {
     "name": "stdin",
     "output_type": "stream",
     "text": [
      "Introduce tu nombre:  claudio\n",
      "Introduce tu RUT:  12\n",
      "Introduce tu edad:  456\n"
     ]
    },
    {
     "name": "stdout",
     "output_type": "stream",
     "text": [
      "\n",
      "Los valores introducidos son:\n",
      "Nombre: claudio\n",
      "RUT: 12\n",
      "Edad: 456\n"
     ]
    }
   ],
   "source": [
    "nombre = input(\"Introduce tu nombre: \") \n",
    "rut = input(\"Introduce tu RUT: \")\n",
    "edad = int(input(\"Introduce tu edad: \"))\n",
    "# Mostrar los valores introducidos por el usuario\n",
    "print(\"\\nLos valores introducidos son:\")\n",
    "print(\"Nombre:\", nombre)\n",
    "print(\"RUT:\", rut)\n",
    "print(\"Edad:\", edad)"
   ]
  },
  {
   "cell_type": "markdown",
   "id": "a4e5228b-e971-459c-b24c-12215cc82f81",
   "metadata": {},
   "source": [
    "- Crea un programa que solicite al usuario el radio de un círculo y calcule el área. Nota: Utiliza 3.14159 como número PI para el cálculo del área."
   ]
  },
  {
   "cell_type": "code",
   "execution_count": 5,
   "id": "722bc81e-4aa0-47f9-a79d-651b714d8817",
   "metadata": {},
   "outputs": [
    {
     "name": "stdin",
     "output_type": "stream",
     "text": [
      "Introduce el radio de una circunferencia :  786\n"
     ]
    },
    {
     "name": "stdout",
     "output_type": "stream",
     "text": [
      "El área de la ciruncferencia es: 1940861.7356399999\n"
     ]
    }
   ],
   "source": [
    "numero=int(input (\"Introduce el radio de una circunferencia : \")) \n",
    "resultado= (numero**2*3.14159)\n",
    "print(f\"El área de la ciruncferencia es: {resultado}\")"
   ]
  },
  {
   "cell_type": "markdown",
   "id": "396ec163-a783-4422-bff7-82e60460a66c",
   "metadata": {},
   "source": [
    "- Crea un programa que solicite un número al usuario y devuelva el siguiente mensaje:\n",
    "1. Si es mayor que 0: \"Es un número positivo.\"\n",
    "2. Si es igual a 0: \"Es igual a cero.\n",
    "3. Si es menor que 0: \"Es un número negativo.\""
   ]
  },
  {
   "cell_type": "code",
   "execution_count": 9,
   "id": "481e16f7-0caa-40d4-9826-44dcb7bcdf68",
   "metadata": {},
   "outputs": [
    {
     "name": "stdin",
     "output_type": "stream",
     "text": [
      "Introduce un número:  897\n"
     ]
    },
    {
     "name": "stdout",
     "output_type": "stream",
     "text": [
      "Es un número positivo.\n"
     ]
    }
   ],
   "source": [
    "# Solicitar un número al usuario\n",
    "numero = float(input(\"Introduce un número: \"))\n",
    "# Comprobar si es positivo, cero o negativo y mostrar el mensaje correspondi\n",
    "if numero > 0:\n",
    "    print(\"Es un número positivo.\")\n",
    "elif numero == 0:\n",
    "    print(\"Es igual a cero.\")\n",
    "else:\n",
    "    print(\"Es un número negativo.\")"
   ]
  },
  {
   "cell_type": "markdown",
   "id": "0241e524-9408-4080-9b12-f0e2adafd872",
   "metadata": {},
   "source": [
    "- Dada la siguiente lista [1, 2, 5, 9, 11, 13] realiza las siguientes operaciones y vete mostrando la lista resultante por pantalla:\n",
    "1. Elimina el último número y añádelo al principio.\n",
    "2. Mueve el segundo elemento a la última posición.\n",
    "3. Añade el número 14 al comienzo de la lista.\n",
    "4. Suma todos los números de la lista y añade el resultado al final de la lista.\n",
    "5. Fusiona la lista actual con la siguiente: [4, 10, 3]\n",
    "6. Elimina todos los números impares de la lista.\n",
    "7. Ordena los números de la lista de forma ascendente.\n",
    "8. Vacía la lista."
   ]
  },
  {
   "cell_type": "code",
   "execution_count": 14,
   "id": "ad881a32-0fe6-4da9-aadd-c66144c0f7dd",
   "metadata": {},
   "outputs": [
    {
     "name": "stdout",
     "output_type": "stream",
     "text": [
      "Lista original: [1, 2, 5, 9, 11, 13]\n",
      "Lista después de mover el último elemento al principio: [13, 1, 2, 5, 9, 11]\n",
      "Lista después de mover el segundo elemento a la última posición: [13, 2, 5, 9, 11, 1]\n",
      "Lista después de añadir el número 14 al comienzo: [14, 13, 2, 5, 9, 11, 1]\n",
      "Lista después de añadir la suma de todos sus elementos al final: [14, 13, 2, 5, 9, 11, 1, 55]\n",
      "Lista después de fusionarla con la lista [4, 10, 3]: [14, 13, 2, 5, 9, 11, 1, 55, 4, 10, 3]\n",
      "Lista después de eliminar todos los números impares: [14, 2, 4, 10]\n",
      "Lista después de ordenarla de forma ascendente: [2, 4, 10, 14]\n",
      "Lista vacía: []\n"
     ]
    }
   ],
   "source": [
    "# Definir la lista\n",
    "lista = [1, 2, 5, 9, 11, 13]\n",
    "print(\"Lista original:\", lista)\n",
    "\n",
    "# Eliminar el último número y añadirlo al principio\n",
    "ultimo = lista.pop()\n",
    "lista.insert(0, ultimo)\n",
    "print(\"Lista después de mover el último elemento al principio:\", lista)\n",
    "\n",
    "# Mover el segundo elemento a la última posición\n",
    "segundo = lista.pop(1)\n",
    "lista.append(segundo)\n",
    "print(\"Lista después de mover el segundo elemento a la última posición:\", lista)\n",
    "\n",
    "# Añadir el número 14 al comienzo de la lista\n",
    "lista.insert(0, 14)\n",
    "print(\"Lista después de añadir el número 14 al comienzo:\", lista)\n",
    "\n",
    "# Sumar todos los números de la lista y añadir el resultado al final\n",
    "suma = sum(lista)\n",
    "lista.append(suma)\n",
    "print(\"Lista después de añadir la suma de todos sus elementos al final:\", lista)\n",
    "\n",
    "# Fusionar la lista actual con la lista [4, 10, 3]\n",
    "lista.extend([4, 10, 3])\n",
    "print(\"Lista después de fusionarla con la lista [4, 10, 3]:\", lista)\n",
    "\n",
    "# Eliminar todos los números impares de la lista\n",
    "lista = [x for x in lista if x % 2 == 0]\n",
    "print(\"Lista después de eliminar todos los números impares:\", lista)\n",
    "\n",
    "# Ordenar los números de la lista de forma ascendente\n",
    "lista.sort()\n",
    "print(\"Lista después de ordenarla de forma ascendente:\", lista)\n",
    "\n",
    "# Vaciar la lista\n",
    "lista.clear()\n",
    "print(\"Lista vacía:\", lista)"
   ]
  },
  {
   "cell_type": "code",
   "execution_count": null,
   "id": "9c36e139-107e-4561-b1d1-5bd3b287601f",
   "metadata": {},
   "outputs": [],
   "source": []
  }
 ],
 "metadata": {
  "kernelspec": {
   "display_name": "Python 3",
   "language": "python",
   "name": "python3"
  },
  "language_info": {
   "codemirror_mode": {
    "name": "ipython",
    "version": 3
   },
   "file_extension": ".py",
   "mimetype": "text/x-python",
   "name": "python",
   "nbconvert_exporter": "python",
   "pygments_lexer": "ipython3",
   "version": "3.8.18"
  },
  "toc-autonumbering": false
 },
 "nbformat": 4,
 "nbformat_minor": 5
}

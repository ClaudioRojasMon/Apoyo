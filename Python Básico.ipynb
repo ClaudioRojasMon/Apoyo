{
 "cells": [
  {
   "cell_type": "markdown",
   "id": "29a68ad6-d82d-4f54-bf88-592f081d825e",
   "metadata": {},
   "source": [
    "# Introducción a Python"
   ]
  },
  {
   "cell_type": "markdown",
   "id": "7040b23a-f712-4954-9188-ee4d5b71b93d",
   "metadata": {},
   "source": [
    "## Mi Primer Código"
   ]
  },
  {
   "cell_type": "markdown",
   "id": "c43e6a79-c251-4855-848d-5a1c669ca12b",
   "metadata": {},
   "source": [
    "```{admonition} Hello World \n",
    "<div align=\"justify\">Uno de los primeros códigos escritos por los programadores fue el texto <strong>“¡Hola mundo!”</strong>. Desde la serie estadounidense “Mr. Robot”, esta simple pero enigmática frase ha alcanzado el estatus de ritual. En la comunidad de programadores, ha sido un activo cultural sólido durante mucho tiempo.En pocas palabras, un programa Hello World es un simple código cuya tarea es emitir el texto <strong>“¡Hello World!”</strong> o <strong>“¡Hola mundo!”</strong>. No hay nada más fácil que crear un programa Hello World y ver uno mismo el resultado al instante. </div>\n",
    "```"
   ]
  },
  {
   "cell_type": "code",
   "execution_count": 4,
   "id": "dff102be",
   "metadata": {},
   "outputs": [
    {
     "name": "stdout",
     "output_type": "stream",
     "text": [
      "hola mundo\n",
      "Hola Mundo\n",
      "Hello World\n",
      "hello world\n"
     ]
    }
   ],
   "source": [
    "print(\"hola mundo\")\n",
    "print(\"Hola Mundo\")\n",
    "print(\"Hello World\")\n",
    "print(\"hello world\")"
   ]
  },
  {
   "cell_type": "markdown",
   "id": "f1343484-c49d-4f71-b84a-105f5a165f88",
   "metadata": {},
   "source": [
    "::::{grid}\n",
    ":gutter: 3\n",
    "\n",
    ":::{grid-item-card} **C++!**\n",
    "#include <iostream>\n",
    "int main()\n",
    "{\n",
    "    std::cout << \"¡Hola mundo!\" << std::endl;\n",
    "}\n",
    ":::\n",
    "\n",
    ":::{grid-item-card} **JavaScript!**\n",
    "document.write(\"¡Hola mundo!\");\n",
    ":::\n",
    "\n",
    ":::{grid-item-card} **SQL!**\n",
    "SELECT '¡Hola mundo!' AS message;\n",
    ":::\n",
    "::::"
   ]
  },
  {
   "cell_type": "markdown",
   "id": "45bf1f89-00c0-4306-9f76-6c40aad4dc0a",
   "metadata": {},
   "source": [
    "## Operaciones Aritméticas"
   ]
  },
  {
   "cell_type": "markdown",
   "id": "b87da0a8-6329-467f-beb8-5c96def1f5e7",
   "metadata": {},
   "source": [
    "```{admonition} ¿Qué son los operadores aritméticos?\n",
    "<div align=\"justify\">Los <strong>operadores aritméticos</strong> o <strong>arithmetic operators</strong> son los más comunes que nos podemos encontrar, y nos permiten realizar operaciones aritméticas sencillas, como pueden ser la suma, resta o exponente.</div>\n",
    "```"
   ]
  },
  {
   "cell_type": "code",
   "execution_count": 2,
   "id": "65407038",
   "metadata": {},
   "outputs": [],
   "source": [
    "x= 10\n",
    "y= 20"
   ]
  },
  {
   "cell_type": "code",
   "execution_count": 2,
   "id": "d0788253",
   "metadata": {},
   "outputs": [
    {
     "data": {
      "text/plain": [
       "30"
      ]
     },
     "execution_count": 2,
     "metadata": {},
     "output_type": "execute_result"
    }
   ],
   "source": [
    "x+y"
   ]
  },
  {
   "cell_type": "markdown",
   "id": "dc1984eb",
   "metadata": {},
   "source": [
    "- **Módulo Operador(%)**: devuelve el resto de dividir el operador izquierdo por el operador derecho. Se utiliza para obtener el resto de una división. Por ejemplo, cuando divides 10 en 3, el resto es 1. Si dividieras 64 por 5, el resto sería 4. "
   ]
  },
  {
   "cell_type": "code",
   "execution_count": 5,
   "id": "577cc1de",
   "metadata": {},
   "outputs": [
    {
     "data": {
      "text/plain": [
       "4"
      ]
     },
     "execution_count": 5,
     "metadata": {},
     "output_type": "execute_result"
    }
   ],
   "source": [
    "64%5"
   ]
  },
  {
   "cell_type": "code",
   "execution_count": 6,
   "id": "ab75eed3",
   "metadata": {},
   "outputs": [
    {
     "data": {
      "text/plain": [
       "1"
      ]
     },
     "execution_count": 6,
     "metadata": {},
     "output_type": "execute_result"
    }
   ],
   "source": [
    "9%2"
   ]
  },
  {
   "cell_type": "markdown",
   "id": "5413ea4a",
   "metadata": {},
   "source": [
    "- **Exponencial**: significa el operrador de potencia: \n",
    "3**2 es \"10 a la potencia de 3\" que es 1000. Aqui la base es 10 y el exponente es 3."
   ]
  },
  {
   "cell_type": "code",
   "execution_count": 7,
   "id": "9e5ece1d",
   "metadata": {},
   "outputs": [
    {
     "data": {
      "text/plain": [
       "9"
      ]
     },
     "execution_count": 7,
     "metadata": {},
     "output_type": "execute_result"
    }
   ],
   "source": [
    "3**2"
   ]
  },
  {
   "cell_type": "code",
   "execution_count": 8,
   "id": "f60a5249",
   "metadata": {},
   "outputs": [
    {
     "data": {
      "text/plain": [
       "64"
      ]
     },
     "execution_count": 8,
     "metadata": {},
     "output_type": "execute_result"
    }
   ],
   "source": [
    "4**3"
   ]
  },
  {
   "cell_type": "code",
   "execution_count": 9,
   "id": "923071ca",
   "metadata": {},
   "outputs": [
    {
     "data": {
      "text/plain": [
       "86736173798840354720596224069595336914062500000000000000000000"
      ]
     },
     "execution_count": 9,
     "metadata": {},
     "output_type": "execute_result"
    }
   ],
   "source": [
    "1250**20"
   ]
  },
  {
   "cell_type": "markdown",
   "id": "b149ec3f",
   "metadata": {},
   "source": [
    "- **Cociente**:\n",
    "El // se llama operador Floor Division o Cociente en Python. para comprender la división de pisos, primero debe comprender  el piso de un número real. El piso de un número reaol es el enteero más grande que es menor ao igual que es número. Por ejemplo, el piso de 4.5 es 4 y el piso de 2.4 es 2. \n",
    "\n",
    "En el caso de los números negativos el psio de -4.5 es -5 y el piso dem -2.4 es -3. \n",
    "\n"
   ]
  },
  {
   "cell_type": "code",
   "execution_count": 3,
   "id": "e31f7393",
   "metadata": {},
   "outputs": [
    {
     "data": {
      "text/plain": [
       "4"
      ]
     },
     "execution_count": 3,
     "metadata": {},
     "output_type": "execute_result"
    }
   ],
   "source": [
    "9//2"
   ]
  },
  {
   "cell_type": "code",
   "execution_count": 4,
   "id": "d19f76ea",
   "metadata": {},
   "outputs": [
    {
     "data": {
      "text/plain": [
       "-5"
      ]
     },
     "execution_count": 4,
     "metadata": {},
     "output_type": "execute_result"
    }
   ],
   "source": [
    "-9//2"
   ]
  },
  {
   "cell_type": "code",
   "execution_count": 5,
   "id": "6c80fe3d",
   "metadata": {},
   "outputs": [
    {
     "data": {
      "text/plain": [
       "4"
      ]
     },
     "execution_count": 5,
     "metadata": {},
     "output_type": "execute_result"
    }
   ],
   "source": [
    "-9//-2"
   ]
  },
  {
   "cell_type": "markdown",
   "id": "cbfa033c",
   "metadata": {},
   "source": [
    "## Valores (Values)"
   ]
  },
  {
   "cell_type": "markdown",
   "id": "686295b7-be87-413c-9756-b0d3f2d5daf1",
   "metadata": {},
   "source": [
    "```{admonition} Values\n",
    "<div align=\"justify\">value() es un método incorporado en el lenguaje de programación Python que devuelve un objeto de vista. El objeto de vista contiene los valores del diccionario, como una lista. Si utiliza el método type() en el valor de retorno, obtendrá el \"objeto dict_values\". Debe emitirse para obtener la lista real. Por ejemplo, el texto \"Hola mundo\" es un valor.</div>\n",
    "```"
   ]
  },
  {
   "cell_type": "markdown",
   "id": "f7597388-cfce-4964-934b-6d0f162f7c92",
   "metadata": {},
   "source": [
    "## Tipos (Types)"
   ]
  },
  {
   "cell_type": "markdown",
   "id": "93efb214",
   "metadata": {},
   "source": [
    "```{admonition} Types()\n",
    "<div align=\"justify\">La función types() devuelve el tipo de objeto o devuelve un nuevo tipo de objeto según los argumentos pasados.</div>\n",
    "```\n",
    "\n"
   ]
  },
  {
   "cell_type": "code",
   "execution_count": 9,
   "id": "2039d781",
   "metadata": {},
   "outputs": [
    {
     "data": {
      "text/plain": [
       "str"
      ]
     },
     "execution_count": 9,
     "metadata": {},
     "output_type": "execute_result"
    }
   ],
   "source": [
    "type(\"Hola Mundo\")"
   ]
  },
  {
   "cell_type": "code",
   "execution_count": 10,
   "id": "c66f9ab5",
   "metadata": {},
   "outputs": [
    {
     "data": {
      "text/plain": [
       "int"
      ]
     },
     "execution_count": 10,
     "metadata": {},
     "output_type": "execute_result"
    }
   ],
   "source": [
    "type(2)"
   ]
  },
  {
   "cell_type": "code",
   "execution_count": 11,
   "id": "73aec440",
   "metadata": {},
   "outputs": [
    {
     "data": {
      "text/plain": [
       "float"
      ]
     },
     "execution_count": 11,
     "metadata": {},
     "output_type": "execute_result"
    }
   ],
   "source": [
    "type(10.9)"
   ]
  },
  {
   "cell_type": "code",
   "execution_count": null,
   "id": "bdb54b5a",
   "metadata": {},
   "outputs": [],
   "source": [
    "a=4+5j\n",
    "type(a)"
   ]
  },
  {
   "cell_type": "markdown",
   "id": "d78a5060",
   "metadata": {},
   "source": [
    "La **Lista** es una colección ordenada de tipos de elementos similares o diferentes separados por comas y entre corchetes"
   ]
  },
  {
   "cell_type": "code",
   "execution_count": null,
   "id": "cff6fae3",
   "metadata": {},
   "outputs": [],
   "source": [
    "idiomas = [\"Swift\", \"Java\", \"Python\"]\n",
    "type(idiomas)"
   ]
  },
  {
   "cell_type": "markdown",
   "id": "c57cdd86",
   "metadata": {},
   "source": [
    "La **Tupla** es una secuencia ordenada de elementos igual que una lista. La única diferencia es que las tuplas son inmutables. Las tuplas una vez creadas no se pueden modificar."
   ]
  },
  {
   "cell_type": "code",
   "execution_count": 12,
   "id": "8cfb84e2",
   "metadata": {},
   "outputs": [
    {
     "data": {
      "text/plain": [
       "tuple"
      ]
     },
     "execution_count": 12,
     "metadata": {},
     "output_type": "execute_result"
    }
   ],
   "source": [
    "productos = ('Xbox', 499.99)\n",
    "type(productos)"
   ]
  },
  {
   "cell_type": "markdown",
   "id": "7458f7a8",
   "metadata": {},
   "source": [
    "El **Diccionario** Python es una colección ordenada de elementos. Almacena elementos en pares clave/valor. Las claves son identificadores únicos que están asociados con cada valor.\n"
   ]
  },
  {
   "cell_type": "code",
   "execution_count": 13,
   "id": "ed5137e4",
   "metadata": {},
   "outputs": [
    {
     "data": {
      "text/plain": [
       "dict"
      ]
     },
     "execution_count": 13,
     "metadata": {},
     "output_type": "execute_result"
    }
   ],
   "source": [
    "capital_nacionales = {'Chile': 'Santiago', 'Paraguay': 'Asunción', 'Brasil': 'Brasilia'}\n",
    "type(capital_nacionales)"
   ]
  },
  {
   "cell_type": "markdown",
   "id": "fd5b45d4-e76a-47f4-aa11-42f6dbfc94bc",
   "metadata": {},
   "source": [
    "## Variables"
   ]
  },
  {
   "cell_type": "markdown",
   "id": "a66761f2-1baa-43bc-96f5-2411b33b81ac",
   "metadata": {},
   "source": [
    "```{admonition} Variables\n",
    "<div align=\"justify\">Una <strong>Variable</strong> hace referencia a un valor(dato). Una variable se vincula a un valor a través de un operador de asignación, el cual se denota con el <strong>signo igual(=)</strong>.</div> \n",
    "```"
   ]
  },
  {
   "cell_type": "code",
   "execution_count": 30,
   "id": "e502f352-1d5c-4924-bc88-c4f3db7a2e5d",
   "metadata": {
    "tags": []
   },
   "outputs": [
    {
     "name": "stdout",
     "output_type": "stream",
     "text": [
      "3.14\n"
     ]
    }
   ],
   "source": [
    "mynumber= 3.14\n",
    "print(mynumber)"
   ]
  },
  {
   "cell_type": "code",
   "execution_count": 31,
   "id": "1badc819-6607-4635-9bc5-702b533135e1",
   "metadata": {
    "tags": []
   },
   "outputs": [
    {
     "data": {
      "text/plain": [
       "3.14"
      ]
     },
     "execution_count": 31,
     "metadata": {},
     "output_type": "execute_result"
    }
   ],
   "source": [
    "mynumber= 3.14\n",
    "mynumber"
   ]
  },
  {
   "cell_type": "code",
   "execution_count": 32,
   "id": "00c8953e-b654-4685-8521-3305a07433d0",
   "metadata": {
    "tags": []
   },
   "outputs": [
    {
     "data": {
      "text/plain": [
       "'muy grande'"
      ]
     },
     "execution_count": 32,
     "metadata": {},
     "output_type": "execute_result"
    }
   ],
   "source": [
    "casa= \"muy grande\"\n",
    "casa"
   ]
  },
  {
   "cell_type": "markdown",
   "id": "ea77d7d2-5b5a-464d-9f74-855e9ff192d9",
   "metadata": {},
   "source": [
    "`````{admonition} Asignación o reasignación de una variable\n",
    ":class: tip\n",
    "\n",
    "<div align=\"justify\">En Python se puede <strong>reasignar una variable</strong>. Esto significa que puedes conectar un valor diferente con un previamente asignado en otra variable.</div>\n",
    "<div align=\"justify\">Recuerda que para signar o reasignar:<strong> siempre se debe definir la variable previamente antes de imprimirla por pantalla</strong>, ya que Python siempre considera el último valor <strong>\"corrido\".</strong></div>\n",
    "`````"
   ]
  },
  {
   "cell_type": "markdown",
   "id": "b86cb854-79ba-42b3-8340-fad5c82a27a1",
   "metadata": {},
   "source": [
    "### Nombre de las Variables"
   ]
  },
  {
   "cell_type": "markdown",
   "id": "9fc4f7fe-c06b-4882-a29f-71a8a0f40242",
   "metadata": {},
   "source": [
    "- <strong>Deben ser significativos y autoexplicativos</strong>."
   ]
  },
  {
   "cell_type": "code",
   "execution_count": 2,
   "id": "9351a4f5-5f6e-49e1-8aff-7209daa9c86b",
   "metadata": {
    "tags": []
   },
   "outputs": [
    {
     "data": {
      "text/plain": [
       "5.4"
      ]
     },
     "execution_count": 2,
     "metadata": {},
     "output_type": "execute_result"
    }
   ],
   "source": [
    "promedio=5.4\n",
    "promedio"
   ]
  },
  {
   "cell_type": "markdown",
   "id": "dec644cd-1ab9-46eb-8884-ab39ead80f01",
   "metadata": {
    "tags": []
   },
   "source": [
    "- <strong>Si ocupa más de dos palabras deben estar unidas. No puede incluir espacios</strong>."
   ]
  },
  {
   "cell_type": "code",
   "execution_count": 37,
   "id": "bbf01527-0ee5-4b8d-a063-60d92ad07fef",
   "metadata": {},
   "outputs": [
    {
     "data": {
      "text/plain": [
       "5.4"
      ]
     },
     "execution_count": 37,
     "metadata": {},
     "output_type": "execute_result"
    }
   ],
   "source": [
    "promedio_notas=5.4\n",
    "promedio_notas"
   ]
  },
  {
   "cell_type": "markdown",
   "id": "274e2e0f-da4b-4f9f-b076-f9129ee1193c",
   "metadata": {
    "tags": []
   },
   "source": [
    "- <strong>No puede comenzar con números</strong>."
   ]
  },
  {
   "cell_type": "code",
   "execution_count": 38,
   "id": "642ab243-cdda-48bd-8045-293306e9922b",
   "metadata": {
    "tags": []
   },
   "outputs": [
    {
     "ename": "SyntaxError",
     "evalue": "invalid decimal literal (3165457419.py, line 1)",
     "output_type": "error",
     "traceback": [
      "\u001b[0;36m  Cell \u001b[0;32mIn[38], line 1\u001b[0;36m\u001b[0m\n\u001b[0;31m    1promedio_notas=5.4\u001b[0m\n\u001b[0m    ^\u001b[0m\n\u001b[0;31mSyntaxError\u001b[0m\u001b[0;31m:\u001b[0m invalid decimal literal\n"
     ]
    }
   ],
   "source": [
    "1promedio_notas=5.4\n",
    "1promedio_notas"
   ]
  },
  {
   "cell_type": "markdown",
   "id": "b75a994c-e17f-4e11-8ca3-8ddb57c2f888",
   "metadata": {},
   "source": [
    "- <strong>No puede incluir caracteres especiales: @, -, +,*, etc.</strong>."
   ]
  },
  {
   "cell_type": "code",
   "execution_count": 39,
   "id": "ce6b0d1d-4d1d-42d1-b64c-de9daa006228",
   "metadata": {
    "tags": []
   },
   "outputs": [
    {
     "ename": "SyntaxError",
     "evalue": "invalid syntax. Maybe you meant '==' or ':=' instead of '='? (2848553709.py, line 1)",
     "output_type": "error",
     "traceback": [
      "\u001b[0;36m  Cell \u001b[0;32mIn[39], line 1\u001b[0;36m\u001b[0m\n\u001b[0;31m    @promedio=5.5\u001b[0m\n\u001b[0m     ^\u001b[0m\n\u001b[0;31mSyntaxError\u001b[0m\u001b[0;31m:\u001b[0m invalid syntax. Maybe you meant '==' or ':=' instead of '='?\n"
     ]
    }
   ],
   "source": [
    "@promedio=5.5\n",
    "@promedio"
   ]
  },
  {
   "cell_type": "markdown",
   "id": "50886e19-19e1-4b1f-a62c-7c95afbad2c8",
   "metadata": {},
   "source": [
    "- <strong>No puede incluir las claves de Python: and, for, return, True,False if ...etc</strong>."
   ]
  },
  {
   "cell_type": "code",
   "execution_count": 40,
   "id": "203c8d8f-fb54-45d6-a385-659cc06cde1b",
   "metadata": {
    "tags": []
   },
   "outputs": [
    {
     "ename": "SyntaxError",
     "evalue": "cannot assign to True (2913486565.py, line 1)",
     "output_type": "error",
     "traceback": [
      "\u001b[0;36m  Cell \u001b[0;32mIn[40], line 1\u001b[0;36m\u001b[0m\n\u001b[0;31m    True=5.4\u001b[0m\n\u001b[0m    ^\u001b[0m\n\u001b[0;31mSyntaxError\u001b[0m\u001b[0;31m:\u001b[0m cannot assign to True\n"
     ]
    }
   ],
   "source": [
    "True=5.4\n",
    "True"
   ]
  },
  {
   "cell_type": "code",
   "execution_count": 41,
   "id": "294b501b-7fd1-46b2-ba8c-71027b801acb",
   "metadata": {
    "tags": []
   },
   "outputs": [
    {
     "name": "stdout",
     "output_type": "stream",
     "text": [
      "['False', 'None', 'True', 'and', 'as', 'assert', 'async', 'await', 'break', 'class', 'continue', 'def', 'del', 'elif', 'else', 'except', 'finally', 'for', 'from', 'global', 'if', 'import', 'in', 'is', 'lambda', 'nonlocal', 'not', 'or', 'pass', 'raise', 'return', 'try', 'while', 'with', 'yield']\n"
     ]
    }
   ],
   "source": [
    "import keyword\n",
    "print(keyword.kwlist)"
   ]
  }
 ],
 "metadata": {
  "kernelspec": {
   "display_name": "Python 3",
   "language": "python",
   "name": "python3"
  },
  "language_info": {
   "codemirror_mode": {
    "name": "ipython",
    "version": 3
   },
   "file_extension": ".py",
   "mimetype": "text/x-python",
   "name": "python",
   "nbconvert_exporter": "python",
   "pygments_lexer": "ipython3",
   "version": "3.8.18"
  },
  "toc-autonumbering": false
 },
 "nbformat": 4,
 "nbformat_minor": 5
}
